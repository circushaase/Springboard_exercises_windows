{
 "cells": [
  {
   "cell_type": "markdown",
   "metadata": {},
   "source": [
    "# KeepUp Take-Home Challenge"
   ]
  },
  {
   "cell_type": "markdown",
   "metadata": {},
   "source": [
    "For this exercise, you will analyze a dataset from Amazon. The data format and a\n",
    "sample entry are shown on the next page.\n",
    "\n",
    "## Part A\n",
    "(Suggested duration: 90 mins)\n",
    "With the given data for 548552 products, perform exploratory analysis and make\n",
    "suggestions for further analysis on the following aspects.\n",
    "\n",
    "### Question 1. Trustworthiness of ratings\n",
    "Ratings are susceptible to manipulation, bias etc. What can you say (quantitatively\n",
    "speaking) about the ratings in this dataset?\n"
   ]
  },
  {
   "cell_type": "code",
   "execution_count": 76,
   "metadata": {},
   "outputs": [],
   "source": [
    "#import required libraries\n",
    "import pandas as pd\n",
    "import numpy as np\n",
    "from datetime import datetime\n",
    "%matplotlib inline\n",
    "import matplotlib.pyplot as plt\n",
    "\n",
    "d={}\n",
    "values = []\n",
    "key= 'Header'\n",
    "\n",
    "#read  file \n",
    "with open('amazon-meta.txt', encoding=\"utf8\") as fp:\n",
    "    for line in fp:\n",
    "        if \"Id:\" in line:\n",
    "            d[key] = values\n",
    "            key = line.rstrip('\\n')\n",
    "            values =[]\n",
    "        else:\n",
    "            values.append(line.rstrip('\\n'))\n",
    "d[key] = values"
   ]
  },
  {
   "cell_type": "code",
   "execution_count": 64,
   "metadata": {},
   "outputs": [
    {
     "data": {
      "text/plain": [
       "{'Header': ['# Full information about Amazon Share the Love products',\n",
       "  'Total items: 548552',\n",
       "  ''],\n",
       " 'Id:   0': ['ASIN: 0771044445', '  discontinued product', ''],\n",
       " 'Id:   1': ['ASIN: 0827229534',\n",
       "  '  title: Patterns of Preaching: A Sermon Sampler',\n",
       "  '  group: Book',\n",
       "  '  salesrank: 396585',\n",
       "  '  similar: 5  0804215715  156101074X  0687023955  0687074231  082721619X',\n",
       "  '  categories: 2',\n",
       "  '   |Books[283155]|Subjects[1000]|Religion & Spirituality[22]|Christianity[12290]|Clergy[12360]|Preaching[12368]',\n",
       "  '   |Books[283155]|Subjects[1000]|Religion & Spirituality[22]|Christianity[12290]|Clergy[12360]|Sermons[12370]',\n",
       "  '  reviews: total: 2  downloaded: 2  avg rating: 5',\n",
       "  '    2000-7-28  cutomer: A2JW67OY8U6HHK  rating: 5  votes:  10  helpful:   9',\n",
       "  '    2003-12-14  cutomer: A2VE83MZF98ITY  rating: 5  votes:   6  helpful:   5',\n",
       "  '']}"
      ]
     },
     "execution_count": 64,
     "metadata": {},
     "output_type": "execute_result"
    }
   ],
   "source": [
    "# first 3 entires in dictionary\n",
    "dict(list(d.items())[:3])"
   ]
  },
  {
   "cell_type": "code",
   "execution_count": 78,
   "metadata": {
    "scrolled": true
   },
   "outputs": [
    {
     "data": {
      "text/plain": [
       "{'Id:   548551': ['ASIN: B00005MHUG',\n",
       "  \"  title: That Travelin' Two-Beat/Sings the Great Country Hits\",\n",
       "  '  group: Music',\n",
       "  '  salesrank: 0',\n",
       "  '  similar: 5  B00008OETQ  B00005O6KL  B00006RY87  B0002OTI98  B0000634HG',\n",
       "  '  categories: 6',\n",
       "  '   |Music[5174]|Styles[301668]|Miscellaneous[35]|Nostalgia[67175]',\n",
       "  '   |Music[5174]|Styles[301668]|Broadway & Vocalists[265640]|Classic Vocalists[67178]',\n",
       "  '   |Music[5174]|Styles[301668]|Broadway & Vocalists[265640]|Traditional Vocal Pop[513060]',\n",
       "  '   |Music[5174]|Styles[301668]|Pop[37]|Vocal Pop[406646]|General[513062]',\n",
       "  '   |Music[5174]|Styles[301668]|Pop[37]|Vocal Pop[406646]|Classic[604206]',\n",
       "  '   |Music[5174]|Styles[301668]|Broadway & Vocalists[265640]|General[912012]',\n",
       "  '  reviews: total: 1  downloaded: 1  avg rating: 5',\n",
       "  '    2004-5-31  cutomer:  ABTSEEYVYQ52M  rating: 5  votes:   9  helpful:   9',\n",
       "  '']}"
      ]
     },
     "execution_count": 78,
     "metadata": {},
     "output_type": "execute_result"
    }
   ],
   "source": [
    "# last item in dictionary\n",
    "dict(list(d.items())[-1:])"
   ]
  },
  {
   "cell_type": "code",
   "execution_count": 122,
   "metadata": {},
   "outputs": [],
   "source": [
    "# Extract rating info into df\n",
    "rating_dict = {}\n",
    "discont = 0\n",
    "\n",
    "for k in d.keys():\n",
    "    ident = k.split()[-1]\n",
    "    for v in d[k]:\n",
    "        if v.startswith('  reviews:'):\n",
    "            total = v.split()[2]\n",
    "            downloaded = v.split()[4]\n",
    "            avg_rating = v.split()[7]\n",
    "            rating_dict[ident] = [total, downloaded, avg_rating]\n",
    "        elif v.startswith('  discontinued product'):\n",
    "            discont += 1"
   ]
  },
  {
   "cell_type": "code",
   "execution_count": 132,
   "metadata": {},
   "outputs": [],
   "source": [
    "rating_df = pd.DataFrame.from_dict(rating_dict)\n",
    "rating_df = rating_df.T.reset_index(drop=False)\n",
    "rating_df.columns = ['id', 'total', 'downloaded', 'avg_rating']\n",
    "rating_df['id']  = rating_df['id']#.astype(int)\n",
    "rating_df['total']  = rating_df['total'].astype(int)\n",
    "rating_df['downloaded']  = rating_df['downloaded'].astype(int)\n",
    "rating_df['avg_rating']  = rating_df['avg_rating'].astype(float)\n",
    "rating_df = rating_df.sort_values('id')"
   ]
  },
  {
   "cell_type": "code",
   "execution_count": 134,
   "metadata": {
    "scrolled": true
   },
   "outputs": [
    {
     "name": "stdout",
     "output_type": "stream",
     "text": [
      "Number of Discountinued Items: 5868\n"
     ]
    }
   ],
   "source": [
    "print ('Number of Discountinued Items:', discont)"
   ]
  },
  {
   "cell_type": "code",
   "execution_count": 133,
   "metadata": {
    "scrolled": false
   },
   "outputs": [
    {
     "data": {
      "text/html": [
       "<div>\n",
       "<style scoped>\n",
       "    .dataframe tbody tr th:only-of-type {\n",
       "        vertical-align: middle;\n",
       "    }\n",
       "\n",
       "    .dataframe tbody tr th {\n",
       "        vertical-align: top;\n",
       "    }\n",
       "\n",
       "    .dataframe thead th {\n",
       "        text-align: right;\n",
       "    }\n",
       "</style>\n",
       "<table border=\"1\" class=\"dataframe\">\n",
       "  <thead>\n",
       "    <tr style=\"text-align: right;\">\n",
       "      <th></th>\n",
       "      <th>id</th>\n",
       "      <th>total</th>\n",
       "      <th>downloaded</th>\n",
       "      <th>avg_rating</th>\n",
       "    </tr>\n",
       "  </thead>\n",
       "  <tbody>\n",
       "    <tr>\n",
       "      <th>0</th>\n",
       "      <td>1</td>\n",
       "      <td>2</td>\n",
       "      <td>2</td>\n",
       "      <td>5.0</td>\n",
       "    </tr>\n",
       "    <tr>\n",
       "      <th>1</th>\n",
       "      <td>10</td>\n",
       "      <td>6</td>\n",
       "      <td>6</td>\n",
       "      <td>4.0</td>\n",
       "    </tr>\n",
       "    <tr>\n",
       "      <th>2</th>\n",
       "      <td>100</td>\n",
       "      <td>0</td>\n",
       "      <td>0</td>\n",
       "      <td>0.0</td>\n",
       "    </tr>\n",
       "    <tr>\n",
       "      <th>3</th>\n",
       "      <td>1000</td>\n",
       "      <td>1</td>\n",
       "      <td>1</td>\n",
       "      <td>5.0</td>\n",
       "    </tr>\n",
       "    <tr>\n",
       "      <th>4</th>\n",
       "      <td>10000</td>\n",
       "      <td>0</td>\n",
       "      <td>0</td>\n",
       "      <td>0.0</td>\n",
       "    </tr>\n",
       "  </tbody>\n",
       "</table>\n",
       "</div>"
      ],
      "text/plain": [
       "      id  total  downloaded  avg_rating\n",
       "0      1      2           2         5.0\n",
       "1     10      6           6         4.0\n",
       "2    100      0           0         0.0\n",
       "3   1000      1           1         5.0\n",
       "4  10000      0           0         0.0"
      ]
     },
     "execution_count": 133,
     "metadata": {},
     "output_type": "execute_result"
    }
   ],
   "source": [
    "rating_df.head()"
   ]
  },
  {
   "cell_type": "code",
   "execution_count": 137,
   "metadata": {
    "scrolled": true
   },
   "outputs": [
    {
     "data": {
      "text/html": [
       "<div>\n",
       "<style scoped>\n",
       "    .dataframe tbody tr th:only-of-type {\n",
       "        vertical-align: middle;\n",
       "    }\n",
       "\n",
       "    .dataframe tbody tr th {\n",
       "        vertical-align: top;\n",
       "    }\n",
       "\n",
       "    .dataframe thead th {\n",
       "        text-align: right;\n",
       "    }\n",
       "</style>\n",
       "<table border=\"1\" class=\"dataframe\">\n",
       "  <thead>\n",
       "    <tr style=\"text-align: right;\">\n",
       "      <th></th>\n",
       "      <th>id</th>\n",
       "      <th>total</th>\n",
       "      <th>downloaded</th>\n",
       "      <th>avg_rating</th>\n",
       "    </tr>\n",
       "  </thead>\n",
       "  <tbody>\n",
       "    <tr>\n",
       "      <th>542679</th>\n",
       "      <td>99999</td>\n",
       "      <td>1</td>\n",
       "      <td>1</td>\n",
       "      <td>4.0</td>\n",
       "    </tr>\n",
       "    <tr>\n",
       "      <th>542680</th>\n",
       "      <td>B</td>\n",
       "      <td>4</td>\n",
       "      <td>4</td>\n",
       "      <td>4.5</td>\n",
       "    </tr>\n",
       "    <tr>\n",
       "      <th>542681</th>\n",
       "      <td>Film</td>\n",
       "      <td>10</td>\n",
       "      <td>10</td>\n",
       "      <td>3.0</td>\n",
       "    </tr>\n",
       "    <tr>\n",
       "      <th>542682</th>\n",
       "      <td>Princes)</td>\n",
       "      <td>0</td>\n",
       "      <td>0</td>\n",
       "      <td>0.0</td>\n",
       "    </tr>\n",
       "    <tr>\n",
       "      <th>542683</th>\n",
       "      <td>Problematiques</td>\n",
       "      <td>0</td>\n",
       "      <td>0</td>\n",
       "      <td>0.0</td>\n",
       "    </tr>\n",
       "  </tbody>\n",
       "</table>\n",
       "</div>"
      ],
      "text/plain": [
       "                    id  total  downloaded  avg_rating\n",
       "542679           99999      1           1         4.0\n",
       "542680               B      4           4         4.5\n",
       "542681            Film     10          10         3.0\n",
       "542682        Princes)      0           0         0.0\n",
       "542683  Problematiques      0           0         0.0"
      ]
     },
     "execution_count": 137,
     "metadata": {},
     "output_type": "execute_result"
    }
   ],
   "source": [
    "rating_df.tail()"
   ]
  },
  {
   "cell_type": "code",
   "execution_count": 136,
   "metadata": {},
   "outputs": [
    {
     "data": {
      "text/plain": [
       "542684"
      ]
     },
     "execution_count": 136,
     "metadata": {},
     "output_type": "execute_result"
    }
   ],
   "source": [
    "548552 - discont"
   ]
  },
  {
   "cell_type": "code",
   "execution_count": 138,
   "metadata": {},
   "outputs": [],
   "source": [
    "# replace string \"id\" instance with appropriate id # (found using \"Find\" in txt file)\n",
    "rating_df= rating_df.replace('Problematiques', '255657')\n",
    "rating_df= rating_df.replace('Princes)', '468382')\n",
    "rating_df = rating_df.replace('B', '489629')\n",
    "rating_df = rating_df.replace('Film', '119182')"
   ]
  },
  {
   "cell_type": "code",
   "execution_count": 139,
   "metadata": {},
   "outputs": [
    {
     "data": {
      "text/html": [
       "<div>\n",
       "<style scoped>\n",
       "    .dataframe tbody tr th:only-of-type {\n",
       "        vertical-align: middle;\n",
       "    }\n",
       "\n",
       "    .dataframe tbody tr th {\n",
       "        vertical-align: top;\n",
       "    }\n",
       "\n",
       "    .dataframe thead th {\n",
       "        text-align: right;\n",
       "    }\n",
       "</style>\n",
       "<table border=\"1\" class=\"dataframe\">\n",
       "  <thead>\n",
       "    <tr style=\"text-align: right;\">\n",
       "      <th></th>\n",
       "      <th>id</th>\n",
       "      <th>total</th>\n",
       "      <th>downloaded</th>\n",
       "      <th>avg_rating</th>\n",
       "    </tr>\n",
       "  </thead>\n",
       "  <tbody>\n",
       "    <tr>\n",
       "      <th>542679</th>\n",
       "      <td>99999</td>\n",
       "      <td>1</td>\n",
       "      <td>1</td>\n",
       "      <td>4.0</td>\n",
       "    </tr>\n",
       "    <tr>\n",
       "      <th>542680</th>\n",
       "      <td>489629</td>\n",
       "      <td>4</td>\n",
       "      <td>4</td>\n",
       "      <td>4.5</td>\n",
       "    </tr>\n",
       "    <tr>\n",
       "      <th>542681</th>\n",
       "      <td>119182</td>\n",
       "      <td>10</td>\n",
       "      <td>10</td>\n",
       "      <td>3.0</td>\n",
       "    </tr>\n",
       "    <tr>\n",
       "      <th>542682</th>\n",
       "      <td>468382</td>\n",
       "      <td>0</td>\n",
       "      <td>0</td>\n",
       "      <td>0.0</td>\n",
       "    </tr>\n",
       "    <tr>\n",
       "      <th>542683</th>\n",
       "      <td>255657</td>\n",
       "      <td>0</td>\n",
       "      <td>0</td>\n",
       "      <td>0.0</td>\n",
       "    </tr>\n",
       "  </tbody>\n",
       "</table>\n",
       "</div>"
      ],
      "text/plain": [
       "            id  total  downloaded  avg_rating\n",
       "542679   99999      1           1         4.0\n",
       "542680  489629      4           4         4.5\n",
       "542681  119182     10          10         3.0\n",
       "542682  468382      0           0         0.0\n",
       "542683  255657      0           0         0.0"
      ]
     },
     "execution_count": 139,
     "metadata": {},
     "output_type": "execute_result"
    }
   ],
   "source": [
    "rating_df.tail()"
   ]
  },
  {
   "cell_type": "code",
   "execution_count": 140,
   "metadata": {},
   "outputs": [],
   "source": [
    "rating_df.id = rating_df.id.apply(pd.to_numeric)"
   ]
  },
  {
   "cell_type": "code",
   "execution_count": 141,
   "metadata": {},
   "outputs": [
    {
     "name": "stdout",
     "output_type": "stream",
     "text": [
      "<class 'pandas.core.frame.DataFrame'>\n",
      "Int64Index: 542684 entries, 0 to 542683\n",
      "Data columns (total 4 columns):\n",
      "id            542684 non-null int64\n",
      "total         542684 non-null int64\n",
      "downloaded    542684 non-null int64\n",
      "avg_rating    542684 non-null float64\n",
      "dtypes: float64(1), int64(3)\n",
      "memory usage: 20.7 MB\n"
     ]
    }
   ],
   "source": [
    "rating_df.info()"
   ]
  },
  {
   "cell_type": "code",
   "execution_count": 143,
   "metadata": {},
   "outputs": [],
   "source": [
    "rating_df.index = rating_df.id"
   ]
  },
  {
   "cell_type": "code",
   "execution_count": 144,
   "metadata": {
    "scrolled": true
   },
   "outputs": [
    {
     "data": {
      "text/html": [
       "<div>\n",
       "<style scoped>\n",
       "    .dataframe tbody tr th:only-of-type {\n",
       "        vertical-align: middle;\n",
       "    }\n",
       "\n",
       "    .dataframe tbody tr th {\n",
       "        vertical-align: top;\n",
       "    }\n",
       "\n",
       "    .dataframe thead th {\n",
       "        text-align: right;\n",
       "    }\n",
       "</style>\n",
       "<table border=\"1\" class=\"dataframe\">\n",
       "  <thead>\n",
       "    <tr style=\"text-align: right;\">\n",
       "      <th></th>\n",
       "      <th>id</th>\n",
       "      <th>total</th>\n",
       "      <th>downloaded</th>\n",
       "      <th>avg_rating</th>\n",
       "    </tr>\n",
       "    <tr>\n",
       "      <th>id</th>\n",
       "      <th></th>\n",
       "      <th></th>\n",
       "      <th></th>\n",
       "      <th></th>\n",
       "    </tr>\n",
       "  </thead>\n",
       "  <tbody>\n",
       "    <tr>\n",
       "      <th>1</th>\n",
       "      <td>1</td>\n",
       "      <td>2</td>\n",
       "      <td>2</td>\n",
       "      <td>5.0</td>\n",
       "    </tr>\n",
       "    <tr>\n",
       "      <th>2</th>\n",
       "      <td>2</td>\n",
       "      <td>12</td>\n",
       "      <td>12</td>\n",
       "      <td>4.5</td>\n",
       "    </tr>\n",
       "    <tr>\n",
       "      <th>3</th>\n",
       "      <td>3</td>\n",
       "      <td>1</td>\n",
       "      <td>1</td>\n",
       "      <td>5.0</td>\n",
       "    </tr>\n",
       "    <tr>\n",
       "      <th>4</th>\n",
       "      <td>4</td>\n",
       "      <td>1</td>\n",
       "      <td>1</td>\n",
       "      <td>4.0</td>\n",
       "    </tr>\n",
       "    <tr>\n",
       "      <th>5</th>\n",
       "      <td>5</td>\n",
       "      <td>0</td>\n",
       "      <td>0</td>\n",
       "      <td>0.0</td>\n",
       "    </tr>\n",
       "  </tbody>\n",
       "</table>\n",
       "</div>"
      ],
      "text/plain": [
       "    id  total  downloaded  avg_rating\n",
       "id                                   \n",
       "1    1      2           2         5.0\n",
       "2    2     12          12         4.5\n",
       "3    3      1           1         5.0\n",
       "4    4      1           1         4.0\n",
       "5    5      0           0         0.0"
      ]
     },
     "execution_count": 144,
     "metadata": {},
     "output_type": "execute_result"
    }
   ],
   "source": [
    "rating_df.head()"
   ]
  },
  {
   "cell_type": "code",
   "execution_count": 120,
   "metadata": {
    "scrolled": true
   },
   "outputs": [
    {
     "data": {
      "text/plain": [
       "3.2095311627598431"
      ]
     },
     "execution_count": 120,
     "metadata": {},
     "output_type": "execute_result"
    }
   ],
   "source": [
    "rating_df.avg_rating.mean()"
   ]
  },
  {
   "cell_type": "markdown",
   "metadata": {},
   "source": [
    "#### The mean rating is 3.21"
   ]
  },
  {
   "cell_type": "code",
   "execution_count": 146,
   "metadata": {},
   "outputs": [
    {
     "data": {
      "text/plain": [
       "id            1.489202e+11\n",
       "total         7.781990e+06\n",
       "downloaded    7.593244e+06\n",
       "avg_rating    1.741763e+06\n",
       "dtype: float64"
      ]
     },
     "execution_count": 146,
     "metadata": {},
     "output_type": "execute_result"
    }
   ],
   "source": [
    "rating_df.sum()"
   ]
  },
  {
   "cell_type": "markdown",
   "metadata": {},
   "source": [
    "There are more \"total\" reviews than downloads, suggesting some of the reviews caem from users that did not download the product."
   ]
  },
  {
   "cell_type": "code",
   "execution_count": 150,
   "metadata": {},
   "outputs": [
    {
     "data": {
      "text/plain": [
       "8615"
      ]
     },
     "execution_count": 150,
     "metadata": {},
     "output_type": "execute_result"
    }
   ],
   "source": [
    "more_rev = rating_df[rating_df.total > rating_df.downloaded]\n",
    "len(more_rev)"
   ]
  },
  {
   "cell_type": "markdown",
   "metadata": {},
   "source": [
    "There are 8615 products that have more reviews than downloads, suggesting they may have some nefarious (fake) reviews."
   ]
  },
  {
   "cell_type": "code",
   "execution_count": 149,
   "metadata": {},
   "outputs": [
    {
     "data": {
      "text/plain": [
       "4.1973302379570514"
      ]
     },
     "execution_count": 149,
     "metadata": {},
     "output_type": "execute_result"
    }
   ],
   "source": [
    "more_rev.avg_rating.mean()"
   ]
  },
  {
   "cell_type": "markdown",
   "metadata": {},
   "source": [
    "The mean rating of the products with potentially fake reviews is higher than the overall mean rating, so this suggests it may be sellers or manufacturers that are creating the reviews. "
   ]
  },
  {
   "cell_type": "code",
   "execution_count": 159,
   "metadata": {},
   "outputs": [
    {
     "name": "stderr",
     "output_type": "stream",
     "text": [
      "C:\\Users\\Lara\\Miniconda3\\lib\\site-packages\\ipykernel_launcher.py:1: SettingWithCopyWarning: \n",
      "A value is trying to be set on a copy of a slice from a DataFrame.\n",
      "Try using .loc[row_indexer,col_indexer] = value instead\n",
      "\n",
      "See the caveats in the documentation: http://pandas.pydata.org/pandas-docs/stable/indexing.html#indexing-view-versus-copy\n",
      "  \"\"\"Entry point for launching an IPython kernel.\n"
     ]
    }
   ],
   "source": [
    "more_rev['excess'] = more_rev.total - more_rev.downloaded"
   ]
  },
  {
   "cell_type": "code",
   "execution_count": 162,
   "metadata": {
    "collapsed": true
   },
   "outputs": [
    {
     "data": {
      "text/html": [
       "<div>\n",
       "<style scoped>\n",
       "    .dataframe tbody tr th:only-of-type {\n",
       "        vertical-align: middle;\n",
       "    }\n",
       "\n",
       "    .dataframe tbody tr th {\n",
       "        vertical-align: top;\n",
       "    }\n",
       "\n",
       "    .dataframe thead th {\n",
       "        text-align: right;\n",
       "    }\n",
       "</style>\n",
       "<table border=\"1\" class=\"dataframe\">\n",
       "  <thead>\n",
       "    <tr style=\"text-align: right;\">\n",
       "      <th></th>\n",
       "      <th>id</th>\n",
       "      <th>total</th>\n",
       "      <th>downloaded</th>\n",
       "      <th>avg_rating</th>\n",
       "      <th>excess</th>\n",
       "    </tr>\n",
       "    <tr>\n",
       "      <th>id</th>\n",
       "      <th></th>\n",
       "      <th></th>\n",
       "      <th></th>\n",
       "      <th></th>\n",
       "      <th></th>\n",
       "    </tr>\n",
       "  </thead>\n",
       "  <tbody>\n",
       "    <tr>\n",
       "      <th>148185</th>\n",
       "      <td>148185</td>\n",
       "      <td>5034</td>\n",
       "      <td>5</td>\n",
       "      <td>5.0</td>\n",
       "      <td>5029</td>\n",
       "    </tr>\n",
       "    <tr>\n",
       "      <th>99487</th>\n",
       "      <td>99487</td>\n",
       "      <td>5033</td>\n",
       "      <td>5</td>\n",
       "      <td>5.0</td>\n",
       "      <td>5028</td>\n",
       "    </tr>\n",
       "    <tr>\n",
       "      <th>128673</th>\n",
       "      <td>128673</td>\n",
       "      <td>4922</td>\n",
       "      <td>5</td>\n",
       "      <td>5.0</td>\n",
       "      <td>4917</td>\n",
       "    </tr>\n",
       "    <tr>\n",
       "      <th>251503</th>\n",
       "      <td>251503</td>\n",
       "      <td>2925</td>\n",
       "      <td>5</td>\n",
       "      <td>4.5</td>\n",
       "      <td>2920</td>\n",
       "    </tr>\n",
       "    <tr>\n",
       "      <th>379661</th>\n",
       "      <td>379661</td>\n",
       "      <td>2925</td>\n",
       "      <td>5</td>\n",
       "      <td>4.5</td>\n",
       "      <td>2920</td>\n",
       "    </tr>\n",
       "    <tr>\n",
       "      <th>379659</th>\n",
       "      <td>379659</td>\n",
       "      <td>2925</td>\n",
       "      <td>5</td>\n",
       "      <td>4.5</td>\n",
       "      <td>2920</td>\n",
       "    </tr>\n",
       "    <tr>\n",
       "      <th>359452</th>\n",
       "      <td>359452</td>\n",
       "      <td>2919</td>\n",
       "      <td>5</td>\n",
       "      <td>4.5</td>\n",
       "      <td>2914</td>\n",
       "    </tr>\n",
       "    <tr>\n",
       "      <th>69897</th>\n",
       "      <td>69897</td>\n",
       "      <td>2919</td>\n",
       "      <td>5</td>\n",
       "      <td>4.5</td>\n",
       "      <td>2914</td>\n",
       "    </tr>\n",
       "    <tr>\n",
       "      <th>103684</th>\n",
       "      <td>103684</td>\n",
       "      <td>2562</td>\n",
       "      <td>5</td>\n",
       "      <td>3.5</td>\n",
       "      <td>2557</td>\n",
       "    </tr>\n",
       "    <tr>\n",
       "      <th>186578</th>\n",
       "      <td>186578</td>\n",
       "      <td>2396</td>\n",
       "      <td>5</td>\n",
       "      <td>5.0</td>\n",
       "      <td>2391</td>\n",
       "    </tr>\n",
       "    <tr>\n",
       "      <th>144017</th>\n",
       "      <td>144017</td>\n",
       "      <td>2301</td>\n",
       "      <td>5</td>\n",
       "      <td>1.5</td>\n",
       "      <td>2296</td>\n",
       "    </tr>\n",
       "    <tr>\n",
       "      <th>98596</th>\n",
       "      <td>98596</td>\n",
       "      <td>2280</td>\n",
       "      <td>5</td>\n",
       "      <td>4.0</td>\n",
       "      <td>2275</td>\n",
       "    </tr>\n",
       "    <tr>\n",
       "      <th>342233</th>\n",
       "      <td>342233</td>\n",
       "      <td>1867</td>\n",
       "      <td>5</td>\n",
       "      <td>3.5</td>\n",
       "      <td>1862</td>\n",
       "    </tr>\n",
       "    <tr>\n",
       "      <th>338194</th>\n",
       "      <td>338194</td>\n",
       "      <td>1811</td>\n",
       "      <td>5</td>\n",
       "      <td>4.5</td>\n",
       "      <td>1806</td>\n",
       "    </tr>\n",
       "    <tr>\n",
       "      <th>275305</th>\n",
       "      <td>275305</td>\n",
       "      <td>1726</td>\n",
       "      <td>5</td>\n",
       "      <td>3.5</td>\n",
       "      <td>1721</td>\n",
       "    </tr>\n",
       "    <tr>\n",
       "      <th>116912</th>\n",
       "      <td>116912</td>\n",
       "      <td>1688</td>\n",
       "      <td>5</td>\n",
       "      <td>3.0</td>\n",
       "      <td>1683</td>\n",
       "    </tr>\n",
       "    <tr>\n",
       "      <th>340673</th>\n",
       "      <td>340673</td>\n",
       "      <td>1540</td>\n",
       "      <td>5</td>\n",
       "      <td>4.0</td>\n",
       "      <td>1535</td>\n",
       "    </tr>\n",
       "    <tr>\n",
       "      <th>84370</th>\n",
       "      <td>84370</td>\n",
       "      <td>1498</td>\n",
       "      <td>5</td>\n",
       "      <td>4.0</td>\n",
       "      <td>1493</td>\n",
       "    </tr>\n",
       "    <tr>\n",
       "      <th>290265</th>\n",
       "      <td>290265</td>\n",
       "      <td>1318</td>\n",
       "      <td>5</td>\n",
       "      <td>4.5</td>\n",
       "      <td>1313</td>\n",
       "    </tr>\n",
       "    <tr>\n",
       "      <th>336519</th>\n",
       "      <td>336519</td>\n",
       "      <td>1318</td>\n",
       "      <td>5</td>\n",
       "      <td>4.5</td>\n",
       "      <td>1313</td>\n",
       "    </tr>\n",
       "    <tr>\n",
       "      <th>144200</th>\n",
       "      <td>144200</td>\n",
       "      <td>1274</td>\n",
       "      <td>5</td>\n",
       "      <td>4.5</td>\n",
       "      <td>1269</td>\n",
       "    </tr>\n",
       "    <tr>\n",
       "      <th>335757</th>\n",
       "      <td>335757</td>\n",
       "      <td>1197</td>\n",
       "      <td>5</td>\n",
       "      <td>4.5</td>\n",
       "      <td>1192</td>\n",
       "    </tr>\n",
       "    <tr>\n",
       "      <th>339643</th>\n",
       "      <td>339643</td>\n",
       "      <td>1176</td>\n",
       "      <td>5</td>\n",
       "      <td>3.0</td>\n",
       "      <td>1171</td>\n",
       "    </tr>\n",
       "    <tr>\n",
       "      <th>103631</th>\n",
       "      <td>103631</td>\n",
       "      <td>1172</td>\n",
       "      <td>5</td>\n",
       "      <td>4.5</td>\n",
       "      <td>1167</td>\n",
       "    </tr>\n",
       "    <tr>\n",
       "      <th>342625</th>\n",
       "      <td>342625</td>\n",
       "      <td>1168</td>\n",
       "      <td>5</td>\n",
       "      <td>3.5</td>\n",
       "      <td>1163</td>\n",
       "    </tr>\n",
       "    <tr>\n",
       "      <th>336502</th>\n",
       "      <td>336502</td>\n",
       "      <td>1059</td>\n",
       "      <td>5</td>\n",
       "      <td>4.0</td>\n",
       "      <td>1054</td>\n",
       "    </tr>\n",
       "    <tr>\n",
       "      <th>353536</th>\n",
       "      <td>353536</td>\n",
       "      <td>1045</td>\n",
       "      <td>5</td>\n",
       "      <td>4.0</td>\n",
       "      <td>1040</td>\n",
       "    </tr>\n",
       "    <tr>\n",
       "      <th>338227</th>\n",
       "      <td>338227</td>\n",
       "      <td>1013</td>\n",
       "      <td>5</td>\n",
       "      <td>4.5</td>\n",
       "      <td>1008</td>\n",
       "    </tr>\n",
       "    <tr>\n",
       "      <th>342829</th>\n",
       "      <td>342829</td>\n",
       "      <td>1002</td>\n",
       "      <td>5</td>\n",
       "      <td>4.0</td>\n",
       "      <td>997</td>\n",
       "    </tr>\n",
       "    <tr>\n",
       "      <th>341570</th>\n",
       "      <td>341570</td>\n",
       "      <td>1000</td>\n",
       "      <td>5</td>\n",
       "      <td>4.5</td>\n",
       "      <td>995</td>\n",
       "    </tr>\n",
       "    <tr>\n",
       "      <th>...</th>\n",
       "      <td>...</td>\n",
       "      <td>...</td>\n",
       "      <td>...</td>\n",
       "      <td>...</td>\n",
       "      <td>...</td>\n",
       "    </tr>\n",
       "    <tr>\n",
       "      <th>344230</th>\n",
       "      <td>344230</td>\n",
       "      <td>121</td>\n",
       "      <td>120</td>\n",
       "      <td>3.0</td>\n",
       "      <td>1</td>\n",
       "    </tr>\n",
       "    <tr>\n",
       "      <th>344239</th>\n",
       "      <td>344239</td>\n",
       "      <td>56</td>\n",
       "      <td>55</td>\n",
       "      <td>4.5</td>\n",
       "      <td>1</td>\n",
       "    </tr>\n",
       "    <tr>\n",
       "      <th>161930</th>\n",
       "      <td>161930</td>\n",
       "      <td>51</td>\n",
       "      <td>50</td>\n",
       "      <td>4.0</td>\n",
       "      <td>1</td>\n",
       "    </tr>\n",
       "    <tr>\n",
       "      <th>344382</th>\n",
       "      <td>344382</td>\n",
       "      <td>126</td>\n",
       "      <td>125</td>\n",
       "      <td>4.5</td>\n",
       "      <td>1</td>\n",
       "    </tr>\n",
       "    <tr>\n",
       "      <th>344443</th>\n",
       "      <td>344443</td>\n",
       "      <td>42</td>\n",
       "      <td>41</td>\n",
       "      <td>4.5</td>\n",
       "      <td>1</td>\n",
       "    </tr>\n",
       "    <tr>\n",
       "      <th>344860</th>\n",
       "      <td>344860</td>\n",
       "      <td>304</td>\n",
       "      <td>303</td>\n",
       "      <td>3.5</td>\n",
       "      <td>1</td>\n",
       "    </tr>\n",
       "    <tr>\n",
       "      <th>161745</th>\n",
       "      <td>161745</td>\n",
       "      <td>256</td>\n",
       "      <td>255</td>\n",
       "      <td>5.0</td>\n",
       "      <td>1</td>\n",
       "    </tr>\n",
       "    <tr>\n",
       "      <th>345027</th>\n",
       "      <td>345027</td>\n",
       "      <td>109</td>\n",
       "      <td>108</td>\n",
       "      <td>4.0</td>\n",
       "      <td>1</td>\n",
       "    </tr>\n",
       "    <tr>\n",
       "      <th>345070</th>\n",
       "      <td>345070</td>\n",
       "      <td>27</td>\n",
       "      <td>26</td>\n",
       "      <td>4.5</td>\n",
       "      <td>1</td>\n",
       "    </tr>\n",
       "    <tr>\n",
       "      <th>345262</th>\n",
       "      <td>345262</td>\n",
       "      <td>29</td>\n",
       "      <td>28</td>\n",
       "      <td>4.0</td>\n",
       "      <td>1</td>\n",
       "    </tr>\n",
       "    <tr>\n",
       "      <th>345346</th>\n",
       "      <td>345346</td>\n",
       "      <td>11</td>\n",
       "      <td>10</td>\n",
       "      <td>4.0</td>\n",
       "      <td>1</td>\n",
       "    </tr>\n",
       "    <tr>\n",
       "      <th>345475</th>\n",
       "      <td>345475</td>\n",
       "      <td>396</td>\n",
       "      <td>395</td>\n",
       "      <td>4.5</td>\n",
       "      <td>1</td>\n",
       "    </tr>\n",
       "    <tr>\n",
       "      <th>345488</th>\n",
       "      <td>345488</td>\n",
       "      <td>21</td>\n",
       "      <td>20</td>\n",
       "      <td>4.5</td>\n",
       "      <td>1</td>\n",
       "    </tr>\n",
       "    <tr>\n",
       "      <th>345546</th>\n",
       "      <td>345546</td>\n",
       "      <td>16</td>\n",
       "      <td>15</td>\n",
       "      <td>4.5</td>\n",
       "      <td>1</td>\n",
       "    </tr>\n",
       "    <tr>\n",
       "      <th>345980</th>\n",
       "      <td>345980</td>\n",
       "      <td>19</td>\n",
       "      <td>18</td>\n",
       "      <td>4.0</td>\n",
       "      <td>1</td>\n",
       "    </tr>\n",
       "    <tr>\n",
       "      <th>345993</th>\n",
       "      <td>345993</td>\n",
       "      <td>11</td>\n",
       "      <td>10</td>\n",
       "      <td>4.0</td>\n",
       "      <td>1</td>\n",
       "    </tr>\n",
       "    <tr>\n",
       "      <th>346192</th>\n",
       "      <td>346192</td>\n",
       "      <td>11</td>\n",
       "      <td>10</td>\n",
       "      <td>5.0</td>\n",
       "      <td>1</td>\n",
       "    </tr>\n",
       "    <tr>\n",
       "      <th>346239</th>\n",
       "      <td>346239</td>\n",
       "      <td>21</td>\n",
       "      <td>20</td>\n",
       "      <td>5.0</td>\n",
       "      <td>1</td>\n",
       "    </tr>\n",
       "    <tr>\n",
       "      <th>346368</th>\n",
       "      <td>346368</td>\n",
       "      <td>406</td>\n",
       "      <td>405</td>\n",
       "      <td>3.5</td>\n",
       "      <td>1</td>\n",
       "    </tr>\n",
       "    <tr>\n",
       "      <th>346735</th>\n",
       "      <td>346735</td>\n",
       "      <td>506</td>\n",
       "      <td>505</td>\n",
       "      <td>4.0</td>\n",
       "      <td>1</td>\n",
       "    </tr>\n",
       "    <tr>\n",
       "      <th>346825</th>\n",
       "      <td>346825</td>\n",
       "      <td>58</td>\n",
       "      <td>57</td>\n",
       "      <td>4.5</td>\n",
       "      <td>1</td>\n",
       "    </tr>\n",
       "    <tr>\n",
       "      <th>347094</th>\n",
       "      <td>347094</td>\n",
       "      <td>16</td>\n",
       "      <td>15</td>\n",
       "      <td>4.5</td>\n",
       "      <td>1</td>\n",
       "    </tr>\n",
       "    <tr>\n",
       "      <th>347264</th>\n",
       "      <td>347264</td>\n",
       "      <td>26</td>\n",
       "      <td>25</td>\n",
       "      <td>4.5</td>\n",
       "      <td>1</td>\n",
       "    </tr>\n",
       "    <tr>\n",
       "      <th>347396</th>\n",
       "      <td>347396</td>\n",
       "      <td>6</td>\n",
       "      <td>5</td>\n",
       "      <td>3.5</td>\n",
       "      <td>1</td>\n",
       "    </tr>\n",
       "    <tr>\n",
       "      <th>347433</th>\n",
       "      <td>347433</td>\n",
       "      <td>233</td>\n",
       "      <td>232</td>\n",
       "      <td>3.0</td>\n",
       "      <td>1</td>\n",
       "    </tr>\n",
       "    <tr>\n",
       "      <th>347454</th>\n",
       "      <td>347454</td>\n",
       "      <td>51</td>\n",
       "      <td>50</td>\n",
       "      <td>4.0</td>\n",
       "      <td>1</td>\n",
       "    </tr>\n",
       "    <tr>\n",
       "      <th>347601</th>\n",
       "      <td>347601</td>\n",
       "      <td>197</td>\n",
       "      <td>196</td>\n",
       "      <td>4.5</td>\n",
       "      <td>1</td>\n",
       "    </tr>\n",
       "    <tr>\n",
       "      <th>347664</th>\n",
       "      <td>347664</td>\n",
       "      <td>1006</td>\n",
       "      <td>1005</td>\n",
       "      <td>4.0</td>\n",
       "      <td>1</td>\n",
       "    </tr>\n",
       "    <tr>\n",
       "      <th>161496</th>\n",
       "      <td>161496</td>\n",
       "      <td>226</td>\n",
       "      <td>225</td>\n",
       "      <td>4.0</td>\n",
       "      <td>1</td>\n",
       "    </tr>\n",
       "    <tr>\n",
       "      <th>193</th>\n",
       "      <td>193</td>\n",
       "      <td>261</td>\n",
       "      <td>260</td>\n",
       "      <td>3.0</td>\n",
       "      <td>1</td>\n",
       "    </tr>\n",
       "  </tbody>\n",
       "</table>\n",
       "<p>8615 rows × 5 columns</p>\n",
       "</div>"
      ],
      "text/plain": [
       "            id  total  downloaded  avg_rating  excess\n",
       "id                                                   \n",
       "148185  148185   5034           5         5.0    5029\n",
       "99487    99487   5033           5         5.0    5028\n",
       "128673  128673   4922           5         5.0    4917\n",
       "251503  251503   2925           5         4.5    2920\n",
       "379661  379661   2925           5         4.5    2920\n",
       "379659  379659   2925           5         4.5    2920\n",
       "359452  359452   2919           5         4.5    2914\n",
       "69897    69897   2919           5         4.5    2914\n",
       "103684  103684   2562           5         3.5    2557\n",
       "186578  186578   2396           5         5.0    2391\n",
       "144017  144017   2301           5         1.5    2296\n",
       "98596    98596   2280           5         4.0    2275\n",
       "342233  342233   1867           5         3.5    1862\n",
       "338194  338194   1811           5         4.5    1806\n",
       "275305  275305   1726           5         3.5    1721\n",
       "116912  116912   1688           5         3.0    1683\n",
       "340673  340673   1540           5         4.0    1535\n",
       "84370    84370   1498           5         4.0    1493\n",
       "290265  290265   1318           5         4.5    1313\n",
       "336519  336519   1318           5         4.5    1313\n",
       "144200  144200   1274           5         4.5    1269\n",
       "335757  335757   1197           5         4.5    1192\n",
       "339643  339643   1176           5         3.0    1171\n",
       "103631  103631   1172           5         4.5    1167\n",
       "342625  342625   1168           5         3.5    1163\n",
       "336502  336502   1059           5         4.0    1054\n",
       "353536  353536   1045           5         4.0    1040\n",
       "338227  338227   1013           5         4.5    1008\n",
       "342829  342829   1002           5         4.0     997\n",
       "341570  341570   1000           5         4.5     995\n",
       "...        ...    ...         ...         ...     ...\n",
       "344230  344230    121         120         3.0       1\n",
       "344239  344239     56          55         4.5       1\n",
       "161930  161930     51          50         4.0       1\n",
       "344382  344382    126         125         4.5       1\n",
       "344443  344443     42          41         4.5       1\n",
       "344860  344860    304         303         3.5       1\n",
       "161745  161745    256         255         5.0       1\n",
       "345027  345027    109         108         4.0       1\n",
       "345070  345070     27          26         4.5       1\n",
       "345262  345262     29          28         4.0       1\n",
       "345346  345346     11          10         4.0       1\n",
       "345475  345475    396         395         4.5       1\n",
       "345488  345488     21          20         4.5       1\n",
       "345546  345546     16          15         4.5       1\n",
       "345980  345980     19          18         4.0       1\n",
       "345993  345993     11          10         4.0       1\n",
       "346192  346192     11          10         5.0       1\n",
       "346239  346239     21          20         5.0       1\n",
       "346368  346368    406         405         3.5       1\n",
       "346735  346735    506         505         4.0       1\n",
       "346825  346825     58          57         4.5       1\n",
       "347094  347094     16          15         4.5       1\n",
       "347264  347264     26          25         4.5       1\n",
       "347396  347396      6           5         3.5       1\n",
       "347433  347433    233         232         3.0       1\n",
       "347454  347454     51          50         4.0       1\n",
       "347601  347601    197         196         4.5       1\n",
       "347664  347664   1006        1005         4.0       1\n",
       "161496  161496    226         225         4.0       1\n",
       "193        193    261         260         3.0       1\n",
       "\n",
       "[8615 rows x 5 columns]"
      ]
     },
     "execution_count": 162,
     "metadata": {},
     "output_type": "execute_result"
    }
   ],
   "source": [
    "more_rev.sort_values(by='excess', ascending = False)"
   ]
  },
  {
   "cell_type": "code",
   "execution_count": 165,
   "metadata": {
    "scrolled": true
   },
   "outputs": [
    {
     "data": {
      "text/plain": [
       "4.1823056300268098"
      ]
     },
     "execution_count": 165,
     "metadata": {},
     "output_type": "execute_result"
    }
   ],
   "source": [
    "more_rev[more_rev.excess == 1].avg_rating.mean()"
   ]
  },
  {
   "cell_type": "markdown",
   "metadata": {},
   "source": [
    "Even items with only 1 more \"total\" than \"downloaded\" have a higher rating than the overall mean."
   ]
  },
  {
   "cell_type": "code",
   "execution_count": 167,
   "metadata": {},
   "outputs": [
    {
     "data": {
      "text/plain": [
       "4.2109929078014181"
      ]
     },
     "execution_count": 167,
     "metadata": {},
     "output_type": "execute_result"
    }
   ],
   "source": [
    "more_rev[more_rev.excess> 1].avg_rating.mean()"
   ]
  },
  {
   "cell_type": "markdown",
   "metadata": {},
   "source": [
    "And items with more than 1 excessive review have an even higher rating."
   ]
  },
  {
   "cell_type": "markdown",
   "metadata": {},
   "source": [
    "However, the item with the highest number of reviews is **Harry Potter and the Sorcerer's Stone** with 5029 reviews, suggesting that items with a high number of reviews may just be popular items that people often purchase places besides Amazon, but still chose to leave a review because they support the product so much."
   ]
  },
  {
   "cell_type": "code",
   "execution_count": null,
   "metadata": {},
   "outputs": [],
   "source": []
  },
  {
   "cell_type": "markdown",
   "metadata": {},
   "source": [
    "### Question 2 (Part A): Category bloat\n",
    "\n",
    "Consider the product group named 'Books'. Each product in this group is associated with\n",
    "categories. Naturally, with categorization, there are tradeoffs between how broad or\n",
    "specific the categories must be.\n",
    "\n",
    "For this dataset, quantify the following:\n",
    "\n",
    "a. Is there redundancy in the categorization? How can it be identified/removed?\n",
    "\n",
    "b. Is is possible to reduce the number of categories drastically (say to 10% of existing\n",
    "categories) by sacrificing relatively few category entries (say close to 10%)?"
   ]
  },
  {
   "cell_type": "code",
   "execution_count": 169,
   "metadata": {},
   "outputs": [
    {
     "data": {
      "text/plain": [
       "{'Id:   0': ['ASIN: 0771044445', '  discontinued product', ''],\n",
       " 'Id:   1': ['ASIN: 0827229534',\n",
       "  '  title: Patterns of Preaching: A Sermon Sampler',\n",
       "  '  group: Book',\n",
       "  '  salesrank: 396585',\n",
       "  '  similar: 5  0804215715  156101074X  0687023955  0687074231  082721619X',\n",
       "  '  categories: 2',\n",
       "  '   |Books[283155]|Subjects[1000]|Religion & Spirituality[22]|Christianity[12290]|Clergy[12360]|Preaching[12368]',\n",
       "  '   |Books[283155]|Subjects[1000]|Religion & Spirituality[22]|Christianity[12290]|Clergy[12360]|Sermons[12370]',\n",
       "  '  reviews: total: 2  downloaded: 2  avg rating: 5',\n",
       "  '    2000-7-28  cutomer: A2JW67OY8U6HHK  rating: 5  votes:  10  helpful:   9',\n",
       "  '    2003-12-14  cutomer: A2VE83MZF98ITY  rating: 5  votes:   6  helpful:   5',\n",
       "  ''],\n",
       " 'Id:   2': ['ASIN: 0738700797',\n",
       "  '  title: Candlemas: Feast of Flames',\n",
       "  '  group: Book',\n",
       "  '  salesrank: 168596',\n",
       "  '  similar: 5  0738700827  1567184960  1567182836  0738700525  0738700940',\n",
       "  '  categories: 2',\n",
       "  '   |Books[283155]|Subjects[1000]|Religion & Spirituality[22]|Earth-Based Religions[12472]|Wicca[12484]',\n",
       "  '   |Books[283155]|Subjects[1000]|Religion & Spirituality[22]|Earth-Based Religions[12472]|Witchcraft[12486]',\n",
       "  '  reviews: total: 12  downloaded: 12  avg rating: 4.5',\n",
       "  '    2001-12-16  cutomer: A11NCO6YTE4BTJ  rating: 5  votes:   5  helpful:   4',\n",
       "  '    2002-1-7  cutomer:  A9CQ3PLRNIR83  rating: 4  votes:   5  helpful:   5',\n",
       "  '    2002-1-24  cutomer: A13SG9ACZ9O5IM  rating: 5  votes:   8  helpful:   8',\n",
       "  '    2002-1-28  cutomer: A1BDAI6VEYMAZA  rating: 5  votes:   4  helpful:   4',\n",
       "  '    2002-2-6  cutomer: A2P6KAWXJ16234  rating: 4  votes:  16  helpful:  16',\n",
       "  '    2002-2-14  cutomer:  AMACWC3M7PQFR  rating: 4  votes:   5  helpful:   5',\n",
       "  '    2002-3-23  cutomer: A3GO7UV9XX14D8  rating: 4  votes:   6  helpful:   6',\n",
       "  '    2002-5-23  cutomer: A1GIL64QK68WKL  rating: 5  votes:   8  helpful:   8',\n",
       "  '    2003-2-25  cutomer:  AEOBOF2ONQJWV  rating: 5  votes:   8  helpful:   5',\n",
       "  '    2003-11-25  cutomer: A3IGHTES8ME05L  rating: 5  votes:   5  helpful:   5',\n",
       "  '    2004-2-11  cutomer: A1CP26N8RHYVVO  rating: 1  votes:  13  helpful:   9',\n",
       "  '    2005-2-7  cutomer:  ANEIANH0WAT9D  rating: 5  votes:   1  helpful:   1',\n",
       "  ''],\n",
       " 'Id:   3': ['ASIN: 0486287785',\n",
       "  '  title: World War II Allied Fighter Planes Trading Cards',\n",
       "  '  group: Book',\n",
       "  '  salesrank: 1270652',\n",
       "  '  similar: 0',\n",
       "  '  categories: 1',\n",
       "  '   |Books[283155]|Subjects[1000]|Home & Garden[48]|Crafts & Hobbies[5126]|General[5144]',\n",
       "  '  reviews: total: 1  downloaded: 1  avg rating: 5',\n",
       "  '    2003-7-10  cutomer: A3IDGASRQAW8B2  rating: 5  votes:   2  helpful:   2',\n",
       "  ''],\n",
       " 'Id:   4': ['ASIN: 0842328327',\n",
       "  '  title: Life Application Bible Commentary: 1 and 2 Timothy and Titus',\n",
       "  '  group: Book',\n",
       "  '  salesrank: 631289',\n",
       "  '  similar: 5  0842328130  0830818138  0842330313  0842328610  0842328572',\n",
       "  '  categories: 5',\n",
       "  '   |Books[283155]|Subjects[1000]|Religion & Spirituality[22]|Christianity[12290]|Reference[172810]|Commentaries[12155]|New Testament[12159]',\n",
       "  '   |Books[283155]|Subjects[1000]|Religion & Spirituality[22]|Christianity[12290]|Christian Living[12333]|Discipleship[12335]',\n",
       "  '   |Books[283155]|Subjects[1000]|Religion & Spirituality[22]|Christianity[12290]|Bibles[12059]|Translations[764432]|Life Application[572080]',\n",
       "  '   |Books[283155]|Subjects[1000]|Religion & Spirituality[22]|Bible & Other Sacred Texts[12056]|Bible[764430]|New Testament[572082]',\n",
       "  '   |Books[283155]|Subjects[1000]|Religion & Spirituality[22]|Christianity[12290]|Bibles[12059]|Study Guides, History & Reference[764438]|General[572094]',\n",
       "  '  reviews: total: 1  downloaded: 1  avg rating: 4',\n",
       "  '    2004-8-19  cutomer: A2591BUPXCS705  rating: 4  votes:   1  helpful:   1',\n",
       "  ''],\n",
       " 'Id:   5': ['ASIN: 1577943082',\n",
       "  '  title: Prayers That Avail Much for Business: Executive',\n",
       "  '  group: Book',\n",
       "  '  salesrank: 455160',\n",
       "  '  similar: 5  157794349X  0892749504  1577941829  0892749563  1577946006',\n",
       "  '  categories: 2',\n",
       "  '   |Books[283155]|Subjects[1000]|Religion & Spirituality[22]|Christianity[12290]|Worship & Devotion[12465]|Prayerbooks[12470]',\n",
       "  '   |Books[283155]|Subjects[1000]|Religion & Spirituality[22]|Christianity[12290]|Christian Living[12333]|Business[297488]',\n",
       "  '  reviews: total: 0  downloaded: 0  avg rating: 0',\n",
       "  '']}"
      ]
     },
     "execution_count": 169,
     "metadata": {},
     "output_type": "execute_result"
    }
   ],
   "source": [
    "# take a glance at the first few products in the dataset\n",
    "dict(list(d.items())[:6])"
   ]
  },
  {
   "cell_type": "markdown",
   "metadata": {},
   "source": [
    "It appears that when a Book has more than one category, they are relatively redundant. "
   ]
  },
  {
   "cell_type": "code",
   "execution_count": 180,
   "metadata": {},
   "outputs": [],
   "source": [
    "#extracting category info\n",
    "books=0\n",
    "num_cats = {}\n",
    "cat_list = []\n",
    "\n",
    "for k in d.keys():\n",
    "    group = ''\n",
    "    key= k.split()[-1]\n",
    "    for v in d[k]:\n",
    "        if v.startswith('  group:'):\n",
    "            if v.split()[1] == 'Book':\n",
    "                books +=1\n",
    "                group = 'book'\n",
    "        if group == 'book':\n",
    "            if v.startswith('  categories:'):\n",
    "                num_cats[key] = v.split()[1]\n",
    "            if v.startswith('   |'):\n",
    "                cat_list.append(v.strip())\n"
   ]
  },
  {
   "cell_type": "code",
   "execution_count": 211,
   "metadata": {},
   "outputs": [
    {
     "data": {
      "text/plain": [
       "1440329"
      ]
     },
     "execution_count": 211,
     "metadata": {},
     "output_type": "execute_result"
    }
   ],
   "source": [
    "len(cat_list)"
   ]
  },
  {
   "cell_type": "markdown",
   "metadata": {},
   "source": [
    "Number of referenced categories for all books: 1440329"
   ]
  },
  {
   "cell_type": "code",
   "execution_count": 212,
   "metadata": {},
   "outputs": [
    {
     "data": {
      "text/plain": [
       "12853"
      ]
     },
     "execution_count": 212,
     "metadata": {},
     "output_type": "execute_result"
    }
   ],
   "source": [
    "len(set(cat_list))"
   ]
  },
  {
   "cell_type": "markdown",
   "metadata": {},
   "source": [
    "Number of unique categories for books:  12853"
   ]
  },
  {
   "cell_type": "code",
   "execution_count": 213,
   "metadata": {},
   "outputs": [
    {
     "name": "stdout",
     "output_type": "stream",
     "text": [
      "Number of Books: 393561\n"
     ]
    }
   ],
   "source": [
    "print ('Number of Books:',books)"
   ]
  },
  {
   "cell_type": "code",
   "execution_count": 205,
   "metadata": {},
   "outputs": [
    {
     "data": {
      "text/html": [
       "<div>\n",
       "<style scoped>\n",
       "    .dataframe tbody tr th:only-of-type {\n",
       "        vertical-align: middle;\n",
       "    }\n",
       "\n",
       "    .dataframe tbody tr th {\n",
       "        vertical-align: top;\n",
       "    }\n",
       "\n",
       "    .dataframe thead th {\n",
       "        text-align: right;\n",
       "    }\n",
       "</style>\n",
       "<table border=\"1\" class=\"dataframe\">\n",
       "  <thead>\n",
       "    <tr style=\"text-align: right;\">\n",
       "      <th></th>\n",
       "      <th>Number of Categories</th>\n",
       "    </tr>\n",
       "    <tr>\n",
       "      <th>Product ID</th>\n",
       "      <th></th>\n",
       "    </tr>\n",
       "  </thead>\n",
       "  <tbody>\n",
       "    <tr>\n",
       "      <th>1</th>\n",
       "      <td>2</td>\n",
       "    </tr>\n",
       "    <tr>\n",
       "      <th>2</th>\n",
       "      <td>2</td>\n",
       "    </tr>\n",
       "    <tr>\n",
       "      <th>3</th>\n",
       "      <td>1</td>\n",
       "    </tr>\n",
       "    <tr>\n",
       "      <th>4</th>\n",
       "      <td>5</td>\n",
       "    </tr>\n",
       "    <tr>\n",
       "      <th>5</th>\n",
       "      <td>2</td>\n",
       "    </tr>\n",
       "    <tr>\n",
       "      <th>6</th>\n",
       "      <td>5</td>\n",
       "    </tr>\n",
       "    <tr>\n",
       "      <th>8</th>\n",
       "      <td>4</td>\n",
       "    </tr>\n",
       "    <tr>\n",
       "      <th>9</th>\n",
       "      <td>1</td>\n",
       "    </tr>\n",
       "    <tr>\n",
       "      <th>10</th>\n",
       "      <td>3</td>\n",
       "    </tr>\n",
       "    <tr>\n",
       "      <th>11</th>\n",
       "      <td>4</td>\n",
       "    </tr>\n",
       "  </tbody>\n",
       "</table>\n",
       "</div>"
      ],
      "text/plain": [
       "           Number of Categories\n",
       "Product ID                     \n",
       "1                             2\n",
       "2                             2\n",
       "3                             1\n",
       "4                             5\n",
       "5                             2\n",
       "6                             5\n",
       "8                             4\n",
       "9                             1\n",
       "10                            3\n",
       "11                            4"
      ]
     },
     "execution_count": 205,
     "metadata": {},
     "output_type": "execute_result"
    }
   ],
   "source": [
    "cats_per = pd.DataFrame.from_dict(num_cats, orient='index')\n",
    "\n",
    "cats_per.columns = ['Number of Categories']\n",
    "cats_per.index.name = 'Product ID'\n",
    "\n",
    "cats_per.head(10)"
   ]
  },
  {
   "cell_type": "code",
   "execution_count": 207,
   "metadata": {},
   "outputs": [],
   "source": [
    "cats_per['Number of Categories'] = cats_per['Number of Categories'].apply(pd.to_numeric)"
   ]
  },
  {
   "cell_type": "code",
   "execution_count": 210,
   "metadata": {},
   "outputs": [
    {
     "data": {
      "text/plain": [
       "3.6597350855394715"
      ]
     },
     "execution_count": 210,
     "metadata": {},
     "output_type": "execute_result"
    }
   ],
   "source": [
    "cats_per['Number of Categories'].mean() "
   ]
  },
  {
   "cell_type": "markdown",
   "metadata": {},
   "source": [
    "Average Number of Category entries per book is 3.6597"
   ]
  },
  {
   "cell_type": "code",
   "execution_count": 218,
   "metadata": {},
   "outputs": [],
   "source": [
    "#Count subcategories\n",
    "sub_cats = []\n",
    "\n",
    "for cat in cat_list:\n",
    "    for node in cat.split('|')[1:]:\n",
    "        sub_cats.append(node)"
   ]
  },
  {
   "cell_type": "code",
   "execution_count": 219,
   "metadata": {},
   "outputs": [
    {
     "data": {
      "text/plain": [
       "['Books[283155]',\n",
       " 'Subjects[1000]',\n",
       " 'Religion & Spirituality[22]',\n",
       " 'Christianity[12290]',\n",
       " 'Clergy[12360]',\n",
       " 'Preaching[12368]',\n",
       " 'Books[283155]',\n",
       " 'Subjects[1000]',\n",
       " 'Religion & Spirituality[22]',\n",
       " 'Christianity[12290]']"
      ]
     },
     "execution_count": 219,
     "metadata": {},
     "output_type": "execute_result"
    }
   ],
   "source": [
    "#show first 10 entries of subcategories\n",
    "sub_cats[:10]"
   ]
  },
  {
   "cell_type": "code",
   "execution_count": 239,
   "metadata": {},
   "outputs": [
    {
     "data": {
      "text/html": [
       "<div>\n",
       "<style scoped>\n",
       "    .dataframe tbody tr th:only-of-type {\n",
       "        vertical-align: middle;\n",
       "    }\n",
       "\n",
       "    .dataframe tbody tr th {\n",
       "        vertical-align: top;\n",
       "    }\n",
       "\n",
       "    .dataframe thead th {\n",
       "        text-align: right;\n",
       "    }\n",
       "</style>\n",
       "<table border=\"1\" class=\"dataframe\">\n",
       "  <thead>\n",
       "    <tr style=\"text-align: right;\">\n",
       "      <th></th>\n",
       "      <th>0</th>\n",
       "    </tr>\n",
       "  </thead>\n",
       "  <tbody>\n",
       "    <tr>\n",
       "      <th>Books[283155]</th>\n",
       "      <td>1286848</td>\n",
       "    </tr>\n",
       "    <tr>\n",
       "      <th>Subjects[1000]</th>\n",
       "      <td>1222638</td>\n",
       "    </tr>\n",
       "    <tr>\n",
       "      <th>Children's Books[4]</th>\n",
       "      <td>134263</td>\n",
       "    </tr>\n",
       "    <tr>\n",
       "      <th>Amazon.com Stores[285080]</th>\n",
       "      <td>123925</td>\n",
       "    </tr>\n",
       "    <tr>\n",
       "      <th>[265523]</th>\n",
       "      <td>123925</td>\n",
       "    </tr>\n",
       "    <tr>\n",
       "      <th>Nonfiction[53]</th>\n",
       "      <td>106966</td>\n",
       "    </tr>\n",
       "    <tr>\n",
       "      <th>Religion &amp; Spirituality[22]</th>\n",
       "      <td>93648</td>\n",
       "    </tr>\n",
       "    <tr>\n",
       "      <th>Home &amp; Office[764512]</th>\n",
       "      <td>90409</td>\n",
       "    </tr>\n",
       "    <tr>\n",
       "      <th>Literature &amp; Fiction[17]</th>\n",
       "      <td>84709</td>\n",
       "    </tr>\n",
       "    <tr>\n",
       "      <th>Business &amp; Investing Books[767740]</th>\n",
       "      <td>76457</td>\n",
       "    </tr>\n",
       "    <tr>\n",
       "      <th>Business &amp; Investing[3]</th>\n",
       "      <td>74124</td>\n",
       "    </tr>\n",
       "    <tr>\n",
       "      <th>Professional &amp; Technical[173507]</th>\n",
       "      <td>67692</td>\n",
       "    </tr>\n",
       "    <tr>\n",
       "      <th>Computers &amp; Internet[5]</th>\n",
       "      <td>66734</td>\n",
       "    </tr>\n",
       "    <tr>\n",
       "      <th>Health, Mind &amp; Body[10]</th>\n",
       "      <td>66371</td>\n",
       "    </tr>\n",
       "    <tr>\n",
       "      <th>Reference[21]</th>\n",
       "      <td>50097</td>\n",
       "    </tr>\n",
       "    <tr>\n",
       "      <th>History[9]</th>\n",
       "      <td>48129</td>\n",
       "    </tr>\n",
       "    <tr>\n",
       "      <th>Christianity[12290]</th>\n",
       "      <td>41845</td>\n",
       "    </tr>\n",
       "    <tr>\n",
       "      <th>Science[75]</th>\n",
       "      <td>41717</td>\n",
       "    </tr>\n",
       "    <tr>\n",
       "      <th>Biographies &amp; Memoirs[2]</th>\n",
       "      <td>40061</td>\n",
       "    </tr>\n",
       "    <tr>\n",
       "      <th>Home &amp; Garden[48]</th>\n",
       "      <td>39597</td>\n",
       "    </tr>\n",
       "  </tbody>\n",
       "</table>\n",
       "</div>"
      ],
      "text/plain": [
       "                                          0\n",
       "Books[283155]                       1286848\n",
       "Subjects[1000]                      1222638\n",
       "Children's Books[4]                  134263\n",
       "Amazon.com Stores[285080]            123925\n",
       "[265523]                             123925\n",
       "Nonfiction[53]                       106966\n",
       "Religion & Spirituality[22]           93648\n",
       "Home & Office[764512]                 90409\n",
       "Literature & Fiction[17]              84709\n",
       "Business & Investing Books[767740]    76457\n",
       "Business & Investing[3]               74124\n",
       "Professional & Technical[173507]      67692\n",
       "Computers & Internet[5]               66734\n",
       "Health, Mind & Body[10]               66371\n",
       "Reference[21]                         50097\n",
       "History[9]                            48129\n",
       "Christianity[12290]                   41845\n",
       "Science[75]                           41717\n",
       "Biographies & Memoirs[2]              40061\n",
       "Home & Garden[48]                     39597"
      ]
     },
     "execution_count": 239,
     "metadata": {},
     "output_type": "execute_result"
    }
   ],
   "source": [
    "from collections import Counter\n",
    "catcount = pd.DataFrame.from_dict(Counter(sub_cats), orient = 'index')\n",
    "#catcount['sub_category'] = catcount.index\n",
    "catcount = catcount.sort_values(by = 0,ascending = False)\n",
    "catcount.head(20)"
   ]
  },
  {
   "cell_type": "code",
   "execution_count": 238,
   "metadata": {},
   "outputs": [
    {
     "data": {
      "text/plain": [
       "1492.3000000000002"
      ]
     },
     "execution_count": 238,
     "metadata": {},
     "output_type": "execute_result"
    }
   ],
   "source": [
    "len(catcount)*.1"
   ]
  },
  {
   "cell_type": "markdown",
   "metadata": {},
   "source": [
    "10% of the total number of unique category types is 1492. If the top 1492 most common category types were removed, this may allow for more specifi categorization in general and my drastically reduce the category entries per book, thus reducding redundency."
   ]
  },
  {
   "cell_type": "code",
   "execution_count": 242,
   "metadata": {},
   "outputs": [
    {
     "data": {
      "text/plain": [
       "0    0.905716\n",
       "dtype: float64"
      ]
     },
     "execution_count": 242,
     "metadata": {},
     "output_type": "execute_result"
    }
   ],
   "source": [
    "(catcount[:1492].sum()/catcount.sum())"
   ]
  },
  {
   "cell_type": "markdown",
   "metadata": {},
   "source": [
    "### The 10% most common of all subcategories account for 90.57% of all category instances.\n",
    "So removing this 10% of categories would infact reduce the the total number of category entries to 10% of the current total, significantly reducing redundency."
   ]
  },
  {
   "cell_type": "code",
   "execution_count": null,
   "metadata": {},
   "outputs": [],
   "source": []
  },
  {
   "cell_type": "markdown",
   "metadata": {},
   "source": [
    "## Part B. \n",
    "(Suggested duration: 30 mins)\n",
    "Give the number crunching a rest! Just think about these problems.\n",
    "\n",
    "### Question 1. Algorithm thinking\n",
    "How would build the product categorization from scratch, using similar/co-purchased\n",
    "information?"
   ]
  },
  {
   "cell_type": "markdown",
   "metadata": {},
   "source": [
    "Firs the products would need to sorted into their product groups (books vs music, etc). Without the categories currently available in the dataset, product could be sub-categorized by clustering available data, such as \"similar\" product info. Once clustering statistics are calculated and a hierarchical structure formed,the structure should be checked for accuracy and sensibility, then the various branches can be labeled. "
   ]
  },
  {
   "cell_type": "markdown",
   "metadata": {},
   "source": [
    "### Question 2. Product thinking (Part B)\n",
    "Now, put on your 'product thinking' hat.\n",
    "\n",
    "a. Is it a good idea to show users the categorization hierarchy for items?\n",
    "\n",
    "b. Is it a good idea to show users similar/co-purchased items?\n",
    "\n",
    "c. Is it a good idea to show users reviews and ratings for items?\n",
    "\n",
    "d. For each of the above, why? How will you establish the same?"
   ]
  },
  {
   "cell_type": "markdown",
   "metadata": {},
   "source": [
    "Showing users the categorization hierarchy is not a good idea as it is not likely to generate more sales. Seeing the hierarchy may cause the average user to become confused and perhaps navigate away from a product they intended to purchase or were considering doing so.\n",
    "\n",
    "Showing similar/co-purchased items is a good idea however because it may help a user quickly find either a more appropriate product for their needs, or even a complimentary product that they forgot that would also need, etc.\n",
    "\n",
    "User reviews and ratings can help buyers build confidence in their purchase and encourage purchase completion, so it is a good idea to make this available. "
   ]
  }
 ],
 "metadata": {
  "kernelspec": {
   "display_name": "Python 3",
   "language": "python",
   "name": "python3"
  },
  "language_info": {
   "codemirror_mode": {
    "name": "ipython",
    "version": 3
   },
   "file_extension": ".py",
   "mimetype": "text/x-python",
   "name": "python",
   "nbconvert_exporter": "python",
   "pygments_lexer": "ipython3",
   "version": "3.6.3"
  }
 },
 "nbformat": 4,
 "nbformat_minor": 2
}
