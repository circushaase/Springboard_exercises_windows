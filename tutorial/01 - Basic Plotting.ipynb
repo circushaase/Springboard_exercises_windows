{
 "cells": [
  {
   "cell_type": "markdown",
   "metadata": {
    "collapsed": true
   },
   "source": [
    "<table style=\"float:left; border:none\">\n",
    "   <tr style=\"border:none; background-color: #ffffff\">\n",
    "       <td style=\"border:none\">\n",
    "           <a href=\"http://bokeh.pydata.org/\">     \n",
    "           <img \n",
    "               src=\"assets/bokeh-transparent.png\" \n",
    "               style=\"width:50px\"\n",
    "           >\n",
    "           </a>    \n",
    "       </td>\n",
    "       <td style=\"border:none\">\n",
    "           <h1>Bokeh Tutorial</h1>\n",
    "       </td>\n",
    "   </tr>\n",
    "</table>\n",
    "\n",
    "<div style=\"float:right;\"><h2>01. Basic Plotting</h2></div>"
   ]
  },
  {
   "cell_type": "markdown",
   "metadata": {},
   "source": [
    "This section of the tutorial covers the [`bokeh.plotting`](http://bokeh.pydata.org/en/latest/docs/user_guide/plotting.html) \n",
    "interface. This interface is a \"mid-level\" interface, and the main idea can be described by the statement:\n",
    "\n",
    "**Starting from simple default figures (with sensible default tools, grids and axes), add markers and other shapes whose visual attributes are tied to directly data.**\n",
    "\n",
    "We will see that it is possible to customize and change all of the defaults, but having them means that it is possible to get up and running very quickly. "
   ]
  },
  {
   "cell_type": "markdown",
   "metadata": {},
   "source": [
    "# Imports and Setup\n",
    "\n",
    "When using the [`bokeh.plotting`](http://bokeh.pydata.org/en/latest/docs/user_guide/plotting.html) interface, there are a few common imports:\n",
    "* Use the [`figure`](http://bokeh.pydata.org/en/latest/docs/reference/plotting.html#bokeh.plotting.figure) function to  create new plot objects to work with. \n",
    "* Call the functions [`output_file`](http://bokeh.pydata.org/en/latest/docs/reference/resources_embedding.html#bokeh.io.output_file), [`output_notebook`](http://bokeh.pydata.org/en/latest/docs/reference/resources_embedding.html#bokeh.io.output_notebook), and [`output_server`](http://bokeh.pydata.org/en/latest/docs/reference/resources_embedding.html#bokeh.io.output_server) (possibly in combination) to tell Bokeh how to display or save output. \n",
    "* Execute [`show`](http://bokeh.pydata.org/en/latest/docs/reference/resources_embedding.html#bokeh.io.show) and  [`save`](http://bokeh.pydata.org/en/latest/docs/reference/resources_embedding.html#bokeh.io.save) to display or save plots and layouts."
   ]
  },
  {
   "cell_type": "code",
   "execution_count": 1,
   "metadata": {},
   "outputs": [],
   "source": [
    "from bokeh.io import output_notebook, show\n",
    "from bokeh.plotting import figure"
   ]
  },
  {
   "cell_type": "code",
   "execution_count": null,
   "metadata": {
    "collapsed": true
   },
   "outputs": [],
   "source": []
  },
  {
   "cell_type": "markdown",
   "metadata": {},
   "source": [
    "In this case, we are in the Jupyter notebook, so call `output_notebook()`. We only need to call this once, and all subsequent calls to `show()` will display inline in the notebook."
   ]
  },
  {
   "cell_type": "code",
   "execution_count": 2,
   "metadata": {},
   "outputs": [
    {
     "data": {
      "text/html": [
       "\n",
       "    <div class=\"bk-root\">\n",
       "        <a href=\"https://bokeh.pydata.org\" target=\"_blank\" class=\"bk-logo bk-logo-small bk-logo-notebook\"></a>\n",
       "        <span id=\"6d08ad20-157b-49b6-a602-58b829d1d156\">Loading BokehJS ...</span>\n",
       "    </div>"
      ]
     },
     "metadata": {},
     "output_type": "display_data"
    },
    {
     "data": {
      "application/javascript": [
       "\n",
       "(function(root) {\n",
       "  function now() {\n",
       "    return new Date();\n",
       "  }\n",
       "\n",
       "  var force = true;\n",
       "\n",
       "  if (typeof (root._bokeh_onload_callbacks) === \"undefined\" || force === true) {\n",
       "    root._bokeh_onload_callbacks = [];\n",
       "    root._bokeh_is_loading = undefined;\n",
       "  }\n",
       "\n",
       "  var JS_MIME_TYPE = 'application/javascript';\n",
       "  var HTML_MIME_TYPE = 'text/html';\n",
       "  var EXEC_MIME_TYPE = 'application/vnd.bokehjs_exec.v0+json';\n",
       "  var CLASS_NAME = 'output_bokeh rendered_html';\n",
       "\n",
       "  /**\n",
       "   * Render data to the DOM node\n",
       "   */\n",
       "  function render(props, node) {\n",
       "    var script = document.createElement(\"script\");\n",
       "    node.appendChild(script);\n",
       "  }\n",
       "\n",
       "  /**\n",
       "   * Handle when an output is cleared or removed\n",
       "   */\n",
       "  function handleClearOutput(event, handle) {\n",
       "    var cell = handle.cell;\n",
       "\n",
       "    var id = cell.output_area._bokeh_element_id;\n",
       "    var server_id = cell.output_area._bokeh_server_id;\n",
       "    // Clean up Bokeh references\n",
       "    if (id !== undefined) {\n",
       "      Bokeh.index[id].model.document.clear();\n",
       "      delete Bokeh.index[id];\n",
       "    }\n",
       "\n",
       "    if (server_id !== undefined) {\n",
       "      // Clean up Bokeh references\n",
       "      var cmd = \"from bokeh.io.state import curstate; print(curstate().uuid_to_server['\" + server_id + \"'].get_sessions()[0].document.roots[0]._id)\";\n",
       "      cell.notebook.kernel.execute(cmd, {\n",
       "        iopub: {\n",
       "          output: function(msg) {\n",
       "            var element_id = msg.content.text.trim();\n",
       "            Bokeh.index[element_id].model.document.clear();\n",
       "            delete Bokeh.index[element_id];\n",
       "          }\n",
       "        }\n",
       "      });\n",
       "      // Destroy server and session\n",
       "      var cmd = \"import bokeh.io.notebook as ion; ion.destroy_server('\" + server_id + \"')\";\n",
       "      cell.notebook.kernel.execute(cmd);\n",
       "    }\n",
       "  }\n",
       "\n",
       "  /**\n",
       "   * Handle when a new output is added\n",
       "   */\n",
       "  function handleAddOutput(event, handle) {\n",
       "    var output_area = handle.output_area;\n",
       "    var output = handle.output;\n",
       "\n",
       "    // limit handleAddOutput to display_data with EXEC_MIME_TYPE content only\n",
       "    if ((output.output_type != \"display_data\") || (!output.data.hasOwnProperty(EXEC_MIME_TYPE))) {\n",
       "      return\n",
       "    }\n",
       "\n",
       "    var toinsert = output_area.element.find(\".\" + CLASS_NAME.split(' ')[0]);\n",
       "\n",
       "    if (output.metadata[EXEC_MIME_TYPE][\"id\"] !== undefined) {\n",
       "      toinsert[0].firstChild.textContent = output.data[JS_MIME_TYPE];\n",
       "      // store reference to embed id on output_area\n",
       "      output_area._bokeh_element_id = output.metadata[EXEC_MIME_TYPE][\"id\"];\n",
       "    }\n",
       "    if (output.metadata[EXEC_MIME_TYPE][\"server_id\"] !== undefined) {\n",
       "      var bk_div = document.createElement(\"div\");\n",
       "      bk_div.innerHTML = output.data[HTML_MIME_TYPE];\n",
       "      var script_attrs = bk_div.children[0].attributes;\n",
       "      for (var i = 0; i < script_attrs.length; i++) {\n",
       "        toinsert[0].firstChild.setAttribute(script_attrs[i].name, script_attrs[i].value);\n",
       "      }\n",
       "      // store reference to server id on output_area\n",
       "      output_area._bokeh_server_id = output.metadata[EXEC_MIME_TYPE][\"server_id\"];\n",
       "    }\n",
       "  }\n",
       "\n",
       "  function register_renderer(events, OutputArea) {\n",
       "\n",
       "    function append_mime(data, metadata, element) {\n",
       "      // create a DOM node to render to\n",
       "      var toinsert = this.create_output_subarea(\n",
       "        metadata,\n",
       "        CLASS_NAME,\n",
       "        EXEC_MIME_TYPE\n",
       "      );\n",
       "      this.keyboard_manager.register_events(toinsert);\n",
       "      // Render to node\n",
       "      var props = {data: data, metadata: metadata[EXEC_MIME_TYPE]};\n",
       "      render(props, toinsert[0]);\n",
       "      element.append(toinsert);\n",
       "      return toinsert\n",
       "    }\n",
       "\n",
       "    /* Handle when an output is cleared or removed */\n",
       "    events.on('clear_output.CodeCell', handleClearOutput);\n",
       "    events.on('delete.Cell', handleClearOutput);\n",
       "\n",
       "    /* Handle when a new output is added */\n",
       "    events.on('output_added.OutputArea', handleAddOutput);\n",
       "\n",
       "    /**\n",
       "     * Register the mime type and append_mime function with output_area\n",
       "     */\n",
       "    OutputArea.prototype.register_mime_type(EXEC_MIME_TYPE, append_mime, {\n",
       "      /* Is output safe? */\n",
       "      safe: true,\n",
       "      /* Index of renderer in `output_area.display_order` */\n",
       "      index: 0\n",
       "    });\n",
       "  }\n",
       "\n",
       "  // register the mime type if in Jupyter Notebook environment and previously unregistered\n",
       "  if (root.Jupyter !== undefined) {\n",
       "    var events = require('base/js/events');\n",
       "    var OutputArea = require('notebook/js/outputarea').OutputArea;\n",
       "\n",
       "    if (OutputArea.prototype.mime_types().indexOf(EXEC_MIME_TYPE) == -1) {\n",
       "      register_renderer(events, OutputArea);\n",
       "    }\n",
       "  }\n",
       "\n",
       "  \n",
       "  if (typeof (root._bokeh_timeout) === \"undefined\" || force === true) {\n",
       "    root._bokeh_timeout = Date.now() + 5000;\n",
       "    root._bokeh_failed_load = false;\n",
       "  }\n",
       "\n",
       "  var NB_LOAD_WARNING = {'data': {'text/html':\n",
       "     \"<div style='background-color: #fdd'>\\n\"+\n",
       "     \"<p>\\n\"+\n",
       "     \"BokehJS does not appear to have successfully loaded. If loading BokehJS from CDN, this \\n\"+\n",
       "     \"may be due to a slow or bad network connection. Possible fixes:\\n\"+\n",
       "     \"</p>\\n\"+\n",
       "     \"<ul>\\n\"+\n",
       "     \"<li>re-rerun `output_notebook()` to attempt to load from CDN again, or</li>\\n\"+\n",
       "     \"<li>use INLINE resources instead, as so:</li>\\n\"+\n",
       "     \"</ul>\\n\"+\n",
       "     \"<code>\\n\"+\n",
       "     \"from bokeh.resources import INLINE\\n\"+\n",
       "     \"output_notebook(resources=INLINE)\\n\"+\n",
       "     \"</code>\\n\"+\n",
       "     \"</div>\"}};\n",
       "\n",
       "  function display_loaded() {\n",
       "    var el = document.getElementById(\"6d08ad20-157b-49b6-a602-58b829d1d156\");\n",
       "    if (el != null) {\n",
       "      el.textContent = \"BokehJS is loading...\";\n",
       "    }\n",
       "    if (root.Bokeh !== undefined) {\n",
       "      if (el != null) {\n",
       "        el.textContent = \"BokehJS \" + root.Bokeh.version + \" successfully loaded.\";\n",
       "      }\n",
       "    } else if (Date.now() < root._bokeh_timeout) {\n",
       "      setTimeout(display_loaded, 100)\n",
       "    }\n",
       "  }\n",
       "\n",
       "\n",
       "  function run_callbacks() {\n",
       "    try {\n",
       "      root._bokeh_onload_callbacks.forEach(function(callback) { callback() });\n",
       "    }\n",
       "    finally {\n",
       "      delete root._bokeh_onload_callbacks\n",
       "    }\n",
       "    console.info(\"Bokeh: all callbacks have finished\");\n",
       "  }\n",
       "\n",
       "  function load_libs(js_urls, callback) {\n",
       "    root._bokeh_onload_callbacks.push(callback);\n",
       "    if (root._bokeh_is_loading > 0) {\n",
       "      console.log(\"Bokeh: BokehJS is being loaded, scheduling callback at\", now());\n",
       "      return null;\n",
       "    }\n",
       "    if (js_urls == null || js_urls.length === 0) {\n",
       "      run_callbacks();\n",
       "      return null;\n",
       "    }\n",
       "    console.log(\"Bokeh: BokehJS not loaded, scheduling load and callback at\", now());\n",
       "    root._bokeh_is_loading = js_urls.length;\n",
       "    for (var i = 0; i < js_urls.length; i++) {\n",
       "      var url = js_urls[i];\n",
       "      var s = document.createElement('script');\n",
       "      s.src = url;\n",
       "      s.async = false;\n",
       "      s.onreadystatechange = s.onload = function() {\n",
       "        root._bokeh_is_loading--;\n",
       "        if (root._bokeh_is_loading === 0) {\n",
       "          console.log(\"Bokeh: all BokehJS libraries loaded\");\n",
       "          run_callbacks()\n",
       "        }\n",
       "      };\n",
       "      s.onerror = function() {\n",
       "        console.warn(\"failed to load library \" + url);\n",
       "      };\n",
       "      console.log(\"Bokeh: injecting script tag for BokehJS library: \", url);\n",
       "      document.getElementsByTagName(\"head\")[0].appendChild(s);\n",
       "    }\n",
       "  };var element = document.getElementById(\"6d08ad20-157b-49b6-a602-58b829d1d156\");\n",
       "  if (element == null) {\n",
       "    console.log(\"Bokeh: ERROR: autoload.js configured with elementid '6d08ad20-157b-49b6-a602-58b829d1d156' but no matching script tag was found. \")\n",
       "    return false;\n",
       "  }\n",
       "\n",
       "  var js_urls = [\"https://cdn.pydata.org/bokeh/release/bokeh-0.12.13.min.js\", \"https://cdn.pydata.org/bokeh/release/bokeh-widgets-0.12.13.min.js\", \"https://cdn.pydata.org/bokeh/release/bokeh-tables-0.12.13.min.js\", \"https://cdn.pydata.org/bokeh/release/bokeh-gl-0.12.13.min.js\"];\n",
       "\n",
       "  var inline_js = [\n",
       "    function(Bokeh) {\n",
       "      Bokeh.set_log_level(\"info\");\n",
       "    },\n",
       "    \n",
       "    function(Bokeh) {\n",
       "      \n",
       "    },\n",
       "    function(Bokeh) {\n",
       "      console.log(\"Bokeh: injecting CSS: https://cdn.pydata.org/bokeh/release/bokeh-0.12.13.min.css\");\n",
       "      Bokeh.embed.inject_css(\"https://cdn.pydata.org/bokeh/release/bokeh-0.12.13.min.css\");\n",
       "      console.log(\"Bokeh: injecting CSS: https://cdn.pydata.org/bokeh/release/bokeh-widgets-0.12.13.min.css\");\n",
       "      Bokeh.embed.inject_css(\"https://cdn.pydata.org/bokeh/release/bokeh-widgets-0.12.13.min.css\");\n",
       "      console.log(\"Bokeh: injecting CSS: https://cdn.pydata.org/bokeh/release/bokeh-tables-0.12.13.min.css\");\n",
       "      Bokeh.embed.inject_css(\"https://cdn.pydata.org/bokeh/release/bokeh-tables-0.12.13.min.css\");\n",
       "    }\n",
       "  ];\n",
       "\n",
       "  function run_inline_js() {\n",
       "    \n",
       "    if ((root.Bokeh !== undefined) || (force === true)) {\n",
       "      for (var i = 0; i < inline_js.length; i++) {\n",
       "        inline_js[i].call(root, root.Bokeh);\n",
       "      }if (force === true) {\n",
       "        display_loaded();\n",
       "      }} else if (Date.now() < root._bokeh_timeout) {\n",
       "      setTimeout(run_inline_js, 100);\n",
       "    } else if (!root._bokeh_failed_load) {\n",
       "      console.log(\"Bokeh: BokehJS failed to load within specified timeout.\");\n",
       "      root._bokeh_failed_load = true;\n",
       "    } else if (force !== true) {\n",
       "      var cell = $(document.getElementById(\"6d08ad20-157b-49b6-a602-58b829d1d156\")).parents('.cell').data().cell;\n",
       "      cell.output_area.append_execute_result(NB_LOAD_WARNING)\n",
       "    }\n",
       "\n",
       "  }\n",
       "\n",
       "  if (root._bokeh_is_loading === 0) {\n",
       "    console.log(\"Bokeh: BokehJS loaded, going straight to plotting\");\n",
       "    run_inline_js();\n",
       "  } else {\n",
       "    load_libs(js_urls, function() {\n",
       "      console.log(\"Bokeh: BokehJS plotting callback run at\", now());\n",
       "      run_inline_js();\n",
       "    });\n",
       "  }\n",
       "}(window));"
      ],
      "application/vnd.bokehjs_load.v0+json": "\n(function(root) {\n  function now() {\n    return new Date();\n  }\n\n  var force = true;\n\n  if (typeof (root._bokeh_onload_callbacks) === \"undefined\" || force === true) {\n    root._bokeh_onload_callbacks = [];\n    root._bokeh_is_loading = undefined;\n  }\n\n  \n\n  \n  if (typeof (root._bokeh_timeout) === \"undefined\" || force === true) {\n    root._bokeh_timeout = Date.now() + 5000;\n    root._bokeh_failed_load = false;\n  }\n\n  var NB_LOAD_WARNING = {'data': {'text/html':\n     \"<div style='background-color: #fdd'>\\n\"+\n     \"<p>\\n\"+\n     \"BokehJS does not appear to have successfully loaded. If loading BokehJS from CDN, this \\n\"+\n     \"may be due to a slow or bad network connection. Possible fixes:\\n\"+\n     \"</p>\\n\"+\n     \"<ul>\\n\"+\n     \"<li>re-rerun `output_notebook()` to attempt to load from CDN again, or</li>\\n\"+\n     \"<li>use INLINE resources instead, as so:</li>\\n\"+\n     \"</ul>\\n\"+\n     \"<code>\\n\"+\n     \"from bokeh.resources import INLINE\\n\"+\n     \"output_notebook(resources=INLINE)\\n\"+\n     \"</code>\\n\"+\n     \"</div>\"}};\n\n  function display_loaded() {\n    var el = document.getElementById(\"6d08ad20-157b-49b6-a602-58b829d1d156\");\n    if (el != null) {\n      el.textContent = \"BokehJS is loading...\";\n    }\n    if (root.Bokeh !== undefined) {\n      if (el != null) {\n        el.textContent = \"BokehJS \" + root.Bokeh.version + \" successfully loaded.\";\n      }\n    } else if (Date.now() < root._bokeh_timeout) {\n      setTimeout(display_loaded, 100)\n    }\n  }\n\n\n  function run_callbacks() {\n    try {\n      root._bokeh_onload_callbacks.forEach(function(callback) { callback() });\n    }\n    finally {\n      delete root._bokeh_onload_callbacks\n    }\n    console.info(\"Bokeh: all callbacks have finished\");\n  }\n\n  function load_libs(js_urls, callback) {\n    root._bokeh_onload_callbacks.push(callback);\n    if (root._bokeh_is_loading > 0) {\n      console.log(\"Bokeh: BokehJS is being loaded, scheduling callback at\", now());\n      return null;\n    }\n    if (js_urls == null || js_urls.length === 0) {\n      run_callbacks();\n      return null;\n    }\n    console.log(\"Bokeh: BokehJS not loaded, scheduling load and callback at\", now());\n    root._bokeh_is_loading = js_urls.length;\n    for (var i = 0; i < js_urls.length; i++) {\n      var url = js_urls[i];\n      var s = document.createElement('script');\n      s.src = url;\n      s.async = false;\n      s.onreadystatechange = s.onload = function() {\n        root._bokeh_is_loading--;\n        if (root._bokeh_is_loading === 0) {\n          console.log(\"Bokeh: all BokehJS libraries loaded\");\n          run_callbacks()\n        }\n      };\n      s.onerror = function() {\n        console.warn(\"failed to load library \" + url);\n      };\n      console.log(\"Bokeh: injecting script tag for BokehJS library: \", url);\n      document.getElementsByTagName(\"head\")[0].appendChild(s);\n    }\n  };var element = document.getElementById(\"6d08ad20-157b-49b6-a602-58b829d1d156\");\n  if (element == null) {\n    console.log(\"Bokeh: ERROR: autoload.js configured with elementid '6d08ad20-157b-49b6-a602-58b829d1d156' but no matching script tag was found. \")\n    return false;\n  }\n\n  var js_urls = [\"https://cdn.pydata.org/bokeh/release/bokeh-0.12.13.min.js\", \"https://cdn.pydata.org/bokeh/release/bokeh-widgets-0.12.13.min.js\", \"https://cdn.pydata.org/bokeh/release/bokeh-tables-0.12.13.min.js\", \"https://cdn.pydata.org/bokeh/release/bokeh-gl-0.12.13.min.js\"];\n\n  var inline_js = [\n    function(Bokeh) {\n      Bokeh.set_log_level(\"info\");\n    },\n    \n    function(Bokeh) {\n      \n    },\n    function(Bokeh) {\n      console.log(\"Bokeh: injecting CSS: https://cdn.pydata.org/bokeh/release/bokeh-0.12.13.min.css\");\n      Bokeh.embed.inject_css(\"https://cdn.pydata.org/bokeh/release/bokeh-0.12.13.min.css\");\n      console.log(\"Bokeh: injecting CSS: https://cdn.pydata.org/bokeh/release/bokeh-widgets-0.12.13.min.css\");\n      Bokeh.embed.inject_css(\"https://cdn.pydata.org/bokeh/release/bokeh-widgets-0.12.13.min.css\");\n      console.log(\"Bokeh: injecting CSS: https://cdn.pydata.org/bokeh/release/bokeh-tables-0.12.13.min.css\");\n      Bokeh.embed.inject_css(\"https://cdn.pydata.org/bokeh/release/bokeh-tables-0.12.13.min.css\");\n    }\n  ];\n\n  function run_inline_js() {\n    \n    if ((root.Bokeh !== undefined) || (force === true)) {\n      for (var i = 0; i < inline_js.length; i++) {\n        inline_js[i].call(root, root.Bokeh);\n      }if (force === true) {\n        display_loaded();\n      }} else if (Date.now() < root._bokeh_timeout) {\n      setTimeout(run_inline_js, 100);\n    } else if (!root._bokeh_failed_load) {\n      console.log(\"Bokeh: BokehJS failed to load within specified timeout.\");\n      root._bokeh_failed_load = true;\n    } else if (force !== true) {\n      var cell = $(document.getElementById(\"6d08ad20-157b-49b6-a602-58b829d1d156\")).parents('.cell').data().cell;\n      cell.output_area.append_execute_result(NB_LOAD_WARNING)\n    }\n\n  }\n\n  if (root._bokeh_is_loading === 0) {\n    console.log(\"Bokeh: BokehJS loaded, going straight to plotting\");\n    run_inline_js();\n  } else {\n    load_libs(js_urls, function() {\n      console.log(\"Bokeh: BokehJS plotting callback run at\", now());\n      run_inline_js();\n    });\n  }\n}(window));"
     },
     "metadata": {},
     "output_type": "display_data"
    }
   ],
   "source": [
    "output_notebook()"
   ]
  },
  {
   "cell_type": "markdown",
   "metadata": {},
   "source": [
    "# Some Basic Scatter Plots\n",
    "\n",
    "In this section you will see how to use Bokeh's various marker types to create simple scatter plots. "
   ]
  },
  {
   "cell_type": "code",
   "execution_count": 3,
   "metadata": {},
   "outputs": [
    {
     "data": {
      "text/html": [
       "\n",
       "<div class=\"bk-root\">\n",
       "    <div class=\"bk-plotdiv\" id=\"7764b2d2-9f3b-49d6-9787-095e7674e076\"></div>\n",
       "</div>"
      ]
     },
     "metadata": {},
     "output_type": "display_data"
    },
    {
     "data": {
      "application/javascript": [
       "(function(root) {\n",
       "  function embed_document(root) {\n",
       "    \n",
       "  var docs_json = {\"e6d97349-2f57-40b9-9660-23787cab021c\":{\"roots\":{\"references\":[{\"attributes\":{\"formatter\":{\"id\":\"8c029747-e964-4bf8-971a-52f0df8d3661\",\"type\":\"BasicTickFormatter\"},\"plot\":{\"id\":\"22ffc9e4-d980-4d29-9833-523e2023dc7e\",\"subtype\":\"Figure\",\"type\":\"Plot\"},\"ticker\":{\"id\":\"bdb0a600-d3ac-4ba8-ac4a-fb6624ae409a\",\"type\":\"BasicTicker\"}},\"id\":\"145ef2aa-e345-47be-9062-439b4c29a5fc\",\"type\":\"LinearAxis\"},{\"attributes\":{\"fill_alpha\":{\"value\":0.1},\"fill_color\":{\"value\":\"#1f77b4\"},\"line_alpha\":{\"value\":0.1},\"line_color\":{\"value\":\"#1f77b4\"},\"size\":{\"units\":\"screen\",\"value\":15},\"x\":{\"field\":\"x\"},\"y\":{\"field\":\"y\"}},\"id\":\"ccf15049-dba1-4fa9-bc99-39ed7de41894\",\"type\":\"Circle\"},{\"attributes\":{},\"id\":\"bdb0a600-d3ac-4ba8-ac4a-fb6624ae409a\",\"type\":\"BasicTicker\"},{\"attributes\":{\"plot\":{\"id\":\"22ffc9e4-d980-4d29-9833-523e2023dc7e\",\"subtype\":\"Figure\",\"type\":\"Plot\"},\"ticker\":{\"id\":\"bdb0a600-d3ac-4ba8-ac4a-fb6624ae409a\",\"type\":\"BasicTicker\"}},\"id\":\"071fa4bc-0ca2-45b7-b312-106551e21cfa\",\"type\":\"Grid\"},{\"attributes\":{\"formatter\":{\"id\":\"ac7ca2be-adfe-4186-b02f-d8973962c300\",\"type\":\"BasicTickFormatter\"},\"plot\":{\"id\":\"22ffc9e4-d980-4d29-9833-523e2023dc7e\",\"subtype\":\"Figure\",\"type\":\"Plot\"},\"ticker\":{\"id\":\"50de7a0b-0424-4e59-bc0e-a02d07f3fd15\",\"type\":\"BasicTicker\"}},\"id\":\"e9ecb651-f128-431b-81fa-fb0f57ed9cc6\",\"type\":\"LinearAxis\"},{\"attributes\":{},\"id\":\"50de7a0b-0424-4e59-bc0e-a02d07f3fd15\",\"type\":\"BasicTicker\"},{\"attributes\":{\"source\":{\"id\":\"8a0d0952-6e71-4036-b2e9-b37726d2cfc5\",\"type\":\"ColumnDataSource\"}},\"id\":\"bbff3ca6-08cc-4b13-8b61-52b1b2e9652a\",\"type\":\"CDSView\"},{\"attributes\":{\"dimension\":1,\"plot\":{\"id\":\"22ffc9e4-d980-4d29-9833-523e2023dc7e\",\"subtype\":\"Figure\",\"type\":\"Plot\"},\"ticker\":{\"id\":\"50de7a0b-0424-4e59-bc0e-a02d07f3fd15\",\"type\":\"BasicTicker\"}},\"id\":\"992f9ceb-329a-41f5-9cb4-545bc963702f\",\"type\":\"Grid\"},{\"attributes\":{\"data_source\":{\"id\":\"8a0d0952-6e71-4036-b2e9-b37726d2cfc5\",\"type\":\"ColumnDataSource\"},\"glyph\":{\"id\":\"6496756d-c9a3-432a-9870-f9e27974095b\",\"type\":\"Circle\"},\"hover_glyph\":null,\"muted_glyph\":null,\"nonselection_glyph\":{\"id\":\"ccf15049-dba1-4fa9-bc99-39ed7de41894\",\"type\":\"Circle\"},\"selection_glyph\":null,\"view\":{\"id\":\"bbff3ca6-08cc-4b13-8b61-52b1b2e9652a\",\"type\":\"CDSView\"}},\"id\":\"2a00815e-ac32-40f6-8cda-3dba1db888f0\",\"type\":\"GlyphRenderer\"},{\"attributes\":{\"bottom_units\":\"screen\",\"fill_alpha\":{\"value\":0.5},\"fill_color\":{\"value\":\"lightgrey\"},\"left_units\":\"screen\",\"level\":\"overlay\",\"line_alpha\":{\"value\":1.0},\"line_color\":{\"value\":\"black\"},\"line_dash\":[4,4],\"line_width\":{\"value\":2},\"plot\":null,\"render_mode\":\"css\",\"right_units\":\"screen\",\"top_units\":\"screen\"},\"id\":\"ad48db2f-b066-4058-a78e-50fd1914f047\",\"type\":\"BoxAnnotation\"},{\"attributes\":{},\"id\":\"8c029747-e964-4bf8-971a-52f0df8d3661\",\"type\":\"BasicTickFormatter\"},{\"attributes\":{\"below\":[{\"id\":\"145ef2aa-e345-47be-9062-439b4c29a5fc\",\"type\":\"LinearAxis\"}],\"left\":[{\"id\":\"e9ecb651-f128-431b-81fa-fb0f57ed9cc6\",\"type\":\"LinearAxis\"}],\"plot_height\":400,\"plot_width\":400,\"renderers\":[{\"id\":\"145ef2aa-e345-47be-9062-439b4c29a5fc\",\"type\":\"LinearAxis\"},{\"id\":\"071fa4bc-0ca2-45b7-b312-106551e21cfa\",\"type\":\"Grid\"},{\"id\":\"e9ecb651-f128-431b-81fa-fb0f57ed9cc6\",\"type\":\"LinearAxis\"},{\"id\":\"992f9ceb-329a-41f5-9cb4-545bc963702f\",\"type\":\"Grid\"},{\"id\":\"ad48db2f-b066-4058-a78e-50fd1914f047\",\"type\":\"BoxAnnotation\"},{\"id\":\"2a00815e-ac32-40f6-8cda-3dba1db888f0\",\"type\":\"GlyphRenderer\"}],\"title\":{\"id\":\"f3e029d1-a24a-4592-aa24-71bdf2632052\",\"type\":\"Title\"},\"toolbar\":{\"id\":\"bba34ca6-8965-4bf4-8ad3-4449cc733a83\",\"type\":\"Toolbar\"},\"x_range\":{\"id\":\"68021f2c-a372-41f0-9c65-cae79777aa4c\",\"type\":\"DataRange1d\"},\"x_scale\":{\"id\":\"d5a26c2c-42ad-4233-abb5-0f6a8320c754\",\"type\":\"LinearScale\"},\"y_range\":{\"id\":\"496c2f67-cbe4-48c8-a972-4ec184970295\",\"type\":\"DataRange1d\"},\"y_scale\":{\"id\":\"d02d7842-1c2d-4f7a-9c6e-a8b2d194acb5\",\"type\":\"LinearScale\"}},\"id\":\"22ffc9e4-d980-4d29-9833-523e2023dc7e\",\"subtype\":\"Figure\",\"type\":\"Plot\"},{\"attributes\":{\"plot\":null,\"text\":\"\"},\"id\":\"f3e029d1-a24a-4592-aa24-71bdf2632052\",\"type\":\"Title\"},{\"attributes\":{\"fill_alpha\":{\"value\":0.5},\"fill_color\":{\"value\":\"orange\"},\"line_color\":{\"value\":\"navy\"},\"size\":{\"units\":\"screen\",\"value\":15},\"x\":{\"field\":\"x\"},\"y\":{\"field\":\"y\"}},\"id\":\"6496756d-c9a3-432a-9870-f9e27974095b\",\"type\":\"Circle\"},{\"attributes\":{\"callback\":null,\"column_names\":[\"x\",\"y\"],\"data\":{\"x\":[1,2,3,4,5],\"y\":[6,7,2,4,5]}},\"id\":\"8a0d0952-6e71-4036-b2e9-b37726d2cfc5\",\"type\":\"ColumnDataSource\"},{\"attributes\":{},\"id\":\"56c34d9e-3494-4907-b4aa-560acf43ad33\",\"type\":\"PanTool\"},{\"attributes\":{\"active_drag\":\"auto\",\"active_inspect\":\"auto\",\"active_scroll\":\"auto\",\"active_tap\":\"auto\",\"tools\":[{\"id\":\"56c34d9e-3494-4907-b4aa-560acf43ad33\",\"type\":\"PanTool\"},{\"id\":\"c3e4f99c-c5f8-43a0-a806-91153430046b\",\"type\":\"WheelZoomTool\"},{\"id\":\"f0ff45c5-eb27-4e1c-a3d3-3f0aeff7170b\",\"type\":\"BoxZoomTool\"},{\"id\":\"5b599e0a-2765-4688-953c-594fad29fe8b\",\"type\":\"SaveTool\"},{\"id\":\"ccca08da-f12b-4ac7-80c1-9d41da32e4c6\",\"type\":\"ResetTool\"},{\"id\":\"98f2d16e-534c-4b98-b388-ceeb6717eddf\",\"type\":\"HelpTool\"}]},\"id\":\"bba34ca6-8965-4bf4-8ad3-4449cc733a83\",\"type\":\"Toolbar\"},{\"attributes\":{},\"id\":\"c3e4f99c-c5f8-43a0-a806-91153430046b\",\"type\":\"WheelZoomTool\"},{\"attributes\":{\"callback\":null},\"id\":\"68021f2c-a372-41f0-9c65-cae79777aa4c\",\"type\":\"DataRange1d\"},{\"attributes\":{\"overlay\":{\"id\":\"ad48db2f-b066-4058-a78e-50fd1914f047\",\"type\":\"BoxAnnotation\"}},\"id\":\"f0ff45c5-eb27-4e1c-a3d3-3f0aeff7170b\",\"type\":\"BoxZoomTool\"},{\"attributes\":{},\"id\":\"ac7ca2be-adfe-4186-b02f-d8973962c300\",\"type\":\"BasicTickFormatter\"},{\"attributes\":{},\"id\":\"5b599e0a-2765-4688-953c-594fad29fe8b\",\"type\":\"SaveTool\"},{\"attributes\":{\"callback\":null},\"id\":\"496c2f67-cbe4-48c8-a972-4ec184970295\",\"type\":\"DataRange1d\"},{\"attributes\":{},\"id\":\"ccca08da-f12b-4ac7-80c1-9d41da32e4c6\",\"type\":\"ResetTool\"},{\"attributes\":{},\"id\":\"d5a26c2c-42ad-4233-abb5-0f6a8320c754\",\"type\":\"LinearScale\"},{\"attributes\":{},\"id\":\"98f2d16e-534c-4b98-b388-ceeb6717eddf\",\"type\":\"HelpTool\"},{\"attributes\":{},\"id\":\"d02d7842-1c2d-4f7a-9c6e-a8b2d194acb5\",\"type\":\"LinearScale\"}],\"root_ids\":[\"22ffc9e4-d980-4d29-9833-523e2023dc7e\"]},\"title\":\"Bokeh Application\",\"version\":\"0.12.13\"}};\n",
       "  var render_items = [{\"docid\":\"e6d97349-2f57-40b9-9660-23787cab021c\",\"elementid\":\"7764b2d2-9f3b-49d6-9787-095e7674e076\",\"modelid\":\"22ffc9e4-d980-4d29-9833-523e2023dc7e\"}];\n",
       "  root.Bokeh.embed.embed_items_notebook(docs_json, render_items);\n",
       "\n",
       "  }\n",
       "  if (root.Bokeh !== undefined) {\n",
       "    embed_document(root);\n",
       "  } else {\n",
       "    var attempts = 0;\n",
       "    var timer = setInterval(function(root) {\n",
       "      if (root.Bokeh !== undefined) {\n",
       "        embed_document(root);\n",
       "        clearInterval(timer);\n",
       "      }\n",
       "      attempts++;\n",
       "      if (attempts > 100) {\n",
       "        console.log(\"Bokeh: ERROR: Unable to run BokehJS code because BokehJS library is missing\")\n",
       "        clearInterval(timer);\n",
       "      }\n",
       "    }, 10, root)\n",
       "  }\n",
       "})(window);"
      ],
      "application/vnd.bokehjs_exec.v0+json": ""
     },
     "metadata": {
      "application/vnd.bokehjs_exec.v0+json": {
       "id": "22ffc9e4-d980-4d29-9833-523e2023dc7e"
      }
     },
     "output_type": "display_data"
    }
   ],
   "source": [
    "# create a new plot with default tools, using figure\n",
    "p = figure(plot_width=400, plot_height=400)\n",
    "\n",
    "# add a circle renderer with a size, color, and alpha\n",
    "p.circle([1, 2, 3, 4, 5], [6, 7, 2, 4, 5], size=15, line_color=\"navy\", fill_color=\"orange\", fill_alpha=0.5)\n",
    "\n",
    "show(p) # show the results"
   ]
  },
  {
   "cell_type": "markdown",
   "metadata": {},
   "source": [
    "All Bokeh markers accept `size` (measured in screen space units) as a property. Circles also have `radius` (measured in \"data\" space units). "
   ]
  },
  {
   "cell_type": "code",
   "execution_count": 7,
   "metadata": {},
   "outputs": [
    {
     "data": {
      "text/html": [
       "\n",
       "<div class=\"bk-root\">\n",
       "    <div class=\"bk-plotdiv\" id=\"e62fb20a-4660-46a0-9b83-9c54867142b2\"></div>\n",
       "</div>"
      ]
     },
     "metadata": {},
     "output_type": "display_data"
    },
    {
     "data": {
      "application/javascript": [
       "(function(root) {\n",
       "  function embed_document(root) {\n",
       "    \n",
       "  var docs_json = {\"2e58c489-c532-4564-9c3b-7a3fc9d9ff9b\":{\"roots\":{\"references\":[{\"attributes\":{},\"id\":\"932c7442-c4ef-4fa7-a402-3a606947b96e\",\"type\":\"BasicTickFormatter\"},{\"attributes\":{\"callback\":null},\"id\":\"34b1567d-eb00-4f56-b676-aea34c637e4b\",\"type\":\"DataRange1d\"},{\"attributes\":{\"formatter\":{\"id\":\"38a11f5a-97be-4bb8-a69f-5a7fb2691394\",\"type\":\"BasicTickFormatter\"},\"plot\":{\"id\":\"eb2c1a1e-0f8a-4262-bc6f-0f391af02fe6\",\"subtype\":\"Figure\",\"type\":\"Plot\"},\"ticker\":{\"id\":\"833307bf-81cd-4d80-99b6-599e9c93ec95\",\"type\":\"BasicTicker\"}},\"id\":\"41160789-37f8-4caa-a1f4-19fc2ec7a563\",\"type\":\"LinearAxis\"},{\"attributes\":{\"overlay\":{\"id\":\"f5a5e4cd-ad25-4f2f-92e2-107efd3540b4\",\"type\":\"BoxAnnotation\"}},\"id\":\"9e896b4a-dae2-45ca-b178-117474877fb6\",\"type\":\"BoxZoomTool\"},{\"attributes\":{},\"id\":\"2f4a3aed-a25c-40bb-86b2-05e838197e42\",\"type\":\"LinearScale\"},{\"attributes\":{},\"id\":\"f562e127-d5fa-4222-8a20-42b64a5ca16e\",\"type\":\"HelpTool\"},{\"attributes\":{\"below\":[{\"id\":\"8e68f226-ae9f-4d07-ad46-41d3b83b6895\",\"type\":\"LinearAxis\"}],\"left\":[{\"id\":\"41160789-37f8-4caa-a1f4-19fc2ec7a563\",\"type\":\"LinearAxis\"}],\"plot_height\":400,\"plot_width\":400,\"renderers\":[{\"id\":\"8e68f226-ae9f-4d07-ad46-41d3b83b6895\",\"type\":\"LinearAxis\"},{\"id\":\"b2beb735-42cb-4c52-aaf3-f9ad17661608\",\"type\":\"Grid\"},{\"id\":\"41160789-37f8-4caa-a1f4-19fc2ec7a563\",\"type\":\"LinearAxis\"},{\"id\":\"68903d45-e3b2-4ebd-b7c5-58e558b72e65\",\"type\":\"Grid\"},{\"id\":\"f5a5e4cd-ad25-4f2f-92e2-107efd3540b4\",\"type\":\"BoxAnnotation\"},{\"id\":\"60c2f445-f588-45c8-abfa-e3919e7f0496\",\"type\":\"GlyphRenderer\"}],\"title\":{\"id\":\"def83bd1-8999-4951-a372-920c004ec5c4\",\"type\":\"Title\"},\"toolbar\":{\"id\":\"e7e447d4-7fde-4920-9282-ff2ef6cbbbe3\",\"type\":\"Toolbar\"},\"x_range\":{\"id\":\"34b1567d-eb00-4f56-b676-aea34c637e4b\",\"type\":\"DataRange1d\"},\"x_scale\":{\"id\":\"3c358af0-d1d9-45e5-abac-72c3882d3b55\",\"type\":\"LinearScale\"},\"y_range\":{\"id\":\"0e27b513-0365-4977-83d4-708300582eec\",\"type\":\"DataRange1d\"},\"y_scale\":{\"id\":\"2f4a3aed-a25c-40bb-86b2-05e838197e42\",\"type\":\"LinearScale\"}},\"id\":\"eb2c1a1e-0f8a-4262-bc6f-0f391af02fe6\",\"subtype\":\"Figure\",\"type\":\"Plot\"},{\"attributes\":{},\"id\":\"ef0e61c1-2597-4435-a562-2760e3e7f3fd\",\"type\":\"ResetTool\"},{\"attributes\":{\"plot\":null,\"text\":\"\"},\"id\":\"def83bd1-8999-4951-a372-920c004ec5c4\",\"type\":\"Title\"},{\"attributes\":{},\"id\":\"cd0f7009-6fd1-4cb4-ad05-b2f39bd29546\",\"type\":\"SaveTool\"},{\"attributes\":{\"callback\":null},\"id\":\"0e27b513-0365-4977-83d4-708300582eec\",\"type\":\"DataRange1d\"},{\"attributes\":{\"source\":{\"id\":\"7be9b444-4978-4c9a-87a5-14ad8a1957df\",\"type\":\"ColumnDataSource\"}},\"id\":\"21e3cd22-d169-4f1e-872b-ffc6988f490e\",\"type\":\"CDSView\"},{\"attributes\":{\"data_source\":{\"id\":\"7be9b444-4978-4c9a-87a5-14ad8a1957df\",\"type\":\"ColumnDataSource\"},\"glyph\":{\"id\":\"e512e202-7261-47a3-b694-f4d27c380c66\",\"type\":\"Circle\"},\"hover_glyph\":null,\"muted_glyph\":null,\"nonselection_glyph\":{\"id\":\"f3a4d7e2-1607-44f0-a64b-941866543a82\",\"type\":\"Circle\"},\"selection_glyph\":null,\"view\":{\"id\":\"21e3cd22-d169-4f1e-872b-ffc6988f490e\",\"type\":\"CDSView\"}},\"id\":\"60c2f445-f588-45c8-abfa-e3919e7f0496\",\"type\":\"GlyphRenderer\"},{\"attributes\":{\"bottom_units\":\"screen\",\"fill_alpha\":{\"value\":0.5},\"fill_color\":{\"value\":\"lightgrey\"},\"left_units\":\"screen\",\"level\":\"overlay\",\"line_alpha\":{\"value\":1.0},\"line_color\":{\"value\":\"black\"},\"line_dash\":[4,4],\"line_width\":{\"value\":2},\"plot\":null,\"render_mode\":\"css\",\"right_units\":\"screen\",\"top_units\":\"screen\"},\"id\":\"f5a5e4cd-ad25-4f2f-92e2-107efd3540b4\",\"type\":\"BoxAnnotation\"},{\"attributes\":{\"callback\":null,\"column_names\":[\"x\",\"y\"],\"data\":{\"x\":[1,2,3,4,5],\"y\":[6,7,2,4,5]}},\"id\":\"7be9b444-4978-4c9a-87a5-14ad8a1957df\",\"type\":\"ColumnDataSource\"},{\"attributes\":{},\"id\":\"833307bf-81cd-4d80-99b6-599e9c93ec95\",\"type\":\"BasicTicker\"},{\"attributes\":{\"dimension\":1,\"plot\":{\"id\":\"eb2c1a1e-0f8a-4262-bc6f-0f391af02fe6\",\"subtype\":\"Figure\",\"type\":\"Plot\"},\"ticker\":{\"id\":\"833307bf-81cd-4d80-99b6-599e9c93ec95\",\"type\":\"BasicTicker\"}},\"id\":\"68903d45-e3b2-4ebd-b7c5-58e558b72e65\",\"type\":\"Grid\"},{\"attributes\":{},\"id\":\"2bc105cb-f1b4-4686-9fe6-61aaa0a45523\",\"type\":\"WheelZoomTool\"},{\"attributes\":{\"plot\":{\"id\":\"eb2c1a1e-0f8a-4262-bc6f-0f391af02fe6\",\"subtype\":\"Figure\",\"type\":\"Plot\"},\"ticker\":{\"id\":\"344e8a14-b26e-44f9-bc71-000c19638677\",\"type\":\"BasicTicker\"}},\"id\":\"b2beb735-42cb-4c52-aaf3-f9ad17661608\",\"type\":\"Grid\"},{\"attributes\":{},\"id\":\"38efe6b0-4eb9-4de1-99aa-4d3d4532a7dd\",\"type\":\"PanTool\"},{\"attributes\":{\"active_drag\":\"auto\",\"active_inspect\":\"auto\",\"active_scroll\":\"auto\",\"active_tap\":\"auto\",\"tools\":[{\"id\":\"38efe6b0-4eb9-4de1-99aa-4d3d4532a7dd\",\"type\":\"PanTool\"},{\"id\":\"2bc105cb-f1b4-4686-9fe6-61aaa0a45523\",\"type\":\"WheelZoomTool\"},{\"id\":\"9e896b4a-dae2-45ca-b178-117474877fb6\",\"type\":\"BoxZoomTool\"},{\"id\":\"cd0f7009-6fd1-4cb4-ad05-b2f39bd29546\",\"type\":\"SaveTool\"},{\"id\":\"ef0e61c1-2597-4435-a562-2760e3e7f3fd\",\"type\":\"ResetTool\"},{\"id\":\"f562e127-d5fa-4222-8a20-42b64a5ca16e\",\"type\":\"HelpTool\"}]},\"id\":\"e7e447d4-7fde-4920-9282-ff2ef6cbbbe3\",\"type\":\"Toolbar\"},{\"attributes\":{\"fill_alpha\":{\"value\":0.1},\"fill_color\":{\"value\":\"#1f77b4\"},\"line_alpha\":{\"value\":0.1},\"line_color\":{\"value\":\"#1f77b4\"},\"radius\":{\"units\":\"data\",\"value\":1},\"x\":{\"field\":\"x\"},\"y\":{\"field\":\"y\"}},\"id\":\"f3a4d7e2-1607-44f0-a64b-941866543a82\",\"type\":\"Circle\"},{\"attributes\":{\"formatter\":{\"id\":\"932c7442-c4ef-4fa7-a402-3a606947b96e\",\"type\":\"BasicTickFormatter\"},\"plot\":{\"id\":\"eb2c1a1e-0f8a-4262-bc6f-0f391af02fe6\",\"subtype\":\"Figure\",\"type\":\"Plot\"},\"ticker\":{\"id\":\"344e8a14-b26e-44f9-bc71-000c19638677\",\"type\":\"BasicTicker\"}},\"id\":\"8e68f226-ae9f-4d07-ad46-41d3b83b6895\",\"type\":\"LinearAxis\"},{\"attributes\":{\"fill_alpha\":{\"value\":0.5},\"fill_color\":{\"value\":\"orange\"},\"line_color\":{\"value\":\"red\"},\"radius\":{\"units\":\"data\",\"value\":1},\"x\":{\"field\":\"x\"},\"y\":{\"field\":\"y\"}},\"id\":\"e512e202-7261-47a3-b694-f4d27c380c66\",\"type\":\"Circle\"},{\"attributes\":{},\"id\":\"344e8a14-b26e-44f9-bc71-000c19638677\",\"type\":\"BasicTicker\"},{\"attributes\":{},\"id\":\"38a11f5a-97be-4bb8-a69f-5a7fb2691394\",\"type\":\"BasicTickFormatter\"},{\"attributes\":{},\"id\":\"3c358af0-d1d9-45e5-abac-72c3882d3b55\",\"type\":\"LinearScale\"}],\"root_ids\":[\"eb2c1a1e-0f8a-4262-bc6f-0f391af02fe6\"]},\"title\":\"Bokeh Application\",\"version\":\"0.12.13\"}};\n",
       "  var render_items = [{\"docid\":\"2e58c489-c532-4564-9c3b-7a3fc9d9ff9b\",\"elementid\":\"e62fb20a-4660-46a0-9b83-9c54867142b2\",\"modelid\":\"eb2c1a1e-0f8a-4262-bc6f-0f391af02fe6\"}];\n",
       "  root.Bokeh.embed.embed_items_notebook(docs_json, render_items);\n",
       "\n",
       "  }\n",
       "  if (root.Bokeh !== undefined) {\n",
       "    embed_document(root);\n",
       "  } else {\n",
       "    var attempts = 0;\n",
       "    var timer = setInterval(function(root) {\n",
       "      if (root.Bokeh !== undefined) {\n",
       "        embed_document(root);\n",
       "        clearInterval(timer);\n",
       "      }\n",
       "      attempts++;\n",
       "      if (attempts > 100) {\n",
       "        console.log(\"Bokeh: ERROR: Unable to run BokehJS code because BokehJS library is missing\")\n",
       "        clearInterval(timer);\n",
       "      }\n",
       "    }, 10, root)\n",
       "  }\n",
       "})(window);"
      ],
      "application/vnd.bokehjs_exec.v0+json": ""
     },
     "metadata": {
      "application/vnd.bokehjs_exec.v0+json": {
       "id": "eb2c1a1e-0f8a-4262-bc6f-0f391af02fe6"
      }
     },
     "output_type": "display_data"
    }
   ],
   "source": [
    "# EXERCISE: Try changing the example above to set a `radius` value instead of `size`\n",
    "# create a new plot with default tools, using figure\n",
    "p = figure(plot_width=400, plot_height=400)\n",
    "\n",
    "# add a circle renderer with a size, color, and alpha\n",
    "p.circle([1, 2, 3, 4, 5], [6, 7, 2, 4, 5], radius=1, line_color=\"red\", fill_color=\"orange\", fill_alpha=0.5)\n",
    "\n",
    "show(p) # show the results\n"
   ]
  },
  {
   "cell_type": "markdown",
   "metadata": {},
   "source": [
    "To scatter square markers instead of circles, you can use the `square` method on figures. "
   ]
  },
  {
   "cell_type": "code",
   "execution_count": 8,
   "metadata": {},
   "outputs": [
    {
     "data": {
      "text/html": [
       "\n",
       "<div class=\"bk-root\">\n",
       "    <div class=\"bk-plotdiv\" id=\"1e4fb339-bfbd-4dad-976c-729c409825bd\"></div>\n",
       "</div>"
      ]
     },
     "metadata": {},
     "output_type": "display_data"
    },
    {
     "data": {
      "application/javascript": [
       "(function(root) {\n",
       "  function embed_document(root) {\n",
       "    \n",
       "  var docs_json = {\"2f93add6-b287-4d6f-aaec-f8f4277faac1\":{\"roots\":{\"references\":[{\"attributes\":{\"callback\":null},\"id\":\"28c6c3ab-da9e-4613-8fc2-3f1e04f383e9\",\"type\":\"DataRange1d\"},{\"attributes\":{},\"id\":\"1e7724ca-b5bc-409c-aad2-d2cfc851041f\",\"type\":\"BasicTickFormatter\"},{\"attributes\":{\"data_source\":{\"id\":\"fec04d35-1ab2-4ca4-be3a-af3eafa57aaa\",\"type\":\"ColumnDataSource\"},\"glyph\":{\"id\":\"4f72b5e4-8fd2-40f6-9f87-c70f380ca914\",\"type\":\"Square\"},\"hover_glyph\":null,\"muted_glyph\":null,\"nonselection_glyph\":{\"id\":\"bfe23f7f-0c7d-4e77-b1a9-695b5c8e9c46\",\"type\":\"Square\"},\"selection_glyph\":null,\"view\":{\"id\":\"971bc38b-903e-4a28-92a4-e9231d5a5fc7\",\"type\":\"CDSView\"}},\"id\":\"9f522102-f182-44d5-ae4d-00ecb7036121\",\"type\":\"GlyphRenderer\"},{\"attributes\":{\"below\":[{\"id\":\"dfcefec0-188e-4ac2-b7bf-de5847ba7efb\",\"type\":\"LinearAxis\"}],\"left\":[{\"id\":\"623d352e-61a8-4126-bdda-b326b00dffb9\",\"type\":\"LinearAxis\"}],\"plot_height\":400,\"plot_width\":400,\"renderers\":[{\"id\":\"dfcefec0-188e-4ac2-b7bf-de5847ba7efb\",\"type\":\"LinearAxis\"},{\"id\":\"b261e2a9-9760-404b-ad99-686ab6808298\",\"type\":\"Grid\"},{\"id\":\"623d352e-61a8-4126-bdda-b326b00dffb9\",\"type\":\"LinearAxis\"},{\"id\":\"10c3326c-7cb9-4eb3-8a3e-cc66d28dc3f3\",\"type\":\"Grid\"},{\"id\":\"3636526e-9677-4500-8418-fb1e5784ab08\",\"type\":\"BoxAnnotation\"},{\"id\":\"9f522102-f182-44d5-ae4d-00ecb7036121\",\"type\":\"GlyphRenderer\"}],\"title\":{\"id\":\"8113d329-39ff-4b79-8b95-b23a26cb54cc\",\"type\":\"Title\"},\"toolbar\":{\"id\":\"f7f1bd38-f8bf-4a7f-9227-805a92df727a\",\"type\":\"Toolbar\"},\"x_range\":{\"id\":\"0c8f56e6-99cb-4375-b46c-0864db0fd688\",\"type\":\"DataRange1d\"},\"x_scale\":{\"id\":\"e3f0a79d-07d1-40ab-9334-1369c4e5d86a\",\"type\":\"LinearScale\"},\"y_range\":{\"id\":\"28c6c3ab-da9e-4613-8fc2-3f1e04f383e9\",\"type\":\"DataRange1d\"},\"y_scale\":{\"id\":\"6413bfd7-8289-4121-a972-64787f7a6734\",\"type\":\"LinearScale\"}},\"id\":\"8e48418c-b50e-47d4-b921-6db689dcaa3f\",\"subtype\":\"Figure\",\"type\":\"Plot\"},{\"attributes\":{\"bottom_units\":\"screen\",\"fill_alpha\":{\"value\":0.5},\"fill_color\":{\"value\":\"lightgrey\"},\"left_units\":\"screen\",\"level\":\"overlay\",\"line_alpha\":{\"value\":1.0},\"line_color\":{\"value\":\"black\"},\"line_dash\":[4,4],\"line_width\":{\"value\":2},\"plot\":null,\"render_mode\":\"css\",\"right_units\":\"screen\",\"top_units\":\"screen\"},\"id\":\"3636526e-9677-4500-8418-fb1e5784ab08\",\"type\":\"BoxAnnotation\"},{\"attributes\":{\"formatter\":{\"id\":\"221267b2-c21a-4dc0-b4f9-7980379e6817\",\"type\":\"BasicTickFormatter\"},\"plot\":{\"id\":\"8e48418c-b50e-47d4-b921-6db689dcaa3f\",\"subtype\":\"Figure\",\"type\":\"Plot\"},\"ticker\":{\"id\":\"901355f1-b6b4-4072-9e9d-b1daf0f25b68\",\"type\":\"BasicTicker\"}},\"id\":\"623d352e-61a8-4126-bdda-b326b00dffb9\",\"type\":\"LinearAxis\"},{\"attributes\":{},\"id\":\"901355f1-b6b4-4072-9e9d-b1daf0f25b68\",\"type\":\"BasicTicker\"},{\"attributes\":{},\"id\":\"3b7cd4d5-824b-4415-9639-d3baa6115d35\",\"type\":\"PanTool\"},{\"attributes\":{\"source\":{\"id\":\"fec04d35-1ab2-4ca4-be3a-af3eafa57aaa\",\"type\":\"ColumnDataSource\"}},\"id\":\"971bc38b-903e-4a28-92a4-e9231d5a5fc7\",\"type\":\"CDSView\"},{\"attributes\":{\"callback\":null},\"id\":\"0c8f56e6-99cb-4375-b46c-0864db0fd688\",\"type\":\"DataRange1d\"},{\"attributes\":{},\"id\":\"3a763d0a-bde3-446e-b8fd-a9cdf6d0e8b7\",\"type\":\"WheelZoomTool\"},{\"attributes\":{},\"id\":\"6413bfd7-8289-4121-a972-64787f7a6734\",\"type\":\"LinearScale\"},{\"attributes\":{\"overlay\":{\"id\":\"3636526e-9677-4500-8418-fb1e5784ab08\",\"type\":\"BoxAnnotation\"}},\"id\":\"a0291284-988c-4176-83a1-883fd77ecd5f\",\"type\":\"BoxZoomTool\"},{\"attributes\":{\"callback\":null,\"column_names\":[\"x\",\"y\",\"size\"],\"data\":{\"size\":[10,15,20,25,30],\"x\":[1,2,3,4,5],\"y\":[6,7,2,4,5]}},\"id\":\"fec04d35-1ab2-4ca4-be3a-af3eafa57aaa\",\"type\":\"ColumnDataSource\"},{\"attributes\":{\"formatter\":{\"id\":\"1e7724ca-b5bc-409c-aad2-d2cfc851041f\",\"type\":\"BasicTickFormatter\"},\"plot\":{\"id\":\"8e48418c-b50e-47d4-b921-6db689dcaa3f\",\"subtype\":\"Figure\",\"type\":\"Plot\"},\"ticker\":{\"id\":\"fd462cf3-eed9-4601-b909-a5819941f357\",\"type\":\"BasicTicker\"}},\"id\":\"dfcefec0-188e-4ac2-b7bf-de5847ba7efb\",\"type\":\"LinearAxis\"},{\"attributes\":{},\"id\":\"8264c74a-0a39-4092-bd99-46764dbf66c2\",\"type\":\"SaveTool\"},{\"attributes\":{},\"id\":\"86fcda11-f298-4754-825b-7803b2753451\",\"type\":\"ResetTool\"},{\"attributes\":{\"active_drag\":\"auto\",\"active_inspect\":\"auto\",\"active_scroll\":\"auto\",\"active_tap\":\"auto\",\"tools\":[{\"id\":\"3b7cd4d5-824b-4415-9639-d3baa6115d35\",\"type\":\"PanTool\"},{\"id\":\"3a763d0a-bde3-446e-b8fd-a9cdf6d0e8b7\",\"type\":\"WheelZoomTool\"},{\"id\":\"a0291284-988c-4176-83a1-883fd77ecd5f\",\"type\":\"BoxZoomTool\"},{\"id\":\"8264c74a-0a39-4092-bd99-46764dbf66c2\",\"type\":\"SaveTool\"},{\"id\":\"86fcda11-f298-4754-825b-7803b2753451\",\"type\":\"ResetTool\"},{\"id\":\"5660d785-55d7-4c60-8429-da72fa83eeef\",\"type\":\"HelpTool\"}]},\"id\":\"f7f1bd38-f8bf-4a7f-9227-805a92df727a\",\"type\":\"Toolbar\"},{\"attributes\":{\"dimension\":1,\"plot\":{\"id\":\"8e48418c-b50e-47d4-b921-6db689dcaa3f\",\"subtype\":\"Figure\",\"type\":\"Plot\"},\"ticker\":{\"id\":\"901355f1-b6b4-4072-9e9d-b1daf0f25b68\",\"type\":\"BasicTicker\"}},\"id\":\"10c3326c-7cb9-4eb3-8a3e-cc66d28dc3f3\",\"type\":\"Grid\"},{\"attributes\":{},\"id\":\"5660d785-55d7-4c60-8429-da72fa83eeef\",\"type\":\"HelpTool\"},{\"attributes\":{\"plot\":{\"id\":\"8e48418c-b50e-47d4-b921-6db689dcaa3f\",\"subtype\":\"Figure\",\"type\":\"Plot\"},\"ticker\":{\"id\":\"fd462cf3-eed9-4601-b909-a5819941f357\",\"type\":\"BasicTicker\"}},\"id\":\"b261e2a9-9760-404b-ad99-686ab6808298\",\"type\":\"Grid\"},{\"attributes\":{},\"id\":\"e3f0a79d-07d1-40ab-9334-1369c4e5d86a\",\"type\":\"LinearScale\"},{\"attributes\":{\"plot\":null,\"text\":\"\"},\"id\":\"8113d329-39ff-4b79-8b95-b23a26cb54cc\",\"type\":\"Title\"},{\"attributes\":{},\"id\":\"fd462cf3-eed9-4601-b909-a5819941f357\",\"type\":\"BasicTicker\"},{\"attributes\":{},\"id\":\"221267b2-c21a-4dc0-b4f9-7980379e6817\",\"type\":\"BasicTickFormatter\"},{\"attributes\":{\"fill_alpha\":{\"value\":0.1},\"fill_color\":{\"value\":\"#1f77b4\"},\"line_alpha\":{\"value\":0.1},\"line_color\":{\"value\":\"#1f77b4\"},\"size\":{\"field\":\"size\",\"units\":\"screen\"},\"x\":{\"field\":\"x\"},\"y\":{\"field\":\"y\"}},\"id\":\"bfe23f7f-0c7d-4e77-b1a9-695b5c8e9c46\",\"type\":\"Square\"},{\"attributes\":{\"fill_alpha\":{\"value\":0.6},\"fill_color\":{\"value\":\"firebrick\"},\"line_alpha\":{\"value\":0.6},\"line_color\":{\"value\":\"firebrick\"},\"size\":{\"field\":\"size\",\"units\":\"screen\"},\"x\":{\"field\":\"x\"},\"y\":{\"field\":\"y\"}},\"id\":\"4f72b5e4-8fd2-40f6-9f87-c70f380ca914\",\"type\":\"Square\"}],\"root_ids\":[\"8e48418c-b50e-47d4-b921-6db689dcaa3f\"]},\"title\":\"Bokeh Application\",\"version\":\"0.12.13\"}};\n",
       "  var render_items = [{\"docid\":\"2f93add6-b287-4d6f-aaec-f8f4277faac1\",\"elementid\":\"1e4fb339-bfbd-4dad-976c-729c409825bd\",\"modelid\":\"8e48418c-b50e-47d4-b921-6db689dcaa3f\"}];\n",
       "  root.Bokeh.embed.embed_items_notebook(docs_json, render_items);\n",
       "\n",
       "  }\n",
       "  if (root.Bokeh !== undefined) {\n",
       "    embed_document(root);\n",
       "  } else {\n",
       "    var attempts = 0;\n",
       "    var timer = setInterval(function(root) {\n",
       "      if (root.Bokeh !== undefined) {\n",
       "        embed_document(root);\n",
       "        clearInterval(timer);\n",
       "      }\n",
       "      attempts++;\n",
       "      if (attempts > 100) {\n",
       "        console.log(\"Bokeh: ERROR: Unable to run BokehJS code because BokehJS library is missing\")\n",
       "        clearInterval(timer);\n",
       "      }\n",
       "    }, 10, root)\n",
       "  }\n",
       "})(window);"
      ],
      "application/vnd.bokehjs_exec.v0+json": ""
     },
     "metadata": {
      "application/vnd.bokehjs_exec.v0+json": {
       "id": "8e48418c-b50e-47d4-b921-6db689dcaa3f"
      }
     },
     "output_type": "display_data"
    }
   ],
   "source": [
    "# create a new plot using figure\n",
    "p = figure(plot_width=400, plot_height=400)\n",
    "\n",
    "# add a square renderer with a size, color, alpha, and sizes\n",
    "p.square([1, 2, 3, 4, 5], [6, 7, 2, 4, 5], size=[10, 15, 20, 25, 30], color=\"firebrick\", alpha=0.6)\n",
    "\n",
    "show(p) # show the results"
   ]
  },
  {
   "cell_type": "markdown",
   "metadata": {},
   "source": [
    "Note that in the example above, we are also specifying different sizes for each individual marker. ***In general, all of a glyph's properties can be \"vectorized\" in this fashion. ***  Also note that we have passed ``color`` as a shorthand to set both the line and fill colors easily at the same time. This is a convenience specific to ``bokeh.plotting``.\n",
    "\n",
    "</table><p>There are many marker types available in Bokeh, you can see details and\n",
    "example plots for all of them in the reference guide by clicking on entries in the list below:</p>\n",
    "<table class=\"hlist\" style=\"float:left\"><tr><td><ul>\n",
    "<li><a href=\"http://bokeh.pydata.org/en/latest/docs/reference/plotting.html#bokeh.plotting.Figure.asterisk\" title=\"bokeh.plotting.Figure.asterisk\"><code class=\"xref py py-func docutils literal\"><span class=\"pre\">asterisk()</span></code></a></li>\n",
    "<li><a href=\"http://bokeh.pydata.org/en/latest/docs/reference/plotting.html#bokeh.plotting.Figure.circle\" title=\"bokeh.plotting.Figure.circle\"><code class=\"xref py py-func docutils literal\"><span class=\"pre\">circle()</span></code></a></li>\n",
    "<li><a href=\"http://bokeh.pydata.org/en/latest/docs/reference/plotting.html#bokeh.plotting.Figure.circle_cross\" title=\"bokeh.plotting.Figure.circle_cross\"><code class=\"xref py py-func docutils literal\"><span class=\"pre\">circle_cross()</span></code></a></li>\n",
    "<li><a href=\"http://bokeh.pydata.org/en/latest/docs/reference/plotting.html#bokeh.plotting.Figure.circle_x\" title=\"bokeh.plotting.Figure.circle_x\"><code class=\"xref py py-func docutils literal\"><span class=\"pre\">circle_x()</span></code></a></li>\n",
    "<li><a href=\"http://bokeh.pydata.org/en/latest/docs/reference/plotting.html#bokeh.plotting.Figure.cross\" title=\"bokeh.plotting.Figure.cross\"><code class=\"xref py py-func docutils literal\"><span class=\"pre\">cross()</span></code></a></li>\n",
    "</ul>\n",
    "</td><td><ul>\n",
    "<li><a href=\"http://bokeh.pydata.org/en/latest/docs/reference/plotting.html#bokeh.plotting.Figure.diamond\" title=\"bokeh.plotting.Figure.diamond\"><code class=\"xref py py-func docutils literal\"><span class=\"pre\">diamond()</span></code></a></li>\n",
    "<li><a href=\"http://bokeh.pydata.org/en/latest/docs/reference/plotting.html#bokeh.plotting.Figure.diamond_cross\" title=\"bokeh.plotting.Figure.diamond_cross\"><code class=\"xref py py-func docutils literal\"><span class=\"pre\">diamond_cross()</span></code></a></li>\n",
    "<li><a href=\"http://bokeh.pydata.org/en/latest/docs/reference/plotting.html#bokeh.plotting.Figure.inverted_triangle\" title=\"bokeh.plotting.Figure.inverted_triangle\"><code class=\"xref py py-func docutils literal\"><span class=\"pre\">inverted_triangle()</span></code></a></li>\n",
    "<li><a href=\"http://bokeh.pydata.org/en/latest/docs/reference/plotting.html#bokeh.plotting.Figure.square\" title=\"bokeh.plotting.Figure.square\"><code class=\"xref py py-func docutils literal\"><span class=\"pre\">square()</span></code></a></li>\n",
    "</ul>\n",
    "</td><td><ul>\n",
    "<li><a href=\"http://bokeh.pydata.org/en/latest/docs/reference/plotting.html#bokeh.plotting.Figure.square_cross\" title=\"bokeh.plotting.Figure.square_cross\"><code class=\"xref py py-func docutils literal\"><span class=\"pre\">square_cross()</span></code></a></li>\n",
    "<li><a href=\"http://bokeh.pydata.org/en/latest/docs/reference/plotting.html#bokeh.plotting.Figure.square_x\" title=\"bokeh.plotting.Figure.square_x\"><code class=\"xref py py-func docutils literal\"><span class=\"pre\">square_x()</span></code></a></li>\n",
    "<li><a href=\"http://bokeh.pydata.org/en/latest/docs/reference/plotting.html#bokeh.plotting.Figure.triangle\" title=\"bokeh.plotting.Figure.triangle\"><code class=\"xref py py-func docutils literal\"><span class=\"pre\">triangle()</span></code></a></li>\n",
    "<li><a href=\"http://bokeh.pydata.org/en/latest/docs/reference/plotting.html#bokeh.plotting.Figure.x\" title=\"bokeh.plotting.Figure.x\"><code class=\"xref py py-func docutils literal\"><span class=\"pre\">x()</span></code></a></li>\n",
    "</ul>\n",
    "</td></tr></table>"
   ]
  },
  {
   "cell_type": "code",
   "execution_count": 14,
   "metadata": {},
   "outputs": [
    {
     "name": "stderr",
     "output_type": "stream",
     "text": [
      "C:\\Users\\Lara\\Miniconda3\\lib\\site-packages\\bokeh\\models\\sources.py:137: BokehUserWarning: ColumnDataSource's columns must be of the same length. Current lengths: ('fill_color', 4), ('size', 5), ('x', 5), ('y', 5)\n",
      "  \"Current lengths: %s\" % \", \".join(sorted(str((k, len(v))) for k, v in data.items())), BokehUserWarning))\n",
      "C:\\Users\\Lara\\Miniconda3\\lib\\site-packages\\bokeh\\models\\sources.py:137: BokehUserWarning: ColumnDataSource's columns must be of the same length. Current lengths: ('fill_color', 4), ('line_color', 4), ('size', 5), ('x', 5), ('y', 5)\n",
      "  \"Current lengths: %s\" % \", \".join(sorted(str((k, len(v))) for k, v in data.items())), BokehUserWarning))\n"
     ]
    },
    {
     "data": {
      "text/html": [
       "\n",
       "<div class=\"bk-root\">\n",
       "    <div class=\"bk-plotdiv\" id=\"5d3db7cc-3571-4c2c-8471-a87234f212ec\"></div>\n",
       "</div>"
      ]
     },
     "metadata": {},
     "output_type": "display_data"
    },
    {
     "data": {
      "application/javascript": [
       "(function(root) {\n",
       "  function embed_document(root) {\n",
       "    \n",
       "  var docs_json = {\"40343f98-e57b-4301-9ee1-58564d061a08\":{\"roots\":{\"references\":[{\"attributes\":{},\"id\":\"55b7c7f3-1a0b-4b1d-b67f-e2e583b01925\",\"type\":\"BasicTicker\"},{\"attributes\":{\"bottom_units\":\"screen\",\"fill_alpha\":{\"value\":0.5},\"fill_color\":{\"value\":\"lightgrey\"},\"left_units\":\"screen\",\"level\":\"overlay\",\"line_alpha\":{\"value\":1.0},\"line_color\":{\"value\":\"black\"},\"line_dash\":[4,4],\"line_width\":{\"value\":2},\"plot\":null,\"render_mode\":\"css\",\"right_units\":\"screen\",\"top_units\":\"screen\"},\"id\":\"a7e9760a-e38d-4677-9c7b-1175ae1fb22a\",\"type\":\"BoxAnnotation\"},{\"attributes\":{\"formatter\":{\"id\":\"255ca942-f8fa-4a81-856d-bcbeb70f7876\",\"type\":\"BasicTickFormatter\"},\"plot\":{\"id\":\"84097f15-24dc-405d-9d7e-94b8cfe3569e\",\"subtype\":\"Figure\",\"type\":\"Plot\"},\"ticker\":{\"id\":\"afafffff-ba0a-481d-9938-fa99aaa40708\",\"type\":\"BasicTicker\"}},\"id\":\"460358a2-daed-4de9-8021-8ca3ebe6d132\",\"type\":\"LinearAxis\"},{\"attributes\":{},\"id\":\"255ca942-f8fa-4a81-856d-bcbeb70f7876\",\"type\":\"BasicTickFormatter\"},{\"attributes\":{},\"id\":\"afafffff-ba0a-481d-9938-fa99aaa40708\",\"type\":\"BasicTicker\"},{\"attributes\":{\"fill_alpha\":{\"value\":0.1},\"fill_color\":{\"value\":\"#1f77b4\"},\"line_alpha\":{\"value\":0.1},\"line_color\":{\"value\":\"#1f77b4\"},\"size\":{\"field\":\"size\",\"units\":\"screen\"},\"x\":{\"field\":\"x\"},\"y\":{\"field\":\"y\"}},\"id\":\"77f0e003-59ed-4f2d-8c87-3e4cd38820ef\",\"type\":\"InvertedTriangle\"},{\"attributes\":{\"fill_alpha\":{\"value\":0.6},\"fill_color\":{\"field\":\"fill_color\"},\"line_alpha\":{\"value\":0.6},\"line_color\":{\"field\":\"line_color\"},\"size\":{\"field\":\"size\",\"units\":\"screen\"},\"x\":{\"field\":\"x\"},\"y\":{\"field\":\"y\"}},\"id\":\"c42acb3a-f1db-41f6-baca-fa5e8eee85c6\",\"type\":\"InvertedTriangle\"},{\"attributes\":{\"dimension\":1,\"plot\":{\"id\":\"84097f15-24dc-405d-9d7e-94b8cfe3569e\",\"subtype\":\"Figure\",\"type\":\"Plot\"},\"ticker\":{\"id\":\"afafffff-ba0a-481d-9938-fa99aaa40708\",\"type\":\"BasicTicker\"}},\"id\":\"813447f3-0db4-4056-bf0e-a103c6b82a38\",\"type\":\"Grid\"},{\"attributes\":{\"below\":[{\"id\":\"290aea1b-aaad-4352-9fae-4dbad33c4f9b\",\"type\":\"LinearAxis\"}],\"left\":[{\"id\":\"460358a2-daed-4de9-8021-8ca3ebe6d132\",\"type\":\"LinearAxis\"}],\"plot_height\":400,\"plot_width\":400,\"renderers\":[{\"id\":\"290aea1b-aaad-4352-9fae-4dbad33c4f9b\",\"type\":\"LinearAxis\"},{\"id\":\"fd4c1b0e-7fb2-4f2e-bb23-00588af1d493\",\"type\":\"Grid\"},{\"id\":\"460358a2-daed-4de9-8021-8ca3ebe6d132\",\"type\":\"LinearAxis\"},{\"id\":\"813447f3-0db4-4056-bf0e-a103c6b82a38\",\"type\":\"Grid\"},{\"id\":\"a7e9760a-e38d-4677-9c7b-1175ae1fb22a\",\"type\":\"BoxAnnotation\"},{\"id\":\"e63e8641-3513-407d-ac0e-07ab49621770\",\"type\":\"GlyphRenderer\"}],\"title\":{\"id\":\"0c1391f3-0e24-4073-85a7-2de88d67bd42\",\"type\":\"Title\"},\"toolbar\":{\"id\":\"db86063b-10ed-4f42-8f87-b1f82b0c1892\",\"type\":\"Toolbar\"},\"x_range\":{\"id\":\"61b26a91-0047-4901-8aef-ddfcc23cdbb4\",\"type\":\"DataRange1d\"},\"x_scale\":{\"id\":\"4182adc5-a499-4bc1-8273-ff3eb620d3fd\",\"type\":\"LinearScale\"},\"y_range\":{\"id\":\"762a4387-d137-4740-8c99-41415604e14a\",\"type\":\"DataRange1d\"},\"y_scale\":{\"id\":\"0cb26e79-09e7-4600-8ab3-f4abd6b282c9\",\"type\":\"LinearScale\"}},\"id\":\"84097f15-24dc-405d-9d7e-94b8cfe3569e\",\"subtype\":\"Figure\",\"type\":\"Plot\"},{\"attributes\":{\"plot\":null,\"text\":\"\"},\"id\":\"0c1391f3-0e24-4073-85a7-2de88d67bd42\",\"type\":\"Title\"},{\"attributes\":{\"callback\":null,\"column_names\":[\"x\",\"y\",\"size\",\"fill_color\",\"line_color\"],\"data\":{\"fill_color\":[\"red\",\"blue\",\"green\",\"yellow\"],\"line_color\":[\"red\",\"blue\",\"green\",\"yellow\"],\"size\":[10,15,20,25,30],\"x\":[1,2,3,4,5],\"y\":[6,7,2,4,5]}},\"id\":\"e954ba85-525d-4f9b-a6d1-3718b7fd7a38\",\"type\":\"ColumnDataSource\"},{\"attributes\":{},\"id\":\"3a3bd442-5f24-48c9-8eab-d63458014657\",\"type\":\"BasicTickFormatter\"},{\"attributes\":{\"data_source\":{\"id\":\"e954ba85-525d-4f9b-a6d1-3718b7fd7a38\",\"type\":\"ColumnDataSource\"},\"glyph\":{\"id\":\"c42acb3a-f1db-41f6-baca-fa5e8eee85c6\",\"type\":\"InvertedTriangle\"},\"hover_glyph\":null,\"muted_glyph\":null,\"nonselection_glyph\":{\"id\":\"77f0e003-59ed-4f2d-8c87-3e4cd38820ef\",\"type\":\"InvertedTriangle\"},\"selection_glyph\":null,\"view\":{\"id\":\"ef26cd29-8cc5-4e98-871b-e6b3e3ce23d4\",\"type\":\"CDSView\"}},\"id\":\"e63e8641-3513-407d-ac0e-07ab49621770\",\"type\":\"GlyphRenderer\"},{\"attributes\":{\"active_drag\":\"auto\",\"active_inspect\":\"auto\",\"active_scroll\":\"auto\",\"active_tap\":\"auto\",\"tools\":[{\"id\":\"e768b70a-614a-4f98-b952-9c56cbb9144d\",\"type\":\"PanTool\"},{\"id\":\"04b03ab7-0728-4f21-ae40-26313c8502e9\",\"type\":\"WheelZoomTool\"},{\"id\":\"b477b245-d2b6-4326-b535-10e14dfdf4fc\",\"type\":\"BoxZoomTool\"},{\"id\":\"4fa7152e-1a2e-4a6a-9f25-35ac10bdb631\",\"type\":\"SaveTool\"},{\"id\":\"0832883f-7c54-41b5-b76e-581e35cacde9\",\"type\":\"ResetTool\"},{\"id\":\"8ff11678-9d67-4811-910f-3f49374f6476\",\"type\":\"HelpTool\"}]},\"id\":\"db86063b-10ed-4f42-8f87-b1f82b0c1892\",\"type\":\"Toolbar\"},{\"attributes\":{\"source\":{\"id\":\"e954ba85-525d-4f9b-a6d1-3718b7fd7a38\",\"type\":\"ColumnDataSource\"}},\"id\":\"ef26cd29-8cc5-4e98-871b-e6b3e3ce23d4\",\"type\":\"CDSView\"},{\"attributes\":{\"callback\":null},\"id\":\"61b26a91-0047-4901-8aef-ddfcc23cdbb4\",\"type\":\"DataRange1d\"},{\"attributes\":{},\"id\":\"e768b70a-614a-4f98-b952-9c56cbb9144d\",\"type\":\"PanTool\"},{\"attributes\":{},\"id\":\"8ff11678-9d67-4811-910f-3f49374f6476\",\"type\":\"HelpTool\"},{\"attributes\":{\"callback\":null},\"id\":\"762a4387-d137-4740-8c99-41415604e14a\",\"type\":\"DataRange1d\"},{\"attributes\":{},\"id\":\"04b03ab7-0728-4f21-ae40-26313c8502e9\",\"type\":\"WheelZoomTool\"},{\"attributes\":{},\"id\":\"4182adc5-a499-4bc1-8273-ff3eb620d3fd\",\"type\":\"LinearScale\"},{\"attributes\":{\"overlay\":{\"id\":\"a7e9760a-e38d-4677-9c7b-1175ae1fb22a\",\"type\":\"BoxAnnotation\"}},\"id\":\"b477b245-d2b6-4326-b535-10e14dfdf4fc\",\"type\":\"BoxZoomTool\"},{\"attributes\":{},\"id\":\"0cb26e79-09e7-4600-8ab3-f4abd6b282c9\",\"type\":\"LinearScale\"},{\"attributes\":{},\"id\":\"4fa7152e-1a2e-4a6a-9f25-35ac10bdb631\",\"type\":\"SaveTool\"},{\"attributes\":{\"plot\":{\"id\":\"84097f15-24dc-405d-9d7e-94b8cfe3569e\",\"subtype\":\"Figure\",\"type\":\"Plot\"},\"ticker\":{\"id\":\"55b7c7f3-1a0b-4b1d-b67f-e2e583b01925\",\"type\":\"BasicTicker\"}},\"id\":\"fd4c1b0e-7fb2-4f2e-bb23-00588af1d493\",\"type\":\"Grid\"},{\"attributes\":{},\"id\":\"0832883f-7c54-41b5-b76e-581e35cacde9\",\"type\":\"ResetTool\"},{\"attributes\":{\"formatter\":{\"id\":\"3a3bd442-5f24-48c9-8eab-d63458014657\",\"type\":\"BasicTickFormatter\"},\"plot\":{\"id\":\"84097f15-24dc-405d-9d7e-94b8cfe3569e\",\"subtype\":\"Figure\",\"type\":\"Plot\"},\"ticker\":{\"id\":\"55b7c7f3-1a0b-4b1d-b67f-e2e583b01925\",\"type\":\"BasicTicker\"}},\"id\":\"290aea1b-aaad-4352-9fae-4dbad33c4f9b\",\"type\":\"LinearAxis\"}],\"root_ids\":[\"84097f15-24dc-405d-9d7e-94b8cfe3569e\"]},\"title\":\"Bokeh Application\",\"version\":\"0.12.13\"}};\n",
       "  var render_items = [{\"docid\":\"40343f98-e57b-4301-9ee1-58564d061a08\",\"elementid\":\"5d3db7cc-3571-4c2c-8471-a87234f212ec\",\"modelid\":\"84097f15-24dc-405d-9d7e-94b8cfe3569e\"}];\n",
       "  root.Bokeh.embed.embed_items_notebook(docs_json, render_items);\n",
       "\n",
       "  }\n",
       "  if (root.Bokeh !== undefined) {\n",
       "    embed_document(root);\n",
       "  } else {\n",
       "    var attempts = 0;\n",
       "    var timer = setInterval(function(root) {\n",
       "      if (root.Bokeh !== undefined) {\n",
       "        embed_document(root);\n",
       "        clearInterval(timer);\n",
       "      }\n",
       "      attempts++;\n",
       "      if (attempts > 100) {\n",
       "        console.log(\"Bokeh: ERROR: Unable to run BokehJS code because BokehJS library is missing\")\n",
       "        clearInterval(timer);\n",
       "      }\n",
       "    }, 10, root)\n",
       "  }\n",
       "})(window);"
      ],
      "application/vnd.bokehjs_exec.v0+json": ""
     },
     "metadata": {
      "application/vnd.bokehjs_exec.v0+json": {
       "id": "84097f15-24dc-405d-9d7e-94b8cfe3569e"
      }
     },
     "output_type": "display_data"
    }
   ],
   "source": [
    "# EXERCISE: Plot some different markers in this cell\n",
    "\n",
    "# create a new plot using figure\n",
    "cc = figure(plot_width=400, plot_height=400)\n",
    "\n",
    "# add a square renderer with a size, color, alpha, and sizes\n",
    "cc.inverted_triangle([1, 2, 3, 4, 5], [6, 7, 2, 4, 5], size=[10, 15, 20, 25, 30], color=['red', 'blue', 'green', 'yellow'], alpha=0.6)\n",
    "\n",
    "show(cc) # show the results"
   ]
  },
  {
   "cell_type": "markdown",
   "metadata": {},
   "source": [
    "# Basic Line Plots"
   ]
  },
  {
   "cell_type": "code",
   "execution_count": 22,
   "metadata": {},
   "outputs": [
    {
     "data": {
      "text/html": [
       "\n",
       "<div class=\"bk-root\">\n",
       "    <div class=\"bk-plotdiv\" id=\"f05e4d9c-b9cd-47d1-beda-388971d1b6f4\"></div>\n",
       "</div>"
      ]
     },
     "metadata": {},
     "output_type": "display_data"
    },
    {
     "data": {
      "application/javascript": [
       "(function(root) {\n",
       "  function embed_document(root) {\n",
       "    \n",
       "  var docs_json = {\"5ad2cca0-b130-414e-86fa-3bd6148408eb\":{\"roots\":{\"references\":[{\"attributes\":{\"data_source\":{\"id\":\"66c8207f-4dc3-416d-9201-7b06d516201a\",\"type\":\"ColumnDataSource\"},\"glyph\":{\"id\":\"45f76c15-c59d-4dc2-b269-ce535e28237f\",\"type\":\"Line\"},\"hover_glyph\":null,\"muted_glyph\":null,\"nonselection_glyph\":{\"id\":\"3f40eab9-ef44-4de9-bf85-7f5284413302\",\"type\":\"Line\"},\"selection_glyph\":null,\"view\":{\"id\":\"ed6c8d5b-4573-414e-a45c-917cda5a7e27\",\"type\":\"CDSView\"}},\"id\":\"394127c0-65ab-414c-b7b3-f779edc49cef\",\"type\":\"GlyphRenderer\"},{\"attributes\":{\"bottom_units\":\"screen\",\"fill_alpha\":{\"value\":0.5},\"fill_color\":{\"value\":\"lightgrey\"},\"left_units\":\"screen\",\"level\":\"overlay\",\"line_alpha\":{\"value\":1.0},\"line_color\":{\"value\":\"black\"},\"line_dash\":[4,4],\"line_width\":{\"value\":2},\"plot\":null,\"render_mode\":\"css\",\"right_units\":\"screen\",\"top_units\":\"screen\"},\"id\":\"8387d204-eef2-46b6-a950-e71ed91fea10\",\"type\":\"BoxAnnotation\"},{\"attributes\":{},\"id\":\"6357298c-b6a4-4ca0-ad50-c18771c0d53c\",\"type\":\"BasicTickFormatter\"},{\"attributes\":{},\"id\":\"81a4bb69-1e39-44b2-a535-064b6ca4b329\",\"type\":\"LinearScale\"},{\"attributes\":{\"overlay\":{\"id\":\"8387d204-eef2-46b6-a950-e71ed91fea10\",\"type\":\"BoxAnnotation\"}},\"id\":\"a6bb3c03-fc88-4519-b199-7d41930aa057\",\"type\":\"BoxZoomTool\"},{\"attributes\":{\"below\":[{\"id\":\"124523e1-67ce-4ba6-85c2-bcfb898238c1\",\"type\":\"LinearAxis\"}],\"left\":[{\"id\":\"00b5fb5e-6f3f-45b0-9909-fc540e18edd2\",\"type\":\"LinearAxis\"}],\"plot_height\":400,\"plot_width\":400,\"renderers\":[{\"id\":\"124523e1-67ce-4ba6-85c2-bcfb898238c1\",\"type\":\"LinearAxis\"},{\"id\":\"2818be04-8898-4b63-92c3-f754fcae54e1\",\"type\":\"Grid\"},{\"id\":\"00b5fb5e-6f3f-45b0-9909-fc540e18edd2\",\"type\":\"LinearAxis\"},{\"id\":\"10c6e6b7-08ee-4e88-9c3c-60dd591c2f13\",\"type\":\"Grid\"},{\"id\":\"8387d204-eef2-46b6-a950-e71ed91fea10\",\"type\":\"BoxAnnotation\"},{\"id\":\"394127c0-65ab-414c-b7b3-f779edc49cef\",\"type\":\"GlyphRenderer\"}],\"title\":{\"id\":\"47d5a600-11de-4e23-9efd-a665f8251a00\",\"type\":\"Title\"},\"toolbar\":{\"id\":\"5ea3e6a8-c5bc-4983-9121-3b1170fbdb42\",\"type\":\"Toolbar\"},\"x_range\":{\"id\":\"a2dcbb5f-2774-4419-a052-042dfd1b9b1c\",\"type\":\"DataRange1d\"},\"x_scale\":{\"id\":\"81a4bb69-1e39-44b2-a535-064b6ca4b329\",\"type\":\"LinearScale\"},\"y_range\":{\"id\":\"5830e4c2-77f5-4f33-871c-15c611ef0a3f\",\"type\":\"DataRange1d\"},\"y_scale\":{\"id\":\"915f1d60-823b-4c6c-b51f-e7afd38c0597\",\"type\":\"LinearScale\"}},\"id\":\"d1efbb1e-cd97-414d-99b3-7e4590a93c19\",\"subtype\":\"Figure\",\"type\":\"Plot\"},{\"attributes\":{},\"id\":\"0d591eb9-6ba0-4225-aaa4-843295cd7f11\",\"type\":\"SaveTool\"},{\"attributes\":{},\"id\":\"52563167-da85-4bea-a49d-0be3f509dd2c\",\"type\":\"ResetTool\"},{\"attributes\":{},\"id\":\"3ba1a33b-8b06-47f4-a6d9-025098ad79a8\",\"type\":\"BasicTickFormatter\"},{\"attributes\":{},\"id\":\"d33feb45-23db-4651-ad67-5ac0f4bc9e0c\",\"type\":\"HelpTool\"},{\"attributes\":{\"plot\":null,\"text\":\"My Line Plot\"},\"id\":\"47d5a600-11de-4e23-9efd-a665f8251a00\",\"type\":\"Title\"},{\"attributes\":{\"callback\":null},\"id\":\"a2dcbb5f-2774-4419-a052-042dfd1b9b1c\",\"type\":\"DataRange1d\"},{\"attributes\":{},\"id\":\"f1019795-e795-427c-bcb0-277f99a551d9\",\"type\":\"BasicTicker\"},{\"attributes\":{\"line_color\":\"#1f77b4\",\"line_width\":2,\"x\":{\"field\":\"x\"},\"y\":{\"field\":\"y\"}},\"id\":\"45f76c15-c59d-4dc2-b269-ce535e28237f\",\"type\":\"Line\"},{\"attributes\":{\"dimension\":1,\"plot\":{\"id\":\"d1efbb1e-cd97-414d-99b3-7e4590a93c19\",\"subtype\":\"Figure\",\"type\":\"Plot\"},\"ticker\":{\"id\":\"f1019795-e795-427c-bcb0-277f99a551d9\",\"type\":\"BasicTicker\"}},\"id\":\"10c6e6b7-08ee-4e88-9c3c-60dd591c2f13\",\"type\":\"Grid\"},{\"attributes\":{},\"id\":\"915f1d60-823b-4c6c-b51f-e7afd38c0597\",\"type\":\"LinearScale\"},{\"attributes\":{},\"id\":\"d36e4242-a801-4220-bbd7-f4a33988e6f0\",\"type\":\"WheelZoomTool\"},{\"attributes\":{\"callback\":null,\"column_names\":[\"x\",\"y\"],\"data\":{\"x\":[1,2,3,4,5],\"y\":[6,7,2,4,5]}},\"id\":\"66c8207f-4dc3-416d-9201-7b06d516201a\",\"type\":\"ColumnDataSource\"},{\"attributes\":{\"active_drag\":\"auto\",\"active_inspect\":\"auto\",\"active_scroll\":\"auto\",\"active_tap\":\"auto\",\"tools\":[{\"id\":\"d20a85a6-8442-434c-b44f-5f1afcaf6a5a\",\"type\":\"PanTool\"},{\"id\":\"d36e4242-a801-4220-bbd7-f4a33988e6f0\",\"type\":\"WheelZoomTool\"},{\"id\":\"a6bb3c03-fc88-4519-b199-7d41930aa057\",\"type\":\"BoxZoomTool\"},{\"id\":\"0d591eb9-6ba0-4225-aaa4-843295cd7f11\",\"type\":\"SaveTool\"},{\"id\":\"52563167-da85-4bea-a49d-0be3f509dd2c\",\"type\":\"ResetTool\"},{\"id\":\"d33feb45-23db-4651-ad67-5ac0f4bc9e0c\",\"type\":\"HelpTool\"}]},\"id\":\"5ea3e6a8-c5bc-4983-9121-3b1170fbdb42\",\"type\":\"Toolbar\"},{\"attributes\":{\"line_alpha\":0.1,\"line_color\":\"#1f77b4\",\"line_width\":2,\"x\":{\"field\":\"x\"},\"y\":{\"field\":\"y\"}},\"id\":\"3f40eab9-ef44-4de9-bf85-7f5284413302\",\"type\":\"Line\"},{\"attributes\":{\"formatter\":{\"id\":\"3ba1a33b-8b06-47f4-a6d9-025098ad79a8\",\"type\":\"BasicTickFormatter\"},\"plot\":{\"id\":\"d1efbb1e-cd97-414d-99b3-7e4590a93c19\",\"subtype\":\"Figure\",\"type\":\"Plot\"},\"ticker\":{\"id\":\"d459002d-ed0c-44ad-adc4-968ee02bfa53\",\"type\":\"BasicTicker\"}},\"id\":\"124523e1-67ce-4ba6-85c2-bcfb898238c1\",\"type\":\"LinearAxis\"},{\"attributes\":{\"formatter\":{\"id\":\"6357298c-b6a4-4ca0-ad50-c18771c0d53c\",\"type\":\"BasicTickFormatter\"},\"plot\":{\"id\":\"d1efbb1e-cd97-414d-99b3-7e4590a93c19\",\"subtype\":\"Figure\",\"type\":\"Plot\"},\"ticker\":{\"id\":\"f1019795-e795-427c-bcb0-277f99a551d9\",\"type\":\"BasicTicker\"}},\"id\":\"00b5fb5e-6f3f-45b0-9909-fc540e18edd2\",\"type\":\"LinearAxis\"},{\"attributes\":{},\"id\":\"d20a85a6-8442-434c-b44f-5f1afcaf6a5a\",\"type\":\"PanTool\"},{\"attributes\":{},\"id\":\"d459002d-ed0c-44ad-adc4-968ee02bfa53\",\"type\":\"BasicTicker\"},{\"attributes\":{\"plot\":{\"id\":\"d1efbb1e-cd97-414d-99b3-7e4590a93c19\",\"subtype\":\"Figure\",\"type\":\"Plot\"},\"ticker\":{\"id\":\"d459002d-ed0c-44ad-adc4-968ee02bfa53\",\"type\":\"BasicTicker\"}},\"id\":\"2818be04-8898-4b63-92c3-f754fcae54e1\",\"type\":\"Grid\"},{\"attributes\":{\"callback\":null},\"id\":\"5830e4c2-77f5-4f33-871c-15c611ef0a3f\",\"type\":\"DataRange1d\"},{\"attributes\":{\"source\":{\"id\":\"66c8207f-4dc3-416d-9201-7b06d516201a\",\"type\":\"ColumnDataSource\"}},\"id\":\"ed6c8d5b-4573-414e-a45c-917cda5a7e27\",\"type\":\"CDSView\"}],\"root_ids\":[\"d1efbb1e-cd97-414d-99b3-7e4590a93c19\"]},\"title\":\"Bokeh Application\",\"version\":\"0.12.13\"}};\n",
       "  var render_items = [{\"docid\":\"5ad2cca0-b130-414e-86fa-3bd6148408eb\",\"elementid\":\"f05e4d9c-b9cd-47d1-beda-388971d1b6f4\",\"modelid\":\"d1efbb1e-cd97-414d-99b3-7e4590a93c19\"}];\n",
       "  root.Bokeh.embed.embed_items_notebook(docs_json, render_items);\n",
       "\n",
       "  }\n",
       "  if (root.Bokeh !== undefined) {\n",
       "    embed_document(root);\n",
       "  } else {\n",
       "    var attempts = 0;\n",
       "    var timer = setInterval(function(root) {\n",
       "      if (root.Bokeh !== undefined) {\n",
       "        embed_document(root);\n",
       "        clearInterval(timer);\n",
       "      }\n",
       "      attempts++;\n",
       "      if (attempts > 100) {\n",
       "        console.log(\"Bokeh: ERROR: Unable to run BokehJS code because BokehJS library is missing\")\n",
       "        clearInterval(timer);\n",
       "      }\n",
       "    }, 10, root)\n",
       "  }\n",
       "})(window);"
      ],
      "application/vnd.bokehjs_exec.v0+json": ""
     },
     "metadata": {
      "application/vnd.bokehjs_exec.v0+json": {
       "id": "d1efbb1e-cd97-414d-99b3-7e4590a93c19"
      }
     },
     "output_type": "display_data"
    }
   ],
   "source": [
    "# create a new plot (with a title) using figure\n",
    "p = figure(plot_width=400, plot_height=400, title=\"My Line Plot\")\n",
    "\n",
    "# add a line renderer\n",
    "p.line([1, 2, 3, 4, 5], [6, 7, 2, 4, 5], line_width=2)\n",
    "#for multiline graphs you can pass in vectors of vector of data\n",
    "\n",
    "show(p) # show the results"
   ]
  },
  {
   "cell_type": "code",
   "execution_count": 21,
   "metadata": {},
   "outputs": [
    {
     "data": {
      "text/html": [
       "\n",
       "<div class=\"bk-root\">\n",
       "    <div class=\"bk-plotdiv\" id=\"9ebefff3-5e49-4e54-80e9-6054da77cfba\"></div>\n",
       "</div>"
      ]
     },
     "metadata": {},
     "output_type": "display_data"
    },
    {
     "data": {
      "application/javascript": [
       "(function(root) {\n",
       "  function embed_document(root) {\n",
       "    \n",
       "  var docs_json = {\"dc0ed1b6-52cd-43ba-98a9-21e2c95f4085\":{\"roots\":{\"references\":[{\"attributes\":{\"formatter\":{\"id\":\"699cdd03-6fa1-4aea-abbe-08f9c0ea4a2c\",\"type\":\"BasicTickFormatter\"},\"plot\":{\"id\":\"28461b4f-fa9e-4510-b993-d74cdd200a03\",\"subtype\":\"Figure\",\"type\":\"Plot\"},\"ticker\":{\"id\":\"e85b307d-d80c-45f7-9cd7-6f2f4a068870\",\"type\":\"BasicTicker\"}},\"id\":\"8c59783a-a3cb-4208-99a7-2db00d581610\",\"type\":\"LinearAxis\"},{\"attributes\":{\"plot\":null,\"text\":\"\"},\"id\":\"5ecb8a2e-5d02-4f00-bb8a-41ba071f55a7\",\"type\":\"Title\"},{\"attributes\":{},\"id\":\"699cdd03-6fa1-4aea-abbe-08f9c0ea4a2c\",\"type\":\"BasicTickFormatter\"},{\"attributes\":{\"source\":{\"id\":\"0292cdc3-3811-4977-882e-50751827a8b5\",\"type\":\"ColumnDataSource\"}},\"id\":\"f0d914c9-31ee-4dc0-9c9b-c7aab92f4c98\",\"type\":\"CDSView\"},{\"attributes\":{\"line_alpha\":0.1,\"line_color\":\"#1f77b4\",\"line_width\":5,\"x\":{\"field\":\"x\"},\"y\":{\"field\":\"y\"}},\"id\":\"165ec765-6860-4227-b8e3-81177367ce7b\",\"type\":\"Line\"},{\"attributes\":{\"bottom_units\":\"screen\",\"fill_alpha\":{\"value\":0.5},\"fill_color\":{\"value\":\"lightgrey\"},\"left_units\":\"screen\",\"level\":\"overlay\",\"line_alpha\":{\"value\":1.0},\"line_color\":{\"value\":\"black\"},\"line_dash\":[4,4],\"line_width\":{\"value\":2},\"plot\":null,\"render_mode\":\"css\",\"right_units\":\"screen\",\"top_units\":\"screen\"},\"id\":\"b9416dc2-4b73-481f-8901-bf514301d633\",\"type\":\"BoxAnnotation\"},{\"attributes\":{\"dimension\":1,\"plot\":{\"id\":\"28461b4f-fa9e-4510-b993-d74cdd200a03\",\"subtype\":\"Figure\",\"type\":\"Plot\"},\"ticker\":{\"id\":\"e85b307d-d80c-45f7-9cd7-6f2f4a068870\",\"type\":\"BasicTicker\"}},\"id\":\"1ebc1f81-cdee-4296-964d-dd48aa0bdc87\",\"type\":\"Grid\"},{\"attributes\":{},\"id\":\"7d008c73-0685-4183-acac-6c51d83ea970\",\"type\":\"LinearScale\"},{\"attributes\":{},\"id\":\"15e31b8b-7599-4626-9b92-df182d2e387d\",\"type\":\"PanTool\"},{\"attributes\":{},\"id\":\"991a9575-0b04-4be2-9a0a-d8d280cd8ce6\",\"type\":\"LinearScale\"},{\"attributes\":{\"data_source\":{\"id\":\"0292cdc3-3811-4977-882e-50751827a8b5\",\"type\":\"ColumnDataSource\"},\"glyph\":{\"id\":\"56b4ea5f-fbca-43b4-a2b6-3abfe819cd2b\",\"type\":\"Line\"},\"hover_glyph\":null,\"muted_glyph\":null,\"nonselection_glyph\":{\"id\":\"165ec765-6860-4227-b8e3-81177367ce7b\",\"type\":\"Line\"},\"selection_glyph\":null,\"view\":{\"id\":\"f0d914c9-31ee-4dc0-9c9b-c7aab92f4c98\",\"type\":\"CDSView\"}},\"id\":\"213ed3e8-2a53-4953-bdb8-9364afcebb87\",\"type\":\"GlyphRenderer\"},{\"attributes\":{\"callback\":null},\"id\":\"511f347e-abbc-459b-9903-3ce3b2701dfb\",\"type\":\"DataRange1d\"},{\"attributes\":{},\"id\":\"69791516-8277-4cfb-959a-df56b3cf4dfe\",\"type\":\"BasicTicker\"},{\"attributes\":{\"plot\":{\"id\":\"28461b4f-fa9e-4510-b993-d74cdd200a03\",\"subtype\":\"Figure\",\"type\":\"Plot\"},\"ticker\":{\"id\":\"69791516-8277-4cfb-959a-df56b3cf4dfe\",\"type\":\"BasicTicker\"}},\"id\":\"fa206ae1-e867-4b96-87ba-0ddada8f3948\",\"type\":\"Grid\"},{\"attributes\":{},\"id\":\"e3ee3b61-6326-4592-a313-c3a54826ff80\",\"type\":\"BasicTickFormatter\"},{\"attributes\":{},\"id\":\"39947c09-fddc-403a-b1ca-529290f86828\",\"type\":\"WheelZoomTool\"},{\"attributes\":{\"callback\":null},\"id\":\"790fdb02-567a-42f6-abf5-e2e2c204a259\",\"type\":\"DataRange1d\"},{\"attributes\":{},\"id\":\"5f05e0d4-6005-48f8-856a-a405af2ee15a\",\"type\":\"SaveTool\"},{\"attributes\":{\"below\":[{\"id\":\"a60afa25-c52b-4bab-9899-27c3bb403eb9\",\"type\":\"LinearAxis\"}],\"left\":[{\"id\":\"8c59783a-a3cb-4208-99a7-2db00d581610\",\"type\":\"LinearAxis\"}],\"plot_height\":400,\"plot_width\":400,\"renderers\":[{\"id\":\"a60afa25-c52b-4bab-9899-27c3bb403eb9\",\"type\":\"LinearAxis\"},{\"id\":\"fa206ae1-e867-4b96-87ba-0ddada8f3948\",\"type\":\"Grid\"},{\"id\":\"8c59783a-a3cb-4208-99a7-2db00d581610\",\"type\":\"LinearAxis\"},{\"id\":\"1ebc1f81-cdee-4296-964d-dd48aa0bdc87\",\"type\":\"Grid\"},{\"id\":\"b9416dc2-4b73-481f-8901-bf514301d633\",\"type\":\"BoxAnnotation\"},{\"id\":\"213ed3e8-2a53-4953-bdb8-9364afcebb87\",\"type\":\"GlyphRenderer\"}],\"title\":{\"id\":\"5ecb8a2e-5d02-4f00-bb8a-41ba071f55a7\",\"type\":\"Title\"},\"toolbar\":{\"id\":\"21400cbf-fcb3-4331-ad37-af6d629e8b77\",\"type\":\"Toolbar\"},\"x_range\":{\"id\":\"790fdb02-567a-42f6-abf5-e2e2c204a259\",\"type\":\"DataRange1d\"},\"x_scale\":{\"id\":\"7d008c73-0685-4183-acac-6c51d83ea970\",\"type\":\"LinearScale\"},\"y_range\":{\"id\":\"511f347e-abbc-459b-9903-3ce3b2701dfb\",\"type\":\"DataRange1d\"},\"y_scale\":{\"id\":\"991a9575-0b04-4be2-9a0a-d8d280cd8ce6\",\"type\":\"LinearScale\"}},\"id\":\"28461b4f-fa9e-4510-b993-d74cdd200a03\",\"subtype\":\"Figure\",\"type\":\"Plot\"},{\"attributes\":{\"overlay\":{\"id\":\"b9416dc2-4b73-481f-8901-bf514301d633\",\"type\":\"BoxAnnotation\"}},\"id\":\"cd3f2dbf-eb39-443c-877a-b8464bdefd32\",\"type\":\"BoxZoomTool\"},{\"attributes\":{},\"id\":\"bdcfdb3d-ae5f-4c87-8773-c9de68466fb6\",\"type\":\"ResetTool\"},{\"attributes\":{\"active_drag\":\"auto\",\"active_inspect\":\"auto\",\"active_scroll\":\"auto\",\"active_tap\":\"auto\",\"tools\":[{\"id\":\"15e31b8b-7599-4626-9b92-df182d2e387d\",\"type\":\"PanTool\"},{\"id\":\"39947c09-fddc-403a-b1ca-529290f86828\",\"type\":\"WheelZoomTool\"},{\"id\":\"cd3f2dbf-eb39-443c-877a-b8464bdefd32\",\"type\":\"BoxZoomTool\"},{\"id\":\"5f05e0d4-6005-48f8-856a-a405af2ee15a\",\"type\":\"SaveTool\"},{\"id\":\"bdcfdb3d-ae5f-4c87-8773-c9de68466fb6\",\"type\":\"ResetTool\"},{\"id\":\"b9a03562-3ae4-4c86-b58a-c2a372bc7560\",\"type\":\"HelpTool\"}]},\"id\":\"21400cbf-fcb3-4331-ad37-af6d629e8b77\",\"type\":\"Toolbar\"},{\"attributes\":{},\"id\":\"b9a03562-3ae4-4c86-b58a-c2a372bc7560\",\"type\":\"HelpTool\"},{\"attributes\":{\"line_color\":\"#1f77b4\",\"line_width\":5,\"x\":{\"field\":\"x\"},\"y\":{\"field\":\"y\"}},\"id\":\"56b4ea5f-fbca-43b4-a2b6-3abfe819cd2b\",\"type\":\"Line\"},{\"attributes\":{},\"id\":\"e85b307d-d80c-45f7-9cd7-6f2f4a068870\",\"type\":\"BasicTicker\"},{\"attributes\":{\"formatter\":{\"id\":\"e3ee3b61-6326-4592-a313-c3a54826ff80\",\"type\":\"BasicTickFormatter\"},\"plot\":{\"id\":\"28461b4f-fa9e-4510-b993-d74cdd200a03\",\"subtype\":\"Figure\",\"type\":\"Plot\"},\"ticker\":{\"id\":\"69791516-8277-4cfb-959a-df56b3cf4dfe\",\"type\":\"BasicTicker\"}},\"id\":\"a60afa25-c52b-4bab-9899-27c3bb403eb9\",\"type\":\"LinearAxis\"},{\"attributes\":{\"callback\":null,\"column_names\":[\"x\",\"y\"],\"data\":{\"x\":[1,2,3,4,5],\"y\":[6,7,2,4,5]}},\"id\":\"0292cdc3-3811-4977-882e-50751827a8b5\",\"type\":\"ColumnDataSource\"}],\"root_ids\":[\"28461b4f-fa9e-4510-b993-d74cdd200a03\"]},\"title\":\"Bokeh Application\",\"version\":\"0.12.13\"}};\n",
       "  var render_items = [{\"docid\":\"dc0ed1b6-52cd-43ba-98a9-21e2c95f4085\",\"elementid\":\"9ebefff3-5e49-4e54-80e9-6054da77cfba\",\"modelid\":\"28461b4f-fa9e-4510-b993-d74cdd200a03\"}];\n",
       "  root.Bokeh.embed.embed_items_notebook(docs_json, render_items);\n",
       "\n",
       "  }\n",
       "  if (root.Bokeh !== undefined) {\n",
       "    embed_document(root);\n",
       "  } else {\n",
       "    var attempts = 0;\n",
       "    var timer = setInterval(function(root) {\n",
       "      if (root.Bokeh !== undefined) {\n",
       "        embed_document(root);\n",
       "        clearInterval(timer);\n",
       "      }\n",
       "      attempts++;\n",
       "      if (attempts > 100) {\n",
       "        console.log(\"Bokeh: ERROR: Unable to run BokehJS code because BokehJS library is missing\")\n",
       "        clearInterval(timer);\n",
       "      }\n",
       "    }, 10, root)\n",
       "  }\n",
       "})(window);"
      ],
      "application/vnd.bokehjs_exec.v0+json": ""
     },
     "metadata": {
      "application/vnd.bokehjs_exec.v0+json": {
       "id": "28461b4f-fa9e-4510-b993-d74cdd200a03"
      }
     },
     "output_type": "display_data"
    }
   ],
   "source": [
    "# EXERCISE: Plot some different markers in this cell\n",
    "\n",
    "# create a new plot using figure\n",
    "cc = figure(plot_width=400, plot_height=400)\n",
    "\n",
    "# add a square renderer with a size, color, alpha, and sizes\n",
    "cc.line([1, 2, 3, 4, 5], [6, 7, 2, 4, 5], line_width=5)\n",
    "\n",
    "show(cc) # show the results"
   ]
  },
  {
   "cell_type": "markdown",
   "metadata": {},
   "source": [
    "# Images"
   ]
  },
  {
   "cell_type": "markdown",
   "metadata": {},
   "source": [
    "The example below shows how to use the `image_rgba` method to display raw RGBA data. \n",
    "\n",
    "**Note**: This example makes use of the NumPy library "
   ]
  },
  {
   "cell_type": "code",
   "execution_count": 23,
   "metadata": {},
   "outputs": [
    {
     "data": {
      "text/html": [
       "\n",
       "<div class=\"bk-root\">\n",
       "    <div class=\"bk-plotdiv\" id=\"6d9672a5-335e-45b9-a989-daf75b707692\"></div>\n",
       "</div>"
      ]
     },
     "metadata": {},
     "output_type": "display_data"
    },
    {
     "data": {
      "application/javascript": [
       "(function(root) {\n",
       "  function embed_document(root) {\n",
       "    \n",
       "  var docs_json = {\"e81f907b-7b0b-482e-aadf-babf8d5d70db\":{\"roots\":{\"references\":[{\"attributes\":{},\"id\":\"458f4944-ba29-4332-959c-a782ffcb8547\",\"type\":\"SaveTool\"},{\"attributes\":{},\"id\":\"ec8c8a7c-4bf2-4c1c-b48f-3603e3013281\",\"type\":\"ResetTool\"},{\"attributes\":{\"callback\":null,\"end\":10},\"id\":\"92ae5056-5400-4eb9-8409-9419dcdba7de\",\"type\":\"Range1d\"},{\"attributes\":{},\"id\":\"2f60ca2b-39b6-4942-a891-818b8f9e4fa8\",\"type\":\"HelpTool\"},{\"attributes\":{},\"id\":\"33c540fd-b76f-4ec4-b496-911fd0e86f33\",\"type\":\"LinearScale\"},{\"attributes\":{\"plot\":null,\"text\":\"\"},\"id\":\"160e2fff-4c2c-4e1a-a27e-22066e8a419d\",\"type\":\"Title\"},{\"attributes\":{},\"id\":\"de53c994-8978-41c8-babd-a5ad0a98f502\",\"type\":\"LinearScale\"},{\"attributes\":{\"plot\":{\"id\":\"9f1b1630-3cd3-45a8-954a-93e74d217838\",\"subtype\":\"Figure\",\"type\":\"Plot\"},\"ticker\":{\"id\":\"5a8feac4-d5b6-49ab-95dd-59b76a872877\",\"type\":\"BasicTicker\"}},\"id\":\"deba98fd-dda3-4a6f-8a2e-ed78f5073cc0\",\"type\":\"Grid\"},{\"attributes\":{\"formatter\":{\"id\":\"67832d7a-b2d2-4272-b460-6a290e34cb8b\",\"type\":\"BasicTickFormatter\"},\"plot\":{\"id\":\"9f1b1630-3cd3-45a8-954a-93e74d217838\",\"subtype\":\"Figure\",\"type\":\"Plot\"},\"ticker\":{\"id\":\"5a8feac4-d5b6-49ab-95dd-59b76a872877\",\"type\":\"BasicTicker\"}},\"id\":\"335a34ce-5294-4c60-94d3-3f41ff7ee7e2\",\"type\":\"LinearAxis\"},{\"attributes\":{},\"id\":\"5a8feac4-d5b6-49ab-95dd-59b76a872877\",\"type\":\"BasicTicker\"},{\"attributes\":{\"formatter\":{\"id\":\"6f167212-3038-4c45-95d1-426386acf8b4\",\"type\":\"BasicTickFormatter\"},\"plot\":{\"id\":\"9f1b1630-3cd3-45a8-954a-93e74d217838\",\"subtype\":\"Figure\",\"type\":\"Plot\"},\"ticker\":{\"id\":\"689235b3-ecd4-4e7a-8da4-ca814c119f96\",\"type\":\"BasicTicker\"}},\"id\":\"bd9dc2a1-39d1-4264-ae6e-a0058ffdcb4f\",\"type\":\"LinearAxis\"},{\"attributes\":{},\"id\":\"6f167212-3038-4c45-95d1-426386acf8b4\",\"type\":\"BasicTickFormatter\"},{\"attributes\":{},\"id\":\"689235b3-ecd4-4e7a-8da4-ca814c119f96\",\"type\":\"BasicTicker\"},{\"attributes\":{},\"id\":\"67832d7a-b2d2-4272-b460-6a290e34cb8b\",\"type\":\"BasicTickFormatter\"},{\"attributes\":{\"dimension\":1,\"plot\":{\"id\":\"9f1b1630-3cd3-45a8-954a-93e74d217838\",\"subtype\":\"Figure\",\"type\":\"Plot\"},\"ticker\":{\"id\":\"689235b3-ecd4-4e7a-8da4-ca814c119f96\",\"type\":\"BasicTicker\"}},\"id\":\"5d14412a-0e29-42b2-9b0a-de4f2ff3ec28\",\"type\":\"Grid\"},{\"attributes\":{\"dh\":{\"field\":\"dh\",\"units\":\"data\"},\"dw\":{\"field\":\"dw\",\"units\":\"data\"},\"image\":{\"field\":\"image\"},\"x\":{\"field\":\"x\"},\"y\":{\"field\":\"y\"}},\"id\":\"9a8a1936-0ca9-449c-8f90-0c5bb0de30c7\",\"type\":\"ImageRGBA\"},{\"attributes\":{\"dh\":{\"field\":\"dh\",\"units\":\"data\"},\"dw\":{\"field\":\"dw\",\"units\":\"data\"},\"image\":{\"field\":\"image\"},\"x\":{\"field\":\"x\"},\"y\":{\"field\":\"y\"}},\"id\":\"63220f4b-e84c-4c82-a097-0aff677ff63d\",\"type\":\"ImageRGBA\"},{\"attributes\":{\"bottom_units\":\"screen\",\"fill_alpha\":{\"value\":0.5},\"fill_color\":{\"value\":\"lightgrey\"},\"left_units\":\"screen\",\"level\":\"overlay\",\"line_alpha\":{\"value\":1.0},\"line_color\":{\"value\":\"black\"},\"line_dash\":[4,4],\"line_width\":{\"value\":2},\"plot\":null,\"render_mode\":\"css\",\"right_units\":\"screen\",\"top_units\":\"screen\"},\"id\":\"5f61f976-d4a9-4747-b365-a671905cb86d\",\"type\":\"BoxAnnotation\"},{\"attributes\":{\"callback\":null,\"column_names\":[\"image\",\"x\",\"y\",\"dw\",\"dh\"],\"data\":{\"dh\":[10],\"dw\":[10],\"image\":[{\"__ndarray__\":\"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\",\"dtype\":\"uint32\",\"shape\":[20,20]}],\"x\":[0],\"y\":[0]}},\"id\":\"a502ac27-f9c2-4198-9f70-8ad75029363c\",\"type\":\"ColumnDataSource\"},{\"attributes\":{},\"id\":\"48e3ce6d-ac9d-4d0a-aeca-b4dbd16a3dfb\",\"type\":\"PanTool\"},{\"attributes\":{\"data_source\":{\"id\":\"a502ac27-f9c2-4198-9f70-8ad75029363c\",\"type\":\"ColumnDataSource\"},\"glyph\":{\"id\":\"63220f4b-e84c-4c82-a097-0aff677ff63d\",\"type\":\"ImageRGBA\"},\"hover_glyph\":null,\"muted_glyph\":null,\"nonselection_glyph\":{\"id\":\"9a8a1936-0ca9-449c-8f90-0c5bb0de30c7\",\"type\":\"ImageRGBA\"},\"selection_glyph\":null,\"view\":{\"id\":\"7a62b5ad-a4d2-4467-9447-237bed069a46\",\"type\":\"CDSView\"}},\"id\":\"f2906f50-e521-4bae-83ea-238da9ee469b\",\"type\":\"GlyphRenderer\"},{\"attributes\":{\"source\":{\"id\":\"a502ac27-f9c2-4198-9f70-8ad75029363c\",\"type\":\"ColumnDataSource\"}},\"id\":\"7a62b5ad-a4d2-4467-9447-237bed069a46\",\"type\":\"CDSView\"},{\"attributes\":{\"below\":[{\"id\":\"335a34ce-5294-4c60-94d3-3f41ff7ee7e2\",\"type\":\"LinearAxis\"}],\"left\":[{\"id\":\"bd9dc2a1-39d1-4264-ae6e-a0058ffdcb4f\",\"type\":\"LinearAxis\"}],\"renderers\":[{\"id\":\"335a34ce-5294-4c60-94d3-3f41ff7ee7e2\",\"type\":\"LinearAxis\"},{\"id\":\"deba98fd-dda3-4a6f-8a2e-ed78f5073cc0\",\"type\":\"Grid\"},{\"id\":\"bd9dc2a1-39d1-4264-ae6e-a0058ffdcb4f\",\"type\":\"LinearAxis\"},{\"id\":\"5d14412a-0e29-42b2-9b0a-de4f2ff3ec28\",\"type\":\"Grid\"},{\"id\":\"5f61f976-d4a9-4747-b365-a671905cb86d\",\"type\":\"BoxAnnotation\"},{\"id\":\"f2906f50-e521-4bae-83ea-238da9ee469b\",\"type\":\"GlyphRenderer\"}],\"title\":{\"id\":\"160e2fff-4c2c-4e1a-a27e-22066e8a419d\",\"type\":\"Title\"},\"toolbar\":{\"id\":\"f17db7b5-2e79-4a19-9321-c4a374c6a77b\",\"type\":\"Toolbar\"},\"x_range\":{\"id\":\"7e454e89-67ca-4500-9efc-60e1167bbab0\",\"type\":\"Range1d\"},\"x_scale\":{\"id\":\"33c540fd-b76f-4ec4-b496-911fd0e86f33\",\"type\":\"LinearScale\"},\"y_range\":{\"id\":\"92ae5056-5400-4eb9-8409-9419dcdba7de\",\"type\":\"Range1d\"},\"y_scale\":{\"id\":\"de53c994-8978-41c8-babd-a5ad0a98f502\",\"type\":\"LinearScale\"}},\"id\":\"9f1b1630-3cd3-45a8-954a-93e74d217838\",\"subtype\":\"Figure\",\"type\":\"Plot\"},{\"attributes\":{},\"id\":\"89e81da1-d32a-48ff-8610-f8fa661d63fe\",\"type\":\"WheelZoomTool\"},{\"attributes\":{\"active_drag\":\"auto\",\"active_inspect\":\"auto\",\"active_scroll\":\"auto\",\"active_tap\":\"auto\",\"tools\":[{\"id\":\"48e3ce6d-ac9d-4d0a-aeca-b4dbd16a3dfb\",\"type\":\"PanTool\"},{\"id\":\"89e81da1-d32a-48ff-8610-f8fa661d63fe\",\"type\":\"WheelZoomTool\"},{\"id\":\"404dc2f7-b612-4e59-96e9-410d3f558db7\",\"type\":\"BoxZoomTool\"},{\"id\":\"458f4944-ba29-4332-959c-a782ffcb8547\",\"type\":\"SaveTool\"},{\"id\":\"ec8c8a7c-4bf2-4c1c-b48f-3603e3013281\",\"type\":\"ResetTool\"},{\"id\":\"2f60ca2b-39b6-4942-a891-818b8f9e4fa8\",\"type\":\"HelpTool\"}]},\"id\":\"f17db7b5-2e79-4a19-9321-c4a374c6a77b\",\"type\":\"Toolbar\"},{\"attributes\":{\"overlay\":{\"id\":\"5f61f976-d4a9-4747-b365-a671905cb86d\",\"type\":\"BoxAnnotation\"}},\"id\":\"404dc2f7-b612-4e59-96e9-410d3f558db7\",\"type\":\"BoxZoomTool\"},{\"attributes\":{\"callback\":null,\"end\":10},\"id\":\"7e454e89-67ca-4500-9efc-60e1167bbab0\",\"type\":\"Range1d\"}],\"root_ids\":[\"9f1b1630-3cd3-45a8-954a-93e74d217838\"]},\"title\":\"Bokeh Application\",\"version\":\"0.12.13\"}};\n",
       "  var render_items = [{\"docid\":\"e81f907b-7b0b-482e-aadf-babf8d5d70db\",\"elementid\":\"6d9672a5-335e-45b9-a989-daf75b707692\",\"modelid\":\"9f1b1630-3cd3-45a8-954a-93e74d217838\"}];\n",
       "  root.Bokeh.embed.embed_items_notebook(docs_json, render_items);\n",
       "\n",
       "  }\n",
       "  if (root.Bokeh !== undefined) {\n",
       "    embed_document(root);\n",
       "  } else {\n",
       "    var attempts = 0;\n",
       "    var timer = setInterval(function(root) {\n",
       "      if (root.Bokeh !== undefined) {\n",
       "        embed_document(root);\n",
       "        clearInterval(timer);\n",
       "      }\n",
       "      attempts++;\n",
       "      if (attempts > 100) {\n",
       "        console.log(\"Bokeh: ERROR: Unable to run BokehJS code because BokehJS library is missing\")\n",
       "        clearInterval(timer);\n",
       "      }\n",
       "    }, 10, root)\n",
       "  }\n",
       "})(window);"
      ],
      "application/vnd.bokehjs_exec.v0+json": ""
     },
     "metadata": {
      "application/vnd.bokehjs_exec.v0+json": {
       "id": "9f1b1630-3cd3-45a8-954a-93e74d217838"
      }
     },
     "output_type": "display_data"
    }
   ],
   "source": [
    "from __future__ import division\n",
    "import numpy as np\n",
    "\n",
    "# set up some data\n",
    "N = 20\n",
    "img = np.empty((N,N), dtype=np.uint32)\n",
    "view = img.view(dtype=np.uint8).reshape((N, N, 4))\n",
    "for i in range(N):\n",
    "    for j in range(N):\n",
    "        view[i, j, 0] = int(i/N*255) # red\n",
    "        view[i, j, 1] = 158          # green\n",
    "        view[i, j, 2] = int(j/N*255) # blue\n",
    "        view[i, j, 3] = 255          # alpha\n",
    "        \n",
    "# create a new plot (with a fixed range) using figure\n",
    "p = figure(x_range=[0,10], y_range=[0,10])\n",
    "\n",
    "# add an RGBA image renderer\n",
    "p.image_rgba(image=[img], x=[0], y=[0], dw=[10], dh=[10])\n",
    "\n",
    "show(p) # show the results"
   ]
  },
  {
   "cell_type": "markdown",
   "metadata": {},
   "source": [
    "# Other Kinds of Glyphs\n",
    "\n",
    "Bokeh supports many other kinds of glyphs. You can click on the User Guide links below to see how to create plots with these glyphs using the [`bokeh.plotting`](http://bokeh.pydata.org/en/latest/docs/user_guide/plotting.html) interface.\n",
    "\n",
    "* [Rectangles and Ovals](http://bokeh.pydata.org/en/latest/docs/user_guide/plotting.html#rectangles-and-ovals)\n",
    "* [Segments and Rays](http://bokeh.pydata.org/en/latest/docs/user_guide/plotting.html#segments-and-rays)\n",
    "* [Wedges and Arcs](http://bokeh.pydata.org/en/latest/docs/user_guide/plotting.html#wedges-and-arcs)\n",
    "* [Specialized Curves](http://bokeh.pydata.org/en/latest/docs/user_guide/plotting.html#specialized-curves)\n"
   ]
  },
  {
   "cell_type": "code",
   "execution_count": 9,
   "metadata": {
    "collapsed": true
   },
   "outputs": [],
   "source": [
    "# EXERCISE: Plot some of the other glyph types, following the examples in the User Guide. \n",
    "\n"
   ]
  },
  {
   "cell_type": "markdown",
   "metadata": {},
   "source": [
    "# Plots with Multiple Glyphs \n",
    "\n",
    "It is possible to combine more than one glyph on a single figure. You just need to call multiple glyph methods on one figure object:"
   ]
  },
  {
   "cell_type": "code",
   "execution_count": 24,
   "metadata": {},
   "outputs": [
    {
     "data": {
      "text/html": [
       "\n",
       "<div class=\"bk-root\">\n",
       "    <div class=\"bk-plotdiv\" id=\"ddb525e0-4f0b-436b-b6b3-9f5f115726e4\"></div>\n",
       "</div>"
      ]
     },
     "metadata": {},
     "output_type": "display_data"
    },
    {
     "data": {
      "application/javascript": [
       "(function(root) {\n",
       "  function embed_document(root) {\n",
       "    \n",
       "  var docs_json = {\"6d85c003-2159-4dfe-aafd-8a9bf08233f4\":{\"roots\":{\"references\":[{\"attributes\":{\"fill_color\":{\"value\":\"white\"},\"line_color\":{\"value\":\"#1f77b4\"},\"size\":{\"units\":\"screen\",\"value\":8},\"x\":{\"field\":\"x\"},\"y\":{\"field\":\"y\"}},\"id\":\"ddc1b8d1-5dac-4694-a70b-3727afca09c7\",\"type\":\"Circle\"},{\"attributes\":{\"line_alpha\":0.1,\"line_color\":\"#1f77b4\",\"line_width\":2,\"x\":{\"field\":\"x\"},\"y\":{\"field\":\"y\"}},\"id\":\"4cca9e15-7dc6-48a1-b20a-ba91e25cf244\",\"type\":\"Line\"},{\"attributes\":{\"callback\":null},\"id\":\"46afa6f1-2f99-4ac6-9f52-2e2573963fe9\",\"type\":\"DataRange1d\"},{\"attributes\":{\"callback\":null},\"id\":\"f4111101-cc9c-43c4-a46e-930f90ff01f1\",\"type\":\"DataRange1d\"},{\"attributes\":{\"line_color\":\"#1f77b4\",\"line_width\":2,\"x\":{\"field\":\"x\"},\"y\":{\"field\":\"y\"}},\"id\":\"3772e6ed-9459-44f2-b1b9-ee3e4febf6c4\",\"type\":\"Line\"},{\"attributes\":{},\"id\":\"311b2db9-fd3f-47ed-b6b9-8f89d4c9b08b\",\"type\":\"LinearScale\"},{\"attributes\":{\"below\":[{\"id\":\"6a0ec255-b19d-48f0-9f68-1ea0fa151b5d\",\"type\":\"LinearAxis\"}],\"left\":[{\"id\":\"8eac2f2c-542d-41af-8fb3-6e30e60ae129\",\"type\":\"LinearAxis\"}],\"plot_height\":400,\"plot_width\":400,\"renderers\":[{\"id\":\"6a0ec255-b19d-48f0-9f68-1ea0fa151b5d\",\"type\":\"LinearAxis\"},{\"id\":\"82dada22-32ca-47f2-9fea-68b6fa67d8cc\",\"type\":\"Grid\"},{\"id\":\"8eac2f2c-542d-41af-8fb3-6e30e60ae129\",\"type\":\"LinearAxis\"},{\"id\":\"66e01719-ddaf-41cb-9557-9675e2d119fe\",\"type\":\"Grid\"},{\"id\":\"f88ad36d-e197-4a98-a031-b056064a8447\",\"type\":\"BoxAnnotation\"},{\"id\":\"3d41bead-74e6-4dc3-9bee-0b2a9f5ddd43\",\"type\":\"GlyphRenderer\"},{\"id\":\"906e7ef9-ee5e-4ba5-980a-4e43f4fbc5de\",\"type\":\"GlyphRenderer\"}],\"title\":{\"id\":\"6728fa96-4ff0-433f-a69a-e3590a2c0320\",\"type\":\"Title\"},\"toolbar\":{\"id\":\"a5bbe8ae-fc97-4140-990b-b0539fcc59fb\",\"type\":\"Toolbar\"},\"x_range\":{\"id\":\"46afa6f1-2f99-4ac6-9f52-2e2573963fe9\",\"type\":\"DataRange1d\"},\"x_scale\":{\"id\":\"311b2db9-fd3f-47ed-b6b9-8f89d4c9b08b\",\"type\":\"LinearScale\"},\"y_range\":{\"id\":\"f4111101-cc9c-43c4-a46e-930f90ff01f1\",\"type\":\"DataRange1d\"},\"y_scale\":{\"id\":\"05b58ee7-871a-4cac-9eb4-dce1b9aa2e2a\",\"type\":\"LinearScale\"}},\"id\":\"1a5f266c-d999-4c56-8240-ff84f6e6d3a1\",\"subtype\":\"Figure\",\"type\":\"Plot\"},{\"attributes\":{},\"id\":\"05b58ee7-871a-4cac-9eb4-dce1b9aa2e2a\",\"type\":\"LinearScale\"},{\"attributes\":{},\"id\":\"5ee4b216-4b24-4e7f-a5cb-0a4677ce8be1\",\"type\":\"ResetTool\"},{\"attributes\":{},\"id\":\"88dee5fb-e0f5-4b3e-9314-b88b4b7f70e0\",\"type\":\"HelpTool\"},{\"attributes\":{\"plot\":{\"id\":\"1a5f266c-d999-4c56-8240-ff84f6e6d3a1\",\"subtype\":\"Figure\",\"type\":\"Plot\"},\"ticker\":{\"id\":\"60f47d80-6f31-4473-8add-981f856201b7\",\"type\":\"BasicTicker\"}},\"id\":\"82dada22-32ca-47f2-9fea-68b6fa67d8cc\",\"type\":\"Grid\"},{\"attributes\":{\"formatter\":{\"id\":\"3b30df68-2044-4581-b7b5-8ce3059b0459\",\"type\":\"BasicTickFormatter\"},\"plot\":{\"id\":\"1a5f266c-d999-4c56-8240-ff84f6e6d3a1\",\"subtype\":\"Figure\",\"type\":\"Plot\"},\"ticker\":{\"id\":\"60f47d80-6f31-4473-8add-981f856201b7\",\"type\":\"BasicTicker\"}},\"id\":\"6a0ec255-b19d-48f0-9f68-1ea0fa151b5d\",\"type\":\"LinearAxis\"},{\"attributes\":{},\"id\":\"60f47d80-6f31-4473-8add-981f856201b7\",\"type\":\"BasicTicker\"},{\"attributes\":{\"formatter\":{\"id\":\"5d9731d1-37ce-4666-9ad7-dae98ad72ece\",\"type\":\"BasicTickFormatter\"},\"plot\":{\"id\":\"1a5f266c-d999-4c56-8240-ff84f6e6d3a1\",\"subtype\":\"Figure\",\"type\":\"Plot\"},\"ticker\":{\"id\":\"f75b188c-7542-46b0-8ab0-6f3666440faa\",\"type\":\"BasicTicker\"}},\"id\":\"8eac2f2c-542d-41af-8fb3-6e30e60ae129\",\"type\":\"LinearAxis\"},{\"attributes\":{},\"id\":\"f75b188c-7542-46b0-8ab0-6f3666440faa\",\"type\":\"BasicTicker\"},{\"attributes\":{\"callback\":null,\"column_names\":[\"x\",\"y\"],\"data\":{\"x\":[1,2,3,4,5],\"y\":[6,7,8,7,3]}},\"id\":\"3dac0db6-a03e-4408-8639-f103c64dbfc3\",\"type\":\"ColumnDataSource\"},{\"attributes\":{\"dimension\":1,\"plot\":{\"id\":\"1a5f266c-d999-4c56-8240-ff84f6e6d3a1\",\"subtype\":\"Figure\",\"type\":\"Plot\"},\"ticker\":{\"id\":\"f75b188c-7542-46b0-8ab0-6f3666440faa\",\"type\":\"BasicTicker\"}},\"id\":\"66e01719-ddaf-41cb-9557-9675e2d119fe\",\"type\":\"Grid\"},{\"attributes\":{\"active_drag\":\"auto\",\"active_inspect\":\"auto\",\"active_scroll\":\"auto\",\"active_tap\":\"auto\",\"tools\":[{\"id\":\"63467f43-fdb7-4738-9764-85d9cd093a35\",\"type\":\"PanTool\"},{\"id\":\"e9046ca3-4190-4637-b1f3-a02bfcb9ee2e\",\"type\":\"WheelZoomTool\"},{\"id\":\"91649420-6824-44a4-9217-bd6533ed014b\",\"type\":\"BoxZoomTool\"},{\"id\":\"13ab692f-d14b-40aa-bde4-397fc9f88a34\",\"type\":\"SaveTool\"},{\"id\":\"5ee4b216-4b24-4e7f-a5cb-0a4677ce8be1\",\"type\":\"ResetTool\"},{\"id\":\"88dee5fb-e0f5-4b3e-9314-b88b4b7f70e0\",\"type\":\"HelpTool\"}]},\"id\":\"a5bbe8ae-fc97-4140-990b-b0539fcc59fb\",\"type\":\"Toolbar\"},{\"attributes\":{\"data_source\":{\"id\":\"d4d502bb-9e02-4460-8d25-c326cf111d9c\",\"type\":\"ColumnDataSource\"},\"glyph\":{\"id\":\"3772e6ed-9459-44f2-b1b9-ee3e4febf6c4\",\"type\":\"Line\"},\"hover_glyph\":null,\"muted_glyph\":null,\"nonselection_glyph\":{\"id\":\"4cca9e15-7dc6-48a1-b20a-ba91e25cf244\",\"type\":\"Line\"},\"selection_glyph\":null,\"view\":{\"id\":\"c5623ab3-7c9c-4a6c-98bc-9ad251d29184\",\"type\":\"CDSView\"}},\"id\":\"3d41bead-74e6-4dc3-9bee-0b2a9f5ddd43\",\"type\":\"GlyphRenderer\"},{\"attributes\":{\"callback\":null,\"column_names\":[\"x\",\"y\"],\"data\":{\"x\":[1,2,3,4,5],\"y\":[6,7,8,7,3]}},\"id\":\"d4d502bb-9e02-4460-8d25-c326cf111d9c\",\"type\":\"ColumnDataSource\"},{\"attributes\":{\"bottom_units\":\"screen\",\"fill_alpha\":{\"value\":0.5},\"fill_color\":{\"value\":\"lightgrey\"},\"left_units\":\"screen\",\"level\":\"overlay\",\"line_alpha\":{\"value\":1.0},\"line_color\":{\"value\":\"black\"},\"line_dash\":[4,4],\"line_width\":{\"value\":2},\"plot\":null,\"render_mode\":\"css\",\"right_units\":\"screen\",\"top_units\":\"screen\"},\"id\":\"f88ad36d-e197-4a98-a031-b056064a8447\",\"type\":\"BoxAnnotation\"},{\"attributes\":{},\"id\":\"63467f43-fdb7-4738-9764-85d9cd093a35\",\"type\":\"PanTool\"},{\"attributes\":{\"source\":{\"id\":\"3dac0db6-a03e-4408-8639-f103c64dbfc3\",\"type\":\"ColumnDataSource\"}},\"id\":\"3c23f35b-00cb-49c3-b223-9db3a26c229e\",\"type\":\"CDSView\"},{\"attributes\":{\"source\":{\"id\":\"d4d502bb-9e02-4460-8d25-c326cf111d9c\",\"type\":\"ColumnDataSource\"}},\"id\":\"c5623ab3-7c9c-4a6c-98bc-9ad251d29184\",\"type\":\"CDSView\"},{\"attributes\":{},\"id\":\"e9046ca3-4190-4637-b1f3-a02bfcb9ee2e\",\"type\":\"WheelZoomTool\"},{\"attributes\":{\"overlay\":{\"id\":\"f88ad36d-e197-4a98-a031-b056064a8447\",\"type\":\"BoxAnnotation\"}},\"id\":\"91649420-6824-44a4-9217-bd6533ed014b\",\"type\":\"BoxZoomTool\"},{\"attributes\":{\"fill_alpha\":{\"value\":0.1},\"fill_color\":{\"value\":\"#1f77b4\"},\"line_alpha\":{\"value\":0.1},\"line_color\":{\"value\":\"#1f77b4\"},\"size\":{\"units\":\"screen\",\"value\":8},\"x\":{\"field\":\"x\"},\"y\":{\"field\":\"y\"}},\"id\":\"28847ff3-9c2c-4498-ae9f-8cb00c397860\",\"type\":\"Circle\"},{\"attributes\":{},\"id\":\"13ab692f-d14b-40aa-bde4-397fc9f88a34\",\"type\":\"SaveTool\"},{\"attributes\":{},\"id\":\"5d9731d1-37ce-4666-9ad7-dae98ad72ece\",\"type\":\"BasicTickFormatter\"},{\"attributes\":{},\"id\":\"3b30df68-2044-4581-b7b5-8ce3059b0459\",\"type\":\"BasicTickFormatter\"},{\"attributes\":{\"plot\":null,\"text\":\"\"},\"id\":\"6728fa96-4ff0-433f-a69a-e3590a2c0320\",\"type\":\"Title\"},{\"attributes\":{\"data_source\":{\"id\":\"3dac0db6-a03e-4408-8639-f103c64dbfc3\",\"type\":\"ColumnDataSource\"},\"glyph\":{\"id\":\"ddc1b8d1-5dac-4694-a70b-3727afca09c7\",\"type\":\"Circle\"},\"hover_glyph\":null,\"muted_glyph\":null,\"nonselection_glyph\":{\"id\":\"28847ff3-9c2c-4498-ae9f-8cb00c397860\",\"type\":\"Circle\"},\"selection_glyph\":null,\"view\":{\"id\":\"3c23f35b-00cb-49c3-b223-9db3a26c229e\",\"type\":\"CDSView\"}},\"id\":\"906e7ef9-ee5e-4ba5-980a-4e43f4fbc5de\",\"type\":\"GlyphRenderer\"}],\"root_ids\":[\"1a5f266c-d999-4c56-8240-ff84f6e6d3a1\"]},\"title\":\"Bokeh Application\",\"version\":\"0.12.13\"}};\n",
       "  var render_items = [{\"docid\":\"6d85c003-2159-4dfe-aafd-8a9bf08233f4\",\"elementid\":\"ddb525e0-4f0b-436b-b6b3-9f5f115726e4\",\"modelid\":\"1a5f266c-d999-4c56-8240-ff84f6e6d3a1\"}];\n",
       "  root.Bokeh.embed.embed_items_notebook(docs_json, render_items);\n",
       "\n",
       "  }\n",
       "  if (root.Bokeh !== undefined) {\n",
       "    embed_document(root);\n",
       "  } else {\n",
       "    var attempts = 0;\n",
       "    var timer = setInterval(function(root) {\n",
       "      if (root.Bokeh !== undefined) {\n",
       "        embed_document(root);\n",
       "        clearInterval(timer);\n",
       "      }\n",
       "      attempts++;\n",
       "      if (attempts > 100) {\n",
       "        console.log(\"Bokeh: ERROR: Unable to run BokehJS code because BokehJS library is missing\")\n",
       "        clearInterval(timer);\n",
       "      }\n",
       "    }, 10, root)\n",
       "  }\n",
       "})(window);"
      ],
      "application/vnd.bokehjs_exec.v0+json": ""
     },
     "metadata": {
      "application/vnd.bokehjs_exec.v0+json": {
       "id": "1a5f266c-d999-4c56-8240-ff84f6e6d3a1"
      }
     },
     "output_type": "display_data"
    }
   ],
   "source": [
    "# set up some data\n",
    "x = [1, 2, 3, 4, 5]\n",
    "y = [6, 7, 8, 7, 3]\n",
    "\n",
    "# create a new plot with figure\n",
    "p = figure(plot_width=400, plot_height=400)\n",
    "\n",
    "# add both a line and circles on the same plot\n",
    "p.line(x, y, line_width=2)\n",
    "p.circle(x, y, fill_color=\"white\", size=8)\n",
    "\n",
    "show(p) # show the results"
   ]
  },
  {
   "cell_type": "code",
   "execution_count": 26,
   "metadata": {},
   "outputs": [
    {
     "data": {
      "text/html": [
       "\n",
       "<div class=\"bk-root\">\n",
       "    <div class=\"bk-plotdiv\" id=\"37a2dcd5-afdb-4896-9b72-fb8807aa0fd3\"></div>\n",
       "</div>"
      ]
     },
     "metadata": {},
     "output_type": "display_data"
    },
    {
     "data": {
      "application/javascript": [
       "(function(root) {\n",
       "  function embed_document(root) {\n",
       "    \n",
       "  var docs_json = {\"74c092a7-5ad9-4a81-ae84-c6cb0b4e2133\":{\"roots\":{\"references\":[{\"attributes\":{\"callback\":null,\"column_names\":[\"x\",\"y\"],\"data\":{\"x\":[1,2,3,4,5],\"y\":[6,7,8,7,3]}},\"id\":\"6ba6d6b1-1cfd-4e66-9fed-71f2e093eec7\",\"type\":\"ColumnDataSource\"},{\"attributes\":{},\"id\":\"e5c56aed-7e0f-4228-a3e6-8a84c4403ca9\",\"type\":\"LinearScale\"},{\"attributes\":{},\"id\":\"f9584198-c960-4480-bc41-bc65e6af58d0\",\"type\":\"PanTool\"},{\"attributes\":{\"below\":[{\"id\":\"2ef5438c-27db-4f83-8af6-de6c8b3c7f38\",\"type\":\"LinearAxis\"}],\"left\":[{\"id\":\"0ad8ad5e-a6ea-4ad1-825d-847fd7df376c\",\"type\":\"LinearAxis\"}],\"plot_height\":400,\"plot_width\":400,\"renderers\":[{\"id\":\"2ef5438c-27db-4f83-8af6-de6c8b3c7f38\",\"type\":\"LinearAxis\"},{\"id\":\"177dbbdd-825a-4926-9211-b61db5df1a6d\",\"type\":\"Grid\"},{\"id\":\"0ad8ad5e-a6ea-4ad1-825d-847fd7df376c\",\"type\":\"LinearAxis\"},{\"id\":\"52437134-1358-414d-a36b-5eab160c2eff\",\"type\":\"Grid\"},{\"id\":\"2ab48db3-80e4-441b-917b-34b597638ac6\",\"type\":\"BoxAnnotation\"},{\"id\":\"aaeccf9d-b50b-4572-8a6e-bc0433d5b954\",\"type\":\"GlyphRenderer\"},{\"id\":\"4485e15e-ef45-448f-8d2a-5de2a593ad28\",\"type\":\"GlyphRenderer\"}],\"title\":{\"id\":\"850258f5-8b6d-4168-a77a-d747c5ae06ae\",\"type\":\"Title\"},\"toolbar\":{\"id\":\"ef14e9f1-5eb5-4dfd-8909-a04fdc199176\",\"type\":\"Toolbar\"},\"x_range\":{\"id\":\"e182a222-177e-4df1-be0e-fcb8b10ab0f6\",\"type\":\"DataRange1d\"},\"x_scale\":{\"id\":\"c1eb2676-2b0a-473c-9075-b88edc4b019c\",\"type\":\"LinearScale\"},\"y_range\":{\"id\":\"7ce0605c-9aef-4781-8197-73d0796b846f\",\"type\":\"DataRange1d\"},\"y_scale\":{\"id\":\"e5c56aed-7e0f-4228-a3e6-8a84c4403ca9\",\"type\":\"LinearScale\"}},\"id\":\"c111e91a-04a5-4f17-96ca-46d2b59cef56\",\"subtype\":\"Figure\",\"type\":\"Plot\"},{\"attributes\":{\"bottom_units\":\"screen\",\"fill_alpha\":{\"value\":0.5},\"fill_color\":{\"value\":\"lightgrey\"},\"left_units\":\"screen\",\"level\":\"overlay\",\"line_alpha\":{\"value\":1.0},\"line_color\":{\"value\":\"black\"},\"line_dash\":[4,4],\"line_width\":{\"value\":2},\"plot\":null,\"render_mode\":\"css\",\"right_units\":\"screen\",\"top_units\":\"screen\"},\"id\":\"2ab48db3-80e4-441b-917b-34b597638ac6\",\"type\":\"BoxAnnotation\"},{\"attributes\":{\"callback\":null},\"id\":\"e182a222-177e-4df1-be0e-fcb8b10ab0f6\",\"type\":\"DataRange1d\"},{\"attributes\":{},\"id\":\"f4cfbb70-bfbc-45e4-8ecd-e91cee5f8095\",\"type\":\"WheelZoomTool\"},{\"attributes\":{\"overlay\":{\"id\":\"2ab48db3-80e4-441b-917b-34b597638ac6\",\"type\":\"BoxAnnotation\"}},\"id\":\"6a10fed4-5a10-406c-acd7-6b20bfae2fc4\",\"type\":\"BoxZoomTool\"},{\"attributes\":{},\"id\":\"fbd1d806-e25b-4e24-a234-6b43c45c9822\",\"type\":\"SaveTool\"},{\"attributes\":{},\"id\":\"052a8577-7ed0-4323-81fb-05faf026aee4\",\"type\":\"ResetTool\"},{\"attributes\":{\"line_alpha\":0.1,\"line_color\":\"#1f77b4\",\"line_width\":2,\"x\":{\"field\":\"x\"},\"y\":{\"field\":\"y\"}},\"id\":\"9d9e1dbe-2125-4b63-9796-7c4d65645db5\",\"type\":\"Line\"},{\"attributes\":{\"callback\":null,\"column_names\":[\"x\",\"y\"],\"data\":{\"x\":[1,2,3,4,5],\"y\":[6,7,8,7,3]}},\"id\":\"497294ae-0fc3-4a49-a650-2bd8bb231037\",\"type\":\"ColumnDataSource\"},{\"attributes\":{},\"id\":\"d14cde6f-d372-4370-bb44-b197a4294af3\",\"type\":\"HelpTool\"},{\"attributes\":{\"plot\":{\"id\":\"c111e91a-04a5-4f17-96ca-46d2b59cef56\",\"subtype\":\"Figure\",\"type\":\"Plot\"},\"ticker\":{\"id\":\"a8d49686-87a4-46b4-9eff-652c6774296e\",\"type\":\"BasicTicker\"}},\"id\":\"177dbbdd-825a-4926-9211-b61db5df1a6d\",\"type\":\"Grid\"},{\"attributes\":{},\"id\":\"25a75945-d218-44e5-946a-752a46dea3f9\",\"type\":\"BasicTickFormatter\"},{\"attributes\":{},\"id\":\"6ad6d243-9e58-4c48-9ad9-9729216c7b86\",\"type\":\"BasicTickFormatter\"},{\"attributes\":{\"data_source\":{\"id\":\"6ba6d6b1-1cfd-4e66-9fed-71f2e093eec7\",\"type\":\"ColumnDataSource\"},\"glyph\":{\"id\":\"90c8760b-1fa9-4ee1-9011-e150ca822662\",\"type\":\"Line\"},\"hover_glyph\":null,\"muted_glyph\":null,\"nonselection_glyph\":{\"id\":\"9d9e1dbe-2125-4b63-9796-7c4d65645db5\",\"type\":\"Line\"},\"selection_glyph\":null,\"view\":{\"id\":\"0499e719-0c25-4eff-a95b-509f4a6d261f\",\"type\":\"CDSView\"}},\"id\":\"aaeccf9d-b50b-4572-8a6e-bc0433d5b954\",\"type\":\"GlyphRenderer\"},{\"attributes\":{\"source\":{\"id\":\"497294ae-0fc3-4a49-a650-2bd8bb231037\",\"type\":\"ColumnDataSource\"}},\"id\":\"0b5b5c93-16d1-42ef-890e-7e8fc5186f15\",\"type\":\"CDSView\"},{\"attributes\":{\"data_source\":{\"id\":\"497294ae-0fc3-4a49-a650-2bd8bb231037\",\"type\":\"ColumnDataSource\"},\"glyph\":{\"id\":\"5d6da874-be1e-4e79-b614-acb798b8f1f5\",\"type\":\"InvertedTriangle\"},\"hover_glyph\":null,\"muted_glyph\":null,\"nonselection_glyph\":{\"id\":\"dd0e998f-ce0d-43ca-b6d4-5c43c97a7294\",\"type\":\"InvertedTriangle\"},\"selection_glyph\":null,\"view\":{\"id\":\"0b5b5c93-16d1-42ef-890e-7e8fc5186f15\",\"type\":\"CDSView\"}},\"id\":\"4485e15e-ef45-448f-8d2a-5de2a593ad28\",\"type\":\"GlyphRenderer\"},{\"attributes\":{\"formatter\":{\"id\":\"6ad6d243-9e58-4c48-9ad9-9729216c7b86\",\"type\":\"BasicTickFormatter\"},\"plot\":{\"id\":\"c111e91a-04a5-4f17-96ca-46d2b59cef56\",\"subtype\":\"Figure\",\"type\":\"Plot\"},\"ticker\":{\"id\":\"a8d49686-87a4-46b4-9eff-652c6774296e\",\"type\":\"BasicTicker\"}},\"id\":\"2ef5438c-27db-4f83-8af6-de6c8b3c7f38\",\"type\":\"LinearAxis\"},{\"attributes\":{\"fill_alpha\":{\"value\":0.1},\"fill_color\":{\"value\":\"#1f77b4\"},\"line_alpha\":{\"value\":0.1},\"line_color\":{\"value\":\"#1f77b4\"},\"size\":{\"units\":\"screen\",\"value\":8},\"x\":{\"field\":\"x\"},\"y\":{\"field\":\"y\"}},\"id\":\"dd0e998f-ce0d-43ca-b6d4-5c43c97a7294\",\"type\":\"InvertedTriangle\"},{\"attributes\":{},\"id\":\"a80a716f-273a-48a3-87f5-3122a10d3348\",\"type\":\"BasicTicker\"},{\"attributes\":{},\"id\":\"a8d49686-87a4-46b4-9eff-652c6774296e\",\"type\":\"BasicTicker\"},{\"attributes\":{\"dimension\":1,\"plot\":{\"id\":\"c111e91a-04a5-4f17-96ca-46d2b59cef56\",\"subtype\":\"Figure\",\"type\":\"Plot\"},\"ticker\":{\"id\":\"a80a716f-273a-48a3-87f5-3122a10d3348\",\"type\":\"BasicTicker\"}},\"id\":\"52437134-1358-414d-a36b-5eab160c2eff\",\"type\":\"Grid\"},{\"attributes\":{\"formatter\":{\"id\":\"25a75945-d218-44e5-946a-752a46dea3f9\",\"type\":\"BasicTickFormatter\"},\"plot\":{\"id\":\"c111e91a-04a5-4f17-96ca-46d2b59cef56\",\"subtype\":\"Figure\",\"type\":\"Plot\"},\"ticker\":{\"id\":\"a80a716f-273a-48a3-87f5-3122a10d3348\",\"type\":\"BasicTicker\"}},\"id\":\"0ad8ad5e-a6ea-4ad1-825d-847fd7df376c\",\"type\":\"LinearAxis\"},{\"attributes\":{\"callback\":null},\"id\":\"7ce0605c-9aef-4781-8197-73d0796b846f\",\"type\":\"DataRange1d\"},{\"attributes\":{\"active_drag\":\"auto\",\"active_inspect\":\"auto\",\"active_scroll\":\"auto\",\"active_tap\":\"auto\",\"tools\":[{\"id\":\"f9584198-c960-4480-bc41-bc65e6af58d0\",\"type\":\"PanTool\"},{\"id\":\"f4cfbb70-bfbc-45e4-8ecd-e91cee5f8095\",\"type\":\"WheelZoomTool\"},{\"id\":\"6a10fed4-5a10-406c-acd7-6b20bfae2fc4\",\"type\":\"BoxZoomTool\"},{\"id\":\"fbd1d806-e25b-4e24-a234-6b43c45c9822\",\"type\":\"SaveTool\"},{\"id\":\"052a8577-7ed0-4323-81fb-05faf026aee4\",\"type\":\"ResetTool\"},{\"id\":\"d14cde6f-d372-4370-bb44-b197a4294af3\",\"type\":\"HelpTool\"}]},\"id\":\"ef14e9f1-5eb5-4dfd-8909-a04fdc199176\",\"type\":\"Toolbar\"},{\"attributes\":{\"plot\":null,\"text\":\"\"},\"id\":\"850258f5-8b6d-4168-a77a-d747c5ae06ae\",\"type\":\"Title\"},{\"attributes\":{\"fill_color\":{\"value\":\"pink\"},\"line_color\":{\"value\":\"purple\"},\"size\":{\"units\":\"screen\",\"value\":8},\"x\":{\"field\":\"x\"},\"y\":{\"field\":\"y\"}},\"id\":\"5d6da874-be1e-4e79-b614-acb798b8f1f5\",\"type\":\"InvertedTriangle\"},{\"attributes\":{\"line_color\":\"#1f77b4\",\"line_width\":2,\"x\":{\"field\":\"x\"},\"y\":{\"field\":\"y\"}},\"id\":\"90c8760b-1fa9-4ee1-9011-e150ca822662\",\"type\":\"Line\"},{\"attributes\":{},\"id\":\"c1eb2676-2b0a-473c-9075-b88edc4b019c\",\"type\":\"LinearScale\"},{\"attributes\":{\"source\":{\"id\":\"6ba6d6b1-1cfd-4e66-9fed-71f2e093eec7\",\"type\":\"ColumnDataSource\"}},\"id\":\"0499e719-0c25-4eff-a95b-509f4a6d261f\",\"type\":\"CDSView\"}],\"root_ids\":[\"c111e91a-04a5-4f17-96ca-46d2b59cef56\"]},\"title\":\"Bokeh Application\",\"version\":\"0.12.13\"}};\n",
       "  var render_items = [{\"docid\":\"74c092a7-5ad9-4a81-ae84-c6cb0b4e2133\",\"elementid\":\"37a2dcd5-afdb-4896-9b72-fb8807aa0fd3\",\"modelid\":\"c111e91a-04a5-4f17-96ca-46d2b59cef56\"}];\n",
       "  root.Bokeh.embed.embed_items_notebook(docs_json, render_items);\n",
       "\n",
       "  }\n",
       "  if (root.Bokeh !== undefined) {\n",
       "    embed_document(root);\n",
       "  } else {\n",
       "    var attempts = 0;\n",
       "    var timer = setInterval(function(root) {\n",
       "      if (root.Bokeh !== undefined) {\n",
       "        embed_document(root);\n",
       "        clearInterval(timer);\n",
       "      }\n",
       "      attempts++;\n",
       "      if (attempts > 100) {\n",
       "        console.log(\"Bokeh: ERROR: Unable to run BokehJS code because BokehJS library is missing\")\n",
       "        clearInterval(timer);\n",
       "      }\n",
       "    }, 10, root)\n",
       "  }\n",
       "})(window);"
      ],
      "application/vnd.bokehjs_exec.v0+json": ""
     },
     "metadata": {
      "application/vnd.bokehjs_exec.v0+json": {
       "id": "c111e91a-04a5-4f17-96ca-46d2b59cef56"
      }
     },
     "output_type": "display_data"
    }
   ],
   "source": [
    "# EXERCISE: create your own plot combining multiple glyphs together\n",
    "# set up some data\n",
    "x = [1, 2, 3, 4, 5]\n",
    "y = [6, 7, 8, 7, 3]\n",
    "\n",
    "# create a new plot with figure\n",
    "p = figure(plot_width=400, plot_height=400)\n",
    "\n",
    "# add both a line and circles on the same plot\n",
    "p.line(x, y, line_width=2)\n",
    "p.inverted_triangle(x, y, fill_color=\"pink\", size=8, color='purple')\n",
    "\n",
    "show(p) # show the results\n"
   ]
  }
 ],
 "metadata": {
  "anaconda-cloud": {},
  "kernelspec": {
   "display_name": "Python 3",
   "language": "python",
   "name": "python3"
  },
  "language_info": {
   "codemirror_mode": {
    "name": "ipython",
    "version": 3
   },
   "file_extension": ".py",
   "mimetype": "text/x-python",
   "name": "python",
   "nbconvert_exporter": "python",
   "pygments_lexer": "ipython3",
   "version": "3.6.3"
  }
 },
 "nbformat": 4,
 "nbformat_minor": 1
}
