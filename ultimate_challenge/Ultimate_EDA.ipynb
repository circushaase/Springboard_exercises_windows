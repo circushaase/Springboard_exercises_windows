{
 "cells": [
  {
   "cell_type": "code",
   "execution_count": 22,
   "metadata": {},
   "outputs": [],
   "source": [
    "import pandas as pd\n",
    "import numpy as np\n",
    "from datetime import datetime\n",
    "%matplotlib inline\n",
    "import matplotlib.pyplot as pyplot\n",
    "\n",
    "df = pd.read_json('logins.json')"
   ]
  },
  {
   "cell_type": "code",
   "execution_count": 23,
   "metadata": {},
   "outputs": [
    {
     "data": {
      "text/html": [
       "<div>\n",
       "<style scoped>\n",
       "    .dataframe tbody tr th:only-of-type {\n",
       "        vertical-align: middle;\n",
       "    }\n",
       "\n",
       "    .dataframe tbody tr th {\n",
       "        vertical-align: top;\n",
       "    }\n",
       "\n",
       "    .dataframe thead th {\n",
       "        text-align: right;\n",
       "    }\n",
       "</style>\n",
       "<table border=\"1\" class=\"dataframe\">\n",
       "  <thead>\n",
       "    <tr style=\"text-align: right;\">\n",
       "      <th></th>\n",
       "      <th>login_time</th>\n",
       "    </tr>\n",
       "  </thead>\n",
       "  <tbody>\n",
       "    <tr>\n",
       "      <th>0</th>\n",
       "      <td>1970-01-01 20:13:18</td>\n",
       "    </tr>\n",
       "    <tr>\n",
       "      <th>1</th>\n",
       "      <td>1970-01-01 20:16:10</td>\n",
       "    </tr>\n",
       "    <tr>\n",
       "      <th>2</th>\n",
       "      <td>1970-01-01 20:16:37</td>\n",
       "    </tr>\n",
       "    <tr>\n",
       "      <th>3</th>\n",
       "      <td>1970-01-01 20:16:36</td>\n",
       "    </tr>\n",
       "    <tr>\n",
       "      <th>4</th>\n",
       "      <td>1970-01-01 20:26:21</td>\n",
       "    </tr>\n",
       "  </tbody>\n",
       "</table>\n",
       "</div>"
      ],
      "text/plain": [
       "           login_time\n",
       "0 1970-01-01 20:13:18\n",
       "1 1970-01-01 20:16:10\n",
       "2 1970-01-01 20:16:37\n",
       "3 1970-01-01 20:16:36\n",
       "4 1970-01-01 20:26:21"
      ]
     },
     "execution_count": 23,
     "metadata": {},
     "output_type": "execute_result"
    }
   ],
   "source": [
    "df.head()"
   ]
  },
  {
   "cell_type": "code",
   "execution_count": 24,
   "metadata": {},
   "outputs": [
    {
     "data": {
      "text/plain": [
       "93142"
      ]
     },
     "execution_count": 24,
     "metadata": {},
     "output_type": "execute_result"
    }
   ],
   "source": [
    "len(df)"
   ]
  },
  {
   "cell_type": "code",
   "execution_count": 25,
   "metadata": {},
   "outputs": [],
   "source": [
    "#convert \"login_time\" from string to datetime\n",
    "df['login_time'] = pd.to_datetime(df['login_time'])"
   ]
  },
  {
   "cell_type": "code",
   "execution_count": 26,
   "metadata": {},
   "outputs": [],
   "source": [
    "#create \"date\" column\n",
    "df['date'] = df['login_time'].dt.date"
   ]
  },
  {
   "cell_type": "code",
   "execution_count": 27,
   "metadata": {},
   "outputs": [],
   "source": [
    "#create \"time\" column\n",
    "df['time'] = df['login_time'].dt.time"
   ]
  },
  {
   "cell_type": "code",
   "execution_count": 29,
   "metadata": {},
   "outputs": [
    {
     "data": {
      "text/html": [
       "<div>\n",
       "<style scoped>\n",
       "    .dataframe tbody tr th:only-of-type {\n",
       "        vertical-align: middle;\n",
       "    }\n",
       "\n",
       "    .dataframe tbody tr th {\n",
       "        vertical-align: top;\n",
       "    }\n",
       "\n",
       "    .dataframe thead th {\n",
       "        text-align: right;\n",
       "    }\n",
       "</style>\n",
       "<table border=\"1\" class=\"dataframe\">\n",
       "  <thead>\n",
       "    <tr style=\"text-align: right;\">\n",
       "      <th></th>\n",
       "      <th>login_time</th>\n",
       "      <th>date</th>\n",
       "      <th>time</th>\n",
       "    </tr>\n",
       "    <tr>\n",
       "      <th>login_time</th>\n",
       "      <th></th>\n",
       "      <th></th>\n",
       "      <th></th>\n",
       "    </tr>\n",
       "  </thead>\n",
       "  <tbody>\n",
       "    <tr>\n",
       "      <th>1970-01-01 20:13:18</th>\n",
       "      <td>1970-01-01 20:13:18</td>\n",
       "      <td>1970-01-01</td>\n",
       "      <td>20:13:18</td>\n",
       "    </tr>\n",
       "    <tr>\n",
       "      <th>1970-01-01 20:16:10</th>\n",
       "      <td>1970-01-01 20:16:10</td>\n",
       "      <td>1970-01-01</td>\n",
       "      <td>20:16:10</td>\n",
       "    </tr>\n",
       "    <tr>\n",
       "      <th>1970-01-01 20:16:37</th>\n",
       "      <td>1970-01-01 20:16:37</td>\n",
       "      <td>1970-01-01</td>\n",
       "      <td>20:16:37</td>\n",
       "    </tr>\n",
       "    <tr>\n",
       "      <th>1970-01-01 20:16:36</th>\n",
       "      <td>1970-01-01 20:16:36</td>\n",
       "      <td>1970-01-01</td>\n",
       "      <td>20:16:36</td>\n",
       "    </tr>\n",
       "    <tr>\n",
       "      <th>1970-01-01 20:26:21</th>\n",
       "      <td>1970-01-01 20:26:21</td>\n",
       "      <td>1970-01-01</td>\n",
       "      <td>20:26:21</td>\n",
       "    </tr>\n",
       "  </tbody>\n",
       "</table>\n",
       "</div>"
      ],
      "text/plain": [
       "                             login_time        date      time\n",
       "login_time                                                   \n",
       "1970-01-01 20:13:18 1970-01-01 20:13:18  1970-01-01  20:13:18\n",
       "1970-01-01 20:16:10 1970-01-01 20:16:10  1970-01-01  20:16:10\n",
       "1970-01-01 20:16:37 1970-01-01 20:16:37  1970-01-01  20:16:37\n",
       "1970-01-01 20:16:36 1970-01-01 20:16:36  1970-01-01  20:16:36\n",
       "1970-01-01 20:26:21 1970-01-01 20:26:21  1970-01-01  20:26:21"
      ]
     },
     "execution_count": 29,
     "metadata": {},
     "output_type": "execute_result"
    }
   ],
   "source": [
    "#make index equal to \"login_time\"\n",
    "df.index = df['login_time']\n",
    "df.head()"
   ]
  },
  {
   "cell_type": "code",
   "execution_count": 49,
   "metadata": {},
   "outputs": [
    {
     "name": "stderr",
     "output_type": "stream",
     "text": [
      "C:\\Users\\Lara\\Miniconda3\\lib\\site-packages\\ipykernel_launcher.py:1: FutureWarning: pd.TimeGrouper is deprecated and will be removed; Please use pd.Grouper(freq=...)\n",
      "  \"\"\"Entry point for launching an IPython kernel.\n"
     ]
    },
    {
     "data": {
      "text/plain": [
       "login_time\n",
       "1970-01-01 20:00:00     2\n",
       "1970-01-01 20:15:00     6\n",
       "1970-01-01 20:30:00     9\n",
       "1970-01-01 20:45:00     7\n",
       "1970-01-01 21:00:00     1\n",
       "1970-01-01 21:15:00     4\n",
       "1970-01-01 21:30:00     0\n",
       "1970-01-01 21:45:00     4\n",
       "1970-01-01 22:00:00     9\n",
       "1970-01-01 22:15:00     8\n",
       "1970-01-01 22:30:00     1\n",
       "1970-01-01 22:45:00     3\n",
       "1970-01-01 23:00:00    16\n",
       "1970-01-01 23:15:00    13\n",
       "1970-01-01 23:30:00    14\n",
       "1970-01-01 23:45:00    15\n",
       "1970-01-02 00:00:00    10\n",
       "1970-01-02 00:15:00    18\n",
       "1970-01-02 00:30:00    12\n",
       "1970-01-02 00:45:00    13\n",
       "1970-01-02 01:00:00     9\n",
       "1970-01-02 01:15:00     8\n",
       "1970-01-02 01:30:00    10\n",
       "1970-01-02 01:45:00     6\n",
       "1970-01-02 02:00:00     7\n",
       "1970-01-02 02:15:00    18\n",
       "1970-01-02 02:30:00    12\n",
       "1970-01-02 02:45:00     6\n",
       "1970-01-02 03:00:00    12\n",
       "1970-01-02 03:15:00     5\n",
       "                       ..\n",
       "1970-04-13 11:30:00    13\n",
       "1970-04-13 11:45:00     7\n",
       "1970-04-13 12:00:00     6\n",
       "1970-04-13 12:15:00    11\n",
       "1970-04-13 12:30:00     8\n",
       "1970-04-13 12:45:00    11\n",
       "1970-04-13 13:00:00     5\n",
       "1970-04-13 13:15:00     4\n",
       "1970-04-13 13:30:00     6\n",
       "1970-04-13 13:45:00     5\n",
       "1970-04-13 14:00:00     4\n",
       "1970-04-13 14:15:00     8\n",
       "1970-04-13 14:30:00     8\n",
       "1970-04-13 14:45:00    12\n",
       "1970-04-13 15:00:00    10\n",
       "1970-04-13 15:15:00     4\n",
       "1970-04-13 15:30:00     3\n",
       "1970-04-13 15:45:00     2\n",
       "1970-04-13 16:00:00     7\n",
       "1970-04-13 16:15:00     8\n",
       "1970-04-13 16:30:00     4\n",
       "1970-04-13 16:45:00     3\n",
       "1970-04-13 17:00:00     5\n",
       "1970-04-13 17:15:00     3\n",
       "1970-04-13 17:30:00     9\n",
       "1970-04-13 17:45:00     5\n",
       "1970-04-13 18:00:00     5\n",
       "1970-04-13 18:15:00     2\n",
       "1970-04-13 18:30:00     7\n",
       "1970-04-13 18:45:00     6\n",
       "Freq: 15T, Name: date, Length: 9788, dtype: int64"
      ]
     },
     "execution_count": 49,
     "metadata": {},
     "output_type": "execute_result"
    }
   ],
   "source": [
    "#group into 15min intervals\n",
    "groups = df.groupby(pd.TimeGrouper('15Min'))['date'].count()"
   ]
  },
  {
   "cell_type": "code",
   "execution_count": 31,
   "metadata": {},
   "outputs": [
    {
     "data": {
      "text/plain": [
       "<matplotlib.axes._subplots.AxesSubplot at 0x2053d86c940>"
      ]
     },
     "execution_count": 31,
     "metadata": {},
     "output_type": "execute_result"
    },
    {
     "data": {
      "image/png": "[encoded data removed]",
      "text/plain": [
       "<matplotlib.figure.Figure at 0x2053d338c50>"
      ]
     },
     "metadata": {},
     "output_type": "display_data"
    }
   ],
   "source": [
    "#bar chart of number of logins per 15min interval\n",
    "groups.plot(kind='bar', figsize=(16, 8))"
   ]
  },
  {
   "cell_type": "code",
   "execution_count": null,
   "metadata": {},
   "outputs": [],
   "source": []
  },
  {
   "cell_type": "code",
   "execution_count": 67,
   "metadata": {},
   "outputs": [
    {
     "data": {
      "text/plain": [
       "9.5159378831221897"
      ]
     },
     "execution_count": 67,
     "metadata": {},
     "output_type": "execute_result"
    }
   ],
   "source": [
    "groups.mean()"
   ]
  },
  {
   "cell_type": "code",
   "execution_count": 72,
   "metadata": {},
   "outputs": [
    {
     "data": {
      "text/plain": [
       "login_time\n",
       "1970-03-01 04:30:00    73\n",
       "1970-04-04 05:30:00    66\n",
       "1970-04-04 01:30:00    64\n",
       "1970-04-04 01:15:00    63\n",
       "1970-04-01 23:30:00    60\n",
       "1970-04-04 05:00:00    60\n",
       "1970-04-04 05:15:00    59\n",
       "1970-04-04 04:45:00    59\n",
       "1970-04-04 01:45:00    56\n",
       "1970-03-13 22:15:00    55\n",
       "1970-04-04 01:00:00    54\n",
       "1970-03-17 01:30:00    53\n",
       "1970-04-04 00:30:00    53\n",
       "1970-03-29 04:45:00    52\n",
       "1970-03-08 04:45:00    51\n",
       "1970-04-03 22:45:00    50\n",
       "1970-03-29 02:15:00    50\n",
       "1970-04-04 00:45:00    50\n",
       "1970-02-15 04:45:00    50\n",
       "1970-03-28 04:30:00    50\n",
       "Name: date, dtype: int64"
      ]
     },
     "execution_count": 72,
     "metadata": {},
     "output_type": "execute_result"
    }
   ],
   "source": [
    "#sort 15min intervals and show top 20\n",
    "topinstances =groups.sort_values(ascending=False).head(20)\n",
    "topinstances"
   ]
  },
  {
   "cell_type": "code",
   "execution_count": 71,
   "metadata": {
    "scrolled": true
   },
   "outputs": [
    {
     "data": {
      "text/plain": [
       "<matplotlib.axes._subplots.AxesSubplot at 0x2054774d828>"
      ]
     },
     "execution_count": 71,
     "metadata": {},
     "output_type": "execute_result"
    },
    {
     "data": {
      "image/png": "[encoded data removed]",
      "text/plain": [
       "<matplotlib.figure.Figure at 0x20546519b70>"
      ]
     },
     "metadata": {},
     "output_type": "display_data"
    }
   ],
   "source": [
    "#plot of time instances with most logins\n",
    "topinstances.sort_index().plot(kind='bar', figsize=(16, 8))"
   ]
  },
  {
   "cell_type": "code",
   "execution_count": null,
   "metadata": {},
   "outputs": [],
   "source": []
  },
  {
   "cell_type": "code",
   "execution_count": 51,
   "metadata": {},
   "outputs": [],
   "source": [
    "#create dataframe with 15min intervals\n",
    "groupsdf = pd.DataFrame(groups)\n",
    "groupsdf['login'] = groupsdf.index"
   ]
  },
  {
   "cell_type": "code",
   "execution_count": 53,
   "metadata": {},
   "outputs": [],
   "source": [
    "#create column of just time\n",
    "groupsdf['time'] = groupsdf['login'].dt.time"
   ]
  },
  {
   "cell_type": "code",
   "execution_count": 54,
   "metadata": {},
   "outputs": [
    {
     "data": {
      "text/html": [
       "<div>\n",
       "<style scoped>\n",
       "    .dataframe tbody tr th:only-of-type {\n",
       "        vertical-align: middle;\n",
       "    }\n",
       "\n",
       "    .dataframe tbody tr th {\n",
       "        vertical-align: top;\n",
       "    }\n",
       "\n",
       "    .dataframe thead th {\n",
       "        text-align: right;\n",
       "    }\n",
       "</style>\n",
       "<table border=\"1\" class=\"dataframe\">\n",
       "  <thead>\n",
       "    <tr style=\"text-align: right;\">\n",
       "      <th></th>\n",
       "      <th>date</th>\n",
       "      <th>login</th>\n",
       "      <th>time</th>\n",
       "    </tr>\n",
       "    <tr>\n",
       "      <th>login_time</th>\n",
       "      <th></th>\n",
       "      <th></th>\n",
       "      <th></th>\n",
       "    </tr>\n",
       "  </thead>\n",
       "  <tbody>\n",
       "    <tr>\n",
       "      <th>1970-01-01 20:00:00</th>\n",
       "      <td>2</td>\n",
       "      <td>1970-01-01 20:00:00</td>\n",
       "      <td>20:00:00</td>\n",
       "    </tr>\n",
       "    <tr>\n",
       "      <th>1970-01-01 20:15:00</th>\n",
       "      <td>6</td>\n",
       "      <td>1970-01-01 20:15:00</td>\n",
       "      <td>20:15:00</td>\n",
       "    </tr>\n",
       "    <tr>\n",
       "      <th>1970-01-01 20:30:00</th>\n",
       "      <td>9</td>\n",
       "      <td>1970-01-01 20:30:00</td>\n",
       "      <td>20:30:00</td>\n",
       "    </tr>\n",
       "    <tr>\n",
       "      <th>1970-01-01 20:45:00</th>\n",
       "      <td>7</td>\n",
       "      <td>1970-01-01 20:45:00</td>\n",
       "      <td>20:45:00</td>\n",
       "    </tr>\n",
       "    <tr>\n",
       "      <th>1970-01-01 21:00:00</th>\n",
       "      <td>1</td>\n",
       "      <td>1970-01-01 21:00:00</td>\n",
       "      <td>21:00:00</td>\n",
       "    </tr>\n",
       "  </tbody>\n",
       "</table>\n",
       "</div>"
      ],
      "text/plain": [
       "                     date               login      time\n",
       "login_time                                             \n",
       "1970-01-01 20:00:00     2 1970-01-01 20:00:00  20:00:00\n",
       "1970-01-01 20:15:00     6 1970-01-01 20:15:00  20:15:00\n",
       "1970-01-01 20:30:00     9 1970-01-01 20:30:00  20:30:00\n",
       "1970-01-01 20:45:00     7 1970-01-01 20:45:00  20:45:00\n",
       "1970-01-01 21:00:00     1 1970-01-01 21:00:00  21:00:00"
      ]
     },
     "execution_count": 54,
     "metadata": {},
     "output_type": "execute_result"
    }
   ],
   "source": [
    "groupsdf.head()"
   ]
  },
  {
   "cell_type": "code",
   "execution_count": 57,
   "metadata": {},
   "outputs": [],
   "source": [
    "#rename \"date\" column to \"counts\"\n",
    "groupsdf = groupsdf.rename(columns={'date': 'counts'})"
   ]
  },
  {
   "cell_type": "code",
   "execution_count": 65,
   "metadata": {},
   "outputs": [],
   "source": [
    "#groupby 15min interval\n",
    "intervals = groupsdf.groupby('time')['counts'].sum()"
   ]
  },
  {
   "cell_type": "code",
   "execution_count": 66,
   "metadata": {
    "scrolled": true
   },
   "outputs": [
    {
     "data": {
      "text/plain": [
       "time\n",
       "22:30:00    1684\n",
       "01:30:00    1673\n",
       "22:15:00    1652\n",
       "22:45:00    1637\n",
       "22:00:00    1634\n",
       "11:30:00    1622\n",
       "01:15:00    1598\n",
       "23:00:00    1573\n",
       "11:45:00    1570\n",
       "21:45:00    1554\n",
       "23:15:00    1552\n",
       "01:00:00    1549\n",
       "00:15:00    1547\n",
       "02:15:00    1526\n",
       "00:30:00    1525\n",
       "02:00:00    1509\n",
       "01:45:00    1497\n",
       "21:30:00    1492\n",
       "00:45:00    1482\n",
       "23:45:00    1477\n",
       "23:30:00    1456\n",
       "00:00:00    1439\n",
       "02:30:00    1429\n",
       "11:15:00    1404\n",
       "04:45:00    1404\n",
       "02:45:00    1336\n",
       "12:30:00    1334\n",
       "04:30:00    1334\n",
       "21:15:00    1325\n",
       "12:00:00    1304\n",
       "            ... \n",
       "16:15:00     725\n",
       "16:45:00     714\n",
       "16:30:00     700\n",
       "18:00:00     697\n",
       "16:00:00     693\n",
       "17:45:00     691\n",
       "18:15:00     690\n",
       "17:30:00     644\n",
       "10:15:00     641\n",
       "17:00:00     637\n",
       "17:15:00     612\n",
       "05:30:00     545\n",
       "10:00:00     534\n",
       "09:45:00     481\n",
       "05:45:00     457\n",
       "09:30:00     451\n",
       "06:00:00     369\n",
       "09:15:00     343\n",
       "06:15:00     320\n",
       "09:00:00     252\n",
       "06:30:00     235\n",
       "07:15:00     229\n",
       "08:45:00     227\n",
       "08:30:00     221\n",
       "07:00:00     219\n",
       "06:45:00     214\n",
       "07:30:00     192\n",
       "08:00:00     191\n",
       "08:15:00     179\n",
       "07:45:00     175\n",
       "Name: counts, Length: 96, dtype: int64"
      ]
     },
     "execution_count": 66,
     "metadata": {},
     "output_type": "execute_result"
    }
   ],
   "source": [
    "#sort by login counts per 15min intervals\n",
    "intervals.sort_values(ascending=False)"
   ]
  },
  {
   "cell_type": "markdown",
   "metadata": {},
   "source": [
    "### The most frequent time interval for login occurrences is at 22:30:00, followed closely by 1:30:00.\n",
    "### The least frequent time interval is 07:45:00."
   ]
  },
  {
   "cell_type": "code",
   "execution_count": 77,
   "metadata": {
    "scrolled": true
   },
   "outputs": [
    {
     "data": {
      "text/plain": [
       "96"
      ]
     },
     "execution_count": 77,
     "metadata": {},
     "output_type": "execute_result"
    }
   ],
   "source": [
    "len(intervals)"
   ]
  },
  {
   "cell_type": "code",
   "execution_count": 78,
   "metadata": {},
   "outputs": [
    {
     "data": {
      "text/plain": [
       "time\n",
       "00:00:00    1439\n",
       "00:15:00    1547\n",
       "00:30:00    1525\n",
       "00:45:00    1482\n",
       "01:00:00    1549\n",
       "01:15:00    1598\n",
       "01:30:00    1673\n",
       "01:45:00    1497\n",
       "02:00:00    1509\n",
       "02:15:00    1526\n",
       "02:30:00    1429\n",
       "04:45:00    1404\n",
       "11:15:00    1404\n",
       "11:30:00    1622\n",
       "11:45:00    1570\n",
       "21:30:00    1492\n",
       "21:45:00    1554\n",
       "22:00:00    1634\n",
       "22:15:00    1652\n",
       "22:30:00    1684\n",
       "22:45:00    1637\n",
       "23:00:00    1573\n",
       "23:15:00    1552\n",
       "23:30:00    1456\n",
       "23:45:00    1477\n",
       "Name: counts, dtype: int64"
      ]
     },
     "execution_count": 78,
     "metadata": {},
     "output_type": "execute_result"
    }
   ],
   "source": [
    "### save top 30 most frequent time intervals, then sort by interval\n",
    "topinter = intervals.sort_values(ascending=False).head(25)\n",
    "topinter.sort_index()"
   ]
  },
  {
   "cell_type": "markdown",
   "metadata": {},
   "source": [
    "### The daily cycle appears to be highest activity between 21:30 until 2:30 every night, with a small peak again at 4:45, then a \"lunch\" surge\" between 11:15 to 11:45"
   ]
  },
  {
   "cell_type": "code",
   "execution_count": null,
   "metadata": {},
   "outputs": [],
   "source": []
  },
  {
   "cell_type": "code",
   "execution_count": 34,
   "metadata": {},
   "outputs": [],
   "source": [
    "#create Day of the Week column\n",
    "df['day_of_week'] = df['login_time'].dt.weekday_name"
   ]
  },
  {
   "cell_type": "code",
   "execution_count": 37,
   "metadata": {},
   "outputs": [
    {
     "data": {
      "text/plain": [
       "day_of_week\n",
       "Friday       15208\n",
       "Monday        8823\n",
       "Saturday     19377\n",
       "Sunday       18167\n",
       "Thursday     11960\n",
       "Tuesday       9268\n",
       "Wednesday    10339\n",
       "Name: date, dtype: int64"
      ]
     },
     "execution_count": 37,
     "metadata": {},
     "output_type": "execute_result"
    }
   ],
   "source": [
    "#group login instances by Day of the Week\n",
    "dayofweek = df.groupby('day_of_week')['date'].count()\n",
    "dayofweek"
   ]
  },
  {
   "cell_type": "code",
   "execution_count": 38,
   "metadata": {},
   "outputs": [
    {
     "data": {
      "text/plain": [
       "<matplotlib.axes._subplots.AxesSubplot at 0x2054004ec50>"
      ]
     },
     "execution_count": 38,
     "metadata": {},
     "output_type": "execute_result"
    },
    {
     "data": {
      "image/png": "[encoded data removed]",
      "text/plain": [
       "<matplotlib.figure.Figure at 0x2053eda3be0>"
      ]
     },
     "metadata": {},
     "output_type": "display_data"
    }
   ],
   "source": [
    "#plot days of the week by number of logins\n",
    "dayofweek.sort_values(ascending=False).plot(kind='bar')"
   ]
  }
 ],
 "metadata": {
  "kernelspec": {
   "display_name": "Python 3",
   "language": "python",
   "name": "python3"
  },
  "language_info": {
   "codemirror_mode": {
    "name": "ipython",
    "version": 3
   },
   "file_extension": ".py",
   "mimetype": "text/x-python",
   "name": "python",
   "nbconvert_exporter": "python",
   "pygments_lexer": "ipython3",
   "version": "3.6.3"
  }
 },
 "nbformat": 4,
 "nbformat_minor": 2
}
