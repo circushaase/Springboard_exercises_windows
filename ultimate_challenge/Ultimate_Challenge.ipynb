{
 "cells": [
  {
   "cell_type": "markdown",
   "metadata": {},
   "source": [
    "# Ultimate Take-home Challenge"
   ]
  },
  {
   "cell_type": "markdown",
   "metadata": {},
   "source": [
    "## Part 1 ‑ Exploratory data analysis\n",
    "The attached logins.json file contains (simulated) timestamps of user logins in a particular\n",
    "geographic location. Aggregate these login counts based on 15minute\n",
    "time intervals, and\n",
    "visualize and describe the resulting time series of login counts in ways that best characterize the\n",
    "underlying patterns of the demand. Please report/illustrate important features of the demand,\n",
    "such as daily cycles. If there are data quality issues, please report them."
   ]
  },
  {
   "cell_type": "code",
   "execution_count": 1,
   "metadata": {},
   "outputs": [],
   "source": [
    "#import required libraries\n",
    "import pandas as pd\n",
    "import numpy as np\n",
    "from datetime import datetime\n",
    "%matplotlib inline\n",
    "import matplotlib.pyplot as plt\n",
    "\n",
    "#read json file into DataFrame\n",
    "df = pd.read_json('logins.json')"
   ]
  },
  {
   "cell_type": "code",
   "execution_count": 2,
   "metadata": {},
   "outputs": [
    {
     "data": {
      "text/html": [
       "<div>\n",
       "<style scoped>\n",
       "    .dataframe tbody tr th:only-of-type {\n",
       "        vertical-align: middle;\n",
       "    }\n",
       "\n",
       "    .dataframe tbody tr th {\n",
       "        vertical-align: top;\n",
       "    }\n",
       "\n",
       "    .dataframe thead th {\n",
       "        text-align: right;\n",
       "    }\n",
       "</style>\n",
       "<table border=\"1\" class=\"dataframe\">\n",
       "  <thead>\n",
       "    <tr style=\"text-align: right;\">\n",
       "      <th></th>\n",
       "      <th>login_time</th>\n",
       "    </tr>\n",
       "  </thead>\n",
       "  <tbody>\n",
       "    <tr>\n",
       "      <th>0</th>\n",
       "      <td>1970-01-01 20:13:18</td>\n",
       "    </tr>\n",
       "    <tr>\n",
       "      <th>1</th>\n",
       "      <td>1970-01-01 20:16:10</td>\n",
       "    </tr>\n",
       "    <tr>\n",
       "      <th>2</th>\n",
       "      <td>1970-01-01 20:16:37</td>\n",
       "    </tr>\n",
       "    <tr>\n",
       "      <th>3</th>\n",
       "      <td>1970-01-01 20:16:36</td>\n",
       "    </tr>\n",
       "    <tr>\n",
       "      <th>4</th>\n",
       "      <td>1970-01-01 20:26:21</td>\n",
       "    </tr>\n",
       "  </tbody>\n",
       "</table>\n",
       "</div>"
      ],
      "text/plain": [
       "           login_time\n",
       "0 1970-01-01 20:13:18\n",
       "1 1970-01-01 20:16:10\n",
       "2 1970-01-01 20:16:37\n",
       "3 1970-01-01 20:16:36\n",
       "4 1970-01-01 20:26:21"
      ]
     },
     "execution_count": 2,
     "metadata": {},
     "output_type": "execute_result"
    }
   ],
   "source": [
    "#show first 5 rows\n",
    "df.head()"
   ]
  },
  {
   "cell_type": "code",
   "execution_count": 3,
   "metadata": {},
   "outputs": [
    {
     "name": "stdout",
     "output_type": "stream",
     "text": [
      "<class 'pandas.core.frame.DataFrame'>\n",
      "RangeIndex: 93142 entries, 0 to 93141\n",
      "Data columns (total 1 columns):\n",
      "login_time    93142 non-null datetime64[ns]\n",
      "dtypes: datetime64[ns](1)\n",
      "memory usage: 727.8 KB\n"
     ]
    }
   ],
   "source": [
    "df.info()"
   ]
  },
  {
   "cell_type": "code",
   "execution_count": 4,
   "metadata": {},
   "outputs": [],
   "source": [
    "#create \"date\" column\n",
    "df['date'] = df['login_time'].dt.date"
   ]
  },
  {
   "cell_type": "code",
   "execution_count": 5,
   "metadata": {},
   "outputs": [],
   "source": [
    "#create \"time\" column\n",
    "df['time'] = df['login_time'].dt.time"
   ]
  },
  {
   "cell_type": "code",
   "execution_count": 6,
   "metadata": {},
   "outputs": [
    {
     "data": {
      "text/html": [
       "<div>\n",
       "<style scoped>\n",
       "    .dataframe tbody tr th:only-of-type {\n",
       "        vertical-align: middle;\n",
       "    }\n",
       "\n",
       "    .dataframe tbody tr th {\n",
       "        vertical-align: top;\n",
       "    }\n",
       "\n",
       "    .dataframe thead th {\n",
       "        text-align: right;\n",
       "    }\n",
       "</style>\n",
       "<table border=\"1\" class=\"dataframe\">\n",
       "  <thead>\n",
       "    <tr style=\"text-align: right;\">\n",
       "      <th></th>\n",
       "      <th>login_time</th>\n",
       "      <th>date</th>\n",
       "      <th>time</th>\n",
       "    </tr>\n",
       "    <tr>\n",
       "      <th>login_time</th>\n",
       "      <th></th>\n",
       "      <th></th>\n",
       "      <th></th>\n",
       "    </tr>\n",
       "  </thead>\n",
       "  <tbody>\n",
       "    <tr>\n",
       "      <th>1970-01-01 20:13:18</th>\n",
       "      <td>1970-01-01 20:13:18</td>\n",
       "      <td>1970-01-01</td>\n",
       "      <td>20:13:18</td>\n",
       "    </tr>\n",
       "    <tr>\n",
       "      <th>1970-01-01 20:16:10</th>\n",
       "      <td>1970-01-01 20:16:10</td>\n",
       "      <td>1970-01-01</td>\n",
       "      <td>20:16:10</td>\n",
       "    </tr>\n",
       "    <tr>\n",
       "      <th>1970-01-01 20:16:37</th>\n",
       "      <td>1970-01-01 20:16:37</td>\n",
       "      <td>1970-01-01</td>\n",
       "      <td>20:16:37</td>\n",
       "    </tr>\n",
       "    <tr>\n",
       "      <th>1970-01-01 20:16:36</th>\n",
       "      <td>1970-01-01 20:16:36</td>\n",
       "      <td>1970-01-01</td>\n",
       "      <td>20:16:36</td>\n",
       "    </tr>\n",
       "    <tr>\n",
       "      <th>1970-01-01 20:26:21</th>\n",
       "      <td>1970-01-01 20:26:21</td>\n",
       "      <td>1970-01-01</td>\n",
       "      <td>20:26:21</td>\n",
       "    </tr>\n",
       "  </tbody>\n",
       "</table>\n",
       "</div>"
      ],
      "text/plain": [
       "                             login_time        date      time\n",
       "login_time                                                   \n",
       "1970-01-01 20:13:18 1970-01-01 20:13:18  1970-01-01  20:13:18\n",
       "1970-01-01 20:16:10 1970-01-01 20:16:10  1970-01-01  20:16:10\n",
       "1970-01-01 20:16:37 1970-01-01 20:16:37  1970-01-01  20:16:37\n",
       "1970-01-01 20:16:36 1970-01-01 20:16:36  1970-01-01  20:16:36\n",
       "1970-01-01 20:26:21 1970-01-01 20:26:21  1970-01-01  20:26:21"
      ]
     },
     "execution_count": 6,
     "metadata": {},
     "output_type": "execute_result"
    }
   ],
   "source": [
    "#make index equal to \"login_time\"\n",
    "df.index = df['login_time']\n",
    "df.head()"
   ]
  },
  {
   "cell_type": "code",
   "execution_count": 7,
   "metadata": {},
   "outputs": [
    {
     "data": {
      "text/plain": [
       "login_time\n",
       "1970-01-01 20:00:00    2\n",
       "1970-01-01 20:15:00    6\n",
       "1970-01-01 20:30:00    9\n",
       "1970-01-01 20:45:00    7\n",
       "1970-01-01 21:00:00    1\n",
       "Freq: 15T, Name: date, dtype: int64"
      ]
     },
     "execution_count": 7,
     "metadata": {},
     "output_type": "execute_result"
    }
   ],
   "source": [
    "#group into 15min intervals\n",
    "groups = df.groupby(pd.Grouper(key='login_time', freq='15min'))['date'].count()\n",
    "groups.head()"
   ]
  },
  {
   "cell_type": "code",
   "execution_count": 8,
   "metadata": {},
   "outputs": [
    {
     "data": {
      "image/png": "[encoded data removed]",
      "text/plain": [
       "<matplotlib.figure.Figure at 0x24c9a616b00>"
      ]
     },
     "metadata": {},
     "output_type": "display_data"
    }
   ],
   "source": [
    "#bar chart of number of logins per 15min interval\n",
    "plt.bar(groups.index, groups)\n",
    "plt.ylabel('Total Logins')\n",
    "plt.xlabel('Login Time')\n",
    "plt.rcParams[\"figure.figsize\"] = [16,9]"
   ]
  },
  {
   "cell_type": "code",
   "execution_count": 9,
   "metadata": {},
   "outputs": [
    {
     "data": {
      "text/plain": [
       "9.5159378831221897"
      ]
     },
     "execution_count": 9,
     "metadata": {},
     "output_type": "execute_result"
    }
   ],
   "source": [
    "groups.mean()"
   ]
  },
  {
   "cell_type": "code",
   "execution_count": 10,
   "metadata": {},
   "outputs": [
    {
     "data": {
      "text/plain": [
       "login_time\n",
       "1970-03-01 04:30:00    73\n",
       "1970-04-04 05:30:00    66\n",
       "1970-04-04 01:30:00    64\n",
       "1970-04-04 01:15:00    63\n",
       "1970-04-01 23:30:00    60\n",
       "1970-04-04 05:00:00    60\n",
       "1970-04-04 05:15:00    59\n",
       "1970-04-04 04:45:00    59\n",
       "1970-04-04 01:45:00    56\n",
       "1970-03-13 22:15:00    55\n",
       "1970-04-04 01:00:00    54\n",
       "1970-03-17 01:30:00    53\n",
       "1970-04-04 00:30:00    53\n",
       "1970-03-29 04:45:00    52\n",
       "1970-03-08 04:45:00    51\n",
       "1970-04-03 22:45:00    50\n",
       "1970-03-29 02:15:00    50\n",
       "1970-04-04 00:45:00    50\n",
       "1970-02-15 04:45:00    50\n",
       "1970-03-28 04:30:00    50\n",
       "Name: date, dtype: int64"
      ]
     },
     "execution_count": 10,
     "metadata": {},
     "output_type": "execute_result"
    }
   ],
   "source": [
    "#sort 15min intervals by counts and show top 20\n",
    "topinstances =groups.sort_values(ascending=False).head(20)\n",
    "topinstances"
   ]
  },
  {
   "cell_type": "code",
   "execution_count": 11,
   "metadata": {
    "scrolled": true
   },
   "outputs": [
    {
     "data": {
      "text/plain": [
       "<matplotlib.axes._subplots.AxesSubplot at 0x24c99960be0>"
      ]
     },
     "execution_count": 11,
     "metadata": {},
     "output_type": "execute_result"
    },
    {
     "data": {
      "image/png": "[encoded data removed]",
      "text/plain": [
       "<matplotlib.figure.Figure at 0x24c99903be0>"
      ]
     },
     "metadata": {},
     "output_type": "display_data"
    }
   ],
   "source": [
    "#plot of time instances with top 20 most logins\n",
    "topinstances.sort_index().plot(kind='bar', figsize=(16, 8))"
   ]
  },
  {
   "cell_type": "code",
   "execution_count": null,
   "metadata": {},
   "outputs": [],
   "source": []
  },
  {
   "cell_type": "code",
   "execution_count": 12,
   "metadata": {},
   "outputs": [],
   "source": [
    "#create dataframe with 15min intervals\n",
    "groupsdf = pd.DataFrame(groups)\n",
    "groupsdf['login'] = groupsdf.index"
   ]
  },
  {
   "cell_type": "code",
   "execution_count": 13,
   "metadata": {},
   "outputs": [],
   "source": [
    "#create column of just time\n",
    "groupsdf['time'] = groupsdf['login'].dt.time"
   ]
  },
  {
   "cell_type": "code",
   "execution_count": 14,
   "metadata": {},
   "outputs": [
    {
     "data": {
      "text/html": [
       "<div>\n",
       "<style scoped>\n",
       "    .dataframe tbody tr th:only-of-type {\n",
       "        vertical-align: middle;\n",
       "    }\n",
       "\n",
       "    .dataframe tbody tr th {\n",
       "        vertical-align: top;\n",
       "    }\n",
       "\n",
       "    .dataframe thead th {\n",
       "        text-align: right;\n",
       "    }\n",
       "</style>\n",
       "<table border=\"1\" class=\"dataframe\">\n",
       "  <thead>\n",
       "    <tr style=\"text-align: right;\">\n",
       "      <th></th>\n",
       "      <th>date</th>\n",
       "      <th>login</th>\n",
       "      <th>time</th>\n",
       "    </tr>\n",
       "    <tr>\n",
       "      <th>login_time</th>\n",
       "      <th></th>\n",
       "      <th></th>\n",
       "      <th></th>\n",
       "    </tr>\n",
       "  </thead>\n",
       "  <tbody>\n",
       "    <tr>\n",
       "      <th>1970-01-01 20:00:00</th>\n",
       "      <td>2</td>\n",
       "      <td>1970-01-01 20:00:00</td>\n",
       "      <td>20:00:00</td>\n",
       "    </tr>\n",
       "    <tr>\n",
       "      <th>1970-01-01 20:15:00</th>\n",
       "      <td>6</td>\n",
       "      <td>1970-01-01 20:15:00</td>\n",
       "      <td>20:15:00</td>\n",
       "    </tr>\n",
       "    <tr>\n",
       "      <th>1970-01-01 20:30:00</th>\n",
       "      <td>9</td>\n",
       "      <td>1970-01-01 20:30:00</td>\n",
       "      <td>20:30:00</td>\n",
       "    </tr>\n",
       "    <tr>\n",
       "      <th>1970-01-01 20:45:00</th>\n",
       "      <td>7</td>\n",
       "      <td>1970-01-01 20:45:00</td>\n",
       "      <td>20:45:00</td>\n",
       "    </tr>\n",
       "    <tr>\n",
       "      <th>1970-01-01 21:00:00</th>\n",
       "      <td>1</td>\n",
       "      <td>1970-01-01 21:00:00</td>\n",
       "      <td>21:00:00</td>\n",
       "    </tr>\n",
       "  </tbody>\n",
       "</table>\n",
       "</div>"
      ],
      "text/plain": [
       "                     date               login      time\n",
       "login_time                                             \n",
       "1970-01-01 20:00:00     2 1970-01-01 20:00:00  20:00:00\n",
       "1970-01-01 20:15:00     6 1970-01-01 20:15:00  20:15:00\n",
       "1970-01-01 20:30:00     9 1970-01-01 20:30:00  20:30:00\n",
       "1970-01-01 20:45:00     7 1970-01-01 20:45:00  20:45:00\n",
       "1970-01-01 21:00:00     1 1970-01-01 21:00:00  21:00:00"
      ]
     },
     "execution_count": 14,
     "metadata": {},
     "output_type": "execute_result"
    }
   ],
   "source": [
    "groupsdf.head()"
   ]
  },
  {
   "cell_type": "code",
   "execution_count": 15,
   "metadata": {},
   "outputs": [],
   "source": [
    "#rename \"date\" column to \"counts\"\n",
    "groupsdf = groupsdf.rename(columns={'date': 'counts'})"
   ]
  },
  {
   "cell_type": "code",
   "execution_count": 16,
   "metadata": {},
   "outputs": [],
   "source": [
    "#groupby 15min interval (dropping the date) and sum the counts for each\n",
    "intervals = groupsdf.groupby('time')['counts'].sum()"
   ]
  },
  {
   "cell_type": "code",
   "execution_count": 17,
   "metadata": {
    "scrolled": true
   },
   "outputs": [
    {
     "data": {
      "text/plain": [
       "time\n",
       "22:30:00    1684\n",
       "01:30:00    1673\n",
       "22:15:00    1652\n",
       "22:45:00    1637\n",
       "22:00:00    1634\n",
       "11:30:00    1622\n",
       "01:15:00    1598\n",
       "23:00:00    1573\n",
       "11:45:00    1570\n",
       "21:45:00    1554\n",
       "23:15:00    1552\n",
       "01:00:00    1549\n",
       "00:15:00    1547\n",
       "02:15:00    1526\n",
       "00:30:00    1525\n",
       "02:00:00    1509\n",
       "01:45:00    1497\n",
       "21:30:00    1492\n",
       "00:45:00    1482\n",
       "23:45:00    1477\n",
       "23:30:00    1456\n",
       "00:00:00    1439\n",
       "02:30:00    1429\n",
       "11:15:00    1404\n",
       "04:45:00    1404\n",
       "02:45:00    1336\n",
       "12:30:00    1334\n",
       "04:30:00    1334\n",
       "21:15:00    1325\n",
       "12:00:00    1304\n",
       "            ... \n",
       "16:15:00     725\n",
       "16:45:00     714\n",
       "16:30:00     700\n",
       "18:00:00     697\n",
       "16:00:00     693\n",
       "17:45:00     691\n",
       "18:15:00     690\n",
       "17:30:00     644\n",
       "10:15:00     641\n",
       "17:00:00     637\n",
       "17:15:00     612\n",
       "05:30:00     545\n",
       "10:00:00     534\n",
       "09:45:00     481\n",
       "05:45:00     457\n",
       "09:30:00     451\n",
       "06:00:00     369\n",
       "09:15:00     343\n",
       "06:15:00     320\n",
       "09:00:00     252\n",
       "06:30:00     235\n",
       "07:15:00     229\n",
       "08:45:00     227\n",
       "08:30:00     221\n",
       "07:00:00     219\n",
       "06:45:00     214\n",
       "07:30:00     192\n",
       "08:00:00     191\n",
       "08:15:00     179\n",
       "07:45:00     175\n",
       "Name: counts, Length: 96, dtype: int64"
      ]
     },
     "execution_count": 17,
     "metadata": {},
     "output_type": "execute_result"
    }
   ],
   "source": [
    "#sort by login counts per 15min intervals\n",
    "intervals.sort_values(ascending=False)"
   ]
  },
  {
   "cell_type": "markdown",
   "metadata": {},
   "source": [
    "### The most frequent time interval for login occurrences is at 22:30:00, followed closely by 1:30:00.\n",
    "### The least frequent time interval is 07:45:00."
   ]
  },
  {
   "cell_type": "code",
   "execution_count": 18,
   "metadata": {},
   "outputs": [
    {
     "data": {
      "text/plain": [
       "time\n",
       "00:00:00    1439\n",
       "00:15:00    1547\n",
       "00:30:00    1525\n",
       "00:45:00    1482\n",
       "01:00:00    1549\n",
       "01:15:00    1598\n",
       "01:30:00    1673\n",
       "01:45:00    1497\n",
       "02:00:00    1509\n",
       "02:15:00    1526\n",
       "02:30:00    1429\n",
       "04:45:00    1404\n",
       "11:15:00    1404\n",
       "11:30:00    1622\n",
       "11:45:00    1570\n",
       "21:30:00    1492\n",
       "21:45:00    1554\n",
       "22:00:00    1634\n",
       "22:15:00    1652\n",
       "22:30:00    1684\n",
       "22:45:00    1637\n",
       "23:00:00    1573\n",
       "23:15:00    1552\n",
       "23:30:00    1456\n",
       "23:45:00    1477\n",
       "Name: counts, dtype: int64"
      ]
     },
     "execution_count": 18,
     "metadata": {},
     "output_type": "execute_result"
    }
   ],
   "source": [
    "# save top 25 most frequent time intervals, then sort by interval\n",
    "topinter = intervals.sort_values(ascending=False).head(25)\n",
    "topinter.sort_index()"
   ]
  },
  {
   "cell_type": "markdown",
   "metadata": {},
   "source": [
    "### The daily cycle appears to have highest activity between 21:30 until 2:30 every night, with a small peak again at 4:45, then a \"lunch\" surge\" between 11:15 to 11:45"
   ]
  },
  {
   "cell_type": "code",
   "execution_count": 19,
   "metadata": {
    "scrolled": true
   },
   "outputs": [
    {
     "data": {
      "text/plain": [
       "<matplotlib.axes._subplots.AxesSubplot at 0x24c99fcc390>"
      ]
     },
     "execution_count": 19,
     "metadata": {},
     "output_type": "execute_result"
    },
    {
     "data": {
      "image/png": "[encoded data removed]",
      "text/plain": [
       "<matplotlib.figure.Figure at 0x24c9bd17160>"
      ]
     },
     "metadata": {},
     "output_type": "display_data"
    }
   ],
   "source": [
    "#visualize daily activity cycle\n",
    "intervals.sort_index().plot(kind='bar', figsize=(16, 8))"
   ]
  },
  {
   "cell_type": "code",
   "execution_count": null,
   "metadata": {},
   "outputs": [],
   "source": []
  },
  {
   "cell_type": "code",
   "execution_count": 20,
   "metadata": {},
   "outputs": [],
   "source": [
    "#create Day of the Week column\n",
    "df['day_of_week'] = df['login_time'].dt.weekday_name"
   ]
  },
  {
   "cell_type": "code",
   "execution_count": 21,
   "metadata": {},
   "outputs": [
    {
     "data": {
      "text/plain": [
       "day_of_week\n",
       "Friday       15208\n",
       "Monday        8823\n",
       "Saturday     19377\n",
       "Sunday       18167\n",
       "Thursday     11960\n",
       "Tuesday       9268\n",
       "Wednesday    10339\n",
       "Name: date, dtype: int64"
      ]
     },
     "execution_count": 21,
     "metadata": {},
     "output_type": "execute_result"
    }
   ],
   "source": [
    "#group login instances by Day of the Week\n",
    "dayofweek = df.groupby('day_of_week')['date'].count()\n",
    "dayofweek"
   ]
  },
  {
   "cell_type": "code",
   "execution_count": 22,
   "metadata": {},
   "outputs": [
    {
     "data": {
      "text/plain": [
       "<matplotlib.axes._subplots.AxesSubplot at 0x24c99d93828>"
      ]
     },
     "execution_count": 22,
     "metadata": {},
     "output_type": "execute_result"
    },
    {
     "data": {
      "image/png": "[encoded data removed]",
      "text/plain": [
       "<matplotlib.figure.Figure at 0x24c99d9ffd0>"
      ]
     },
     "metadata": {},
     "output_type": "display_data"
    }
   ],
   "source": [
    "#plot days of the week by number of logins\n",
    "dayofweek.sort_values(ascending=False).plot(kind='bar')"
   ]
  },
  {
   "cell_type": "markdown",
   "metadata": {},
   "source": [
    "### Activity is highest on weekends"
   ]
  },
  {
   "cell_type": "code",
   "execution_count": null,
   "metadata": {},
   "outputs": [],
   "source": []
  },
  {
   "cell_type": "markdown",
   "metadata": {},
   "source": [
    "## Part 2-  Experiment and metrics design"
   ]
  },
  {
   "cell_type": "markdown",
   "metadata": {},
   "source": [
    "The neighboring cities of Gotham and Metropolis have complementary circadian rhythms: on\n",
    "weekdays, Ultimate Gotham is most active at night, and Ultimate Metropolis is most active\n",
    "during the day. On weekends, there is reasonable activity in both cities.\n",
    "However, a toll bridge, with a two way toll, between the two cities causes driver partners to tend\n",
    "to be exclusive to each city. The Ultimate managers of city operations for the two cities have\n",
    "proposed an experiment to encourage driver partners to be available in both cities by reimbursing all toll costs._\n",
    "\n",
    "***\n",
    "**_1. What would you choose as the key measure of success of this experiment in encouraging driver partners to serve both cities, and why would you choose this metric?_**\n",
    "\n",
    ">The key measure of success in this experiment would be the change in diversity of driver partner’s pick-up locations, which could be measured by the number of rides picked up in the city that is not each driver’s “home” base. This could be measured by comparing location data of ride pick-up for each driver the 30 days previous to the Toll-paying Offer to location data for 30 days after the offer. Determining whether more drivers had pick-ups on either side of the toll bridge, compared to previously, would determine if the experiment was successful in encouraging driver partners to be available in both cities.\n",
    "\n",
    ">If the goal was to generally increase available driver partners in both cities, which the question did not state, examining total number of rides per city or total available drivers before and after the offer would indicate an increase in activity potentially generated by the offer.\n",
    "***\n",
    "\n",
    "**_2. Describe a practical experiment you would design to compare the effectiveness of the\n",
    "proposed change in relation to the key measure of success. Please provide details on:\n",
    "a. how you will implement the experiment\n",
    "b. what statistical test(s) you will conduct to verify the significance of the\n",
    "observation\n",
    "c. how you would interpret the results and provide recommendations to the city\n",
    "operations team along with any caveats._**\n",
    "\n",
    "> I would design an experiment in a A/B Testing fashion, or a between-subject design. First I would look at overall behavior of drivers in both cities, focusing primarily on volume of rides and pick-up locations. From there I would take a random subset of drivers, the size being  dependent upon the experiment’s budget, and offer to reimburse the bridge toll costs. I would make sure that this subset was properly representative of the whole set of drivers, particular in typical pick-up locations and daily activity. \n",
    "\n",
    ">I would obtain activity data for the previous 30 days for all drivers, both the experimental group and control group. Then I would compare this data to the 30 days following the reimbursement offer. \n",
    "\n",
    ">I would collect data on how many times each driver crossed the bridge, total number of rides per driver, and total rides per driver per city. A driver's \"home\" city would be assessed by the location data of the data previous to the reimbursement offer. In my analysis I would also take care to see if there was any difference in the experimental group between “high” activity drivers and lower activity drivers.\n",
    "\n",
    ">First I would calculate if there was an overall increase in number of total rides in the experimental group vs. the control group before and after the offer. I would test the statistical significance of the difference with a Paired T-test, after verifying the normalcy of the distributions. The Null Hypothesis in this case, that the Paired T-test is attempting to disprove, is that there is no change between before/after in the experimental group, or at least the change is no different than that observed in the control group.\n",
    "\n",
    ">To look more specifically if there was any effect on the shifting of drivers to the other city, I would assess the percentage of rides in each city for each driver, find the difference from the previous month, and average by group, as well as by subgroup (driver activity level). Then I would again use a Paired T-test to determine the statistical significance of the difference of the means before and after the reimbursement offer. The Null Hypothesis here again is that there is no difference between the experimental and control groups.\n",
    "\n",
    ">The strength of the experimental effect would be assessed based on the p-values from the Paired T-tests. However because a signficant p-value does not indicate a large Effect Size, instead of using the 95% or even 99% confidence interval of p-values to determine efficacy of the program, a better metric would be to compare the aggreate cost of tolls vs how much more revenue was generated by drivers that received the offer from rides in their non-home city. I could build some models to show how much total revenue could be generated by offering the reimbursement to all drivers in both cities. \n",
    "\n",
    ">Before full implementation, I would recommend the company expand the experiment, either by increasing the length of the study (perhaps to 6 months) or by expanding the experimental group size. If the expanded experiments showed promising results, then I would encourage full implementation, otherwise I would make other suggestions to approach the problem, such as put the cost of the tolls on the rider rather than the driver. "
   ]
  },
  {
   "cell_type": "markdown",
   "metadata": {},
   "source": [
    "## Part 3 ‑ Predictive modeling\n",
    "Ultimate is interested in predicting rider retention. To help explore this question, we have\n",
    "provided a sample dataset of a cohort of users who signed up for an Ultimate account in\n",
    "January 2014. The data was pulled several months later; we consider a user retained if they\n",
    "were “active” (i.e. took a trip) in the preceding 30 days.\n",
    "We would like you to use this data set to help understand what factors are the best predictors\n",
    "for retention, and offer suggestions to operationalize those insights to help Ultimate.\n",
    "The data is in the attached file ultimate_data_challenge.json. See below for a detailed\n",
    "description of the dataset. Please include any code you wrote for the analysis and delete the\n",
    "dataset when you have finished with the challenge.\n",
    "1. Perform any cleaning, exploratory analysis, and/or visualizations to use the provided\n",
    "data for this analysis (a few sentences/plots describing your approach will suffice). What\n",
    "fraction of the observed users were retained?\n",
    "2. Build a predictive model to help Ultimate determine whether or not a user will be active\n",
    "in their 6th month on the system. Discuss why you chose your approach, what\n",
    "alternatives you considered, and any concerns you have. How valid is your model?\n",
    "Include any key indicators of model performance.\n",
    "3. Briefly discuss how Ultimate might leverage the insights gained from the model to\n",
    "improve its longterm\n",
    "rider retention (again, a few sentences will suffice).\n",
    "\n",
    "Data description\n",
    "-  city: city this user signed up in\n",
    "-  phone: primary device for this user\n",
    "-  signup_date: date of account registration; in the form ‘YYYY MM DD’\n",
    "-  last_trip_date: the last time this user completed a trip; in the form ‘YYYY MM DD’\n",
    "-  avg_dist: the average distance in miles per trip taken in the first 30 days after signup\n",
    "-  avg_rating_by_driver: the rider’s average rating over all of their trips\n",
    "-  avg_rating_of_driver: the rider’s average rating of their drivers over all of their trips\n",
    "-  surge_pct: the percent of trips taken with surge multiplier > 1\n",
    "-  avg_surge: The average surge multiplier over all of this user’s trips\n",
    "-  trips_in_first_30_days: the number of trips this user took in the first 30 days after signing up\n",
    "-  ultimate_black_user: TRUE if the user took an Ultimate Black in their first 30 days; FALSE otherwise\n",
    "-  weekday_pct: the percent of the user’s trips occurring during a weekday"
   ]
  },
  {
   "cell_type": "code",
   "execution_count": 214,
   "metadata": {},
   "outputs": [],
   "source": [
    "#load the data\n",
    "import json \n",
    "# from pandas.io.json import json_normalize\n",
    "\n",
    "file=open('ultimate_data_challenge.json', 'r')\n",
    "file_content=file.read()\n",
    "file.close()\n",
    "data=json.loads(file_content)\n",
    "\n",
    "users=pd.DataFrame(data) "
   ]
  },
  {
   "cell_type": "code",
   "execution_count": 215,
   "metadata": {
    "scrolled": false
   },
   "outputs": [
    {
     "name": "stdout",
     "output_type": "stream",
     "text": [
      "<class 'pandas.core.frame.DataFrame'>\n",
      "RangeIndex: 50000 entries, 0 to 49999\n",
      "Data columns (total 12 columns):\n",
      "avg_dist                  50000 non-null float64\n",
      "avg_rating_by_driver      49799 non-null float64\n",
      "avg_rating_of_driver      41878 non-null float64\n",
      "avg_surge                 50000 non-null float64\n",
      "city                      50000 non-null object\n",
      "last_trip_date            50000 non-null object\n",
      "phone                     49604 non-null object\n",
      "signup_date               50000 non-null object\n",
      "surge_pct                 50000 non-null float64\n",
      "trips_in_first_30_days    50000 non-null int64\n",
      "ultimate_black_user       50000 non-null bool\n",
      "weekday_pct               50000 non-null float64\n",
      "dtypes: bool(1), float64(6), int64(1), object(4)\n",
      "memory usage: 4.2+ MB\n"
     ]
    }
   ],
   "source": [
    "users.info()"
   ]
  },
  {
   "cell_type": "code",
   "execution_count": 216,
   "metadata": {},
   "outputs": [],
   "source": [
    "users['last_trip_date'] = pd.to_datetime(users['last_trip_date'])"
   ]
  },
  {
   "cell_type": "code",
   "execution_count": 217,
   "metadata": {},
   "outputs": [],
   "source": [
    "users['signup_date'] = pd.to_datetime(users['signup_date'])"
   ]
  },
  {
   "cell_type": "markdown",
   "metadata": {},
   "source": [
    "### Columns with NaN values: \"avg_rating_by_driver\", \"avg_rating_of_driver\", \"phone\"\n",
    "####  \"phone\" cannot be replaced with a mean/median and are <1% of the data, so they can simply be dropped\n",
    "#### \"avg_rating_of_driver\" has too many NaN values (16%) to simply drop\n",
    "### Density plots the numeric features will determine whether it is better to fill NaN values with the mean or median"
   ]
  },
  {
   "cell_type": "code",
   "execution_count": 218,
   "metadata": {},
   "outputs": [
    {
     "data": {
      "image/png": "[encoded data removed]",
      "text/plain": [
       "<matplotlib.figure.Figure at 0x25ca8ae6828>"
      ]
     },
     "metadata": {},
     "output_type": "display_data"
    }
   ],
   "source": [
    "## Density plot for avg_rating_by_driver\n",
    "fig, ax = plt.subplots(figsize=(15,10))\n",
    "u = pd.Series(users['avg_rating_by_driver'])\n",
    "u.plot(kind='kde')\n",
    "\n",
    "## Density plot for avg_rating_of_driver\n",
    "d = pd.Series(users['avg_rating_of_driver'])\n",
    "d.plot(kind='kde')\n",
    "ax.set_title(' Density plot for average rating by and of drivers')\n",
    "\n",
    "plt.show()"
   ]
  },
  {
   "cell_type": "markdown",
   "metadata": {},
   "source": [
    "### The distribution for these features is not normal, as they have a left skew, so median is the best choice for replacing NaN values"
   ]
  },
  {
   "cell_type": "code",
   "execution_count": 219,
   "metadata": {},
   "outputs": [],
   "source": [
    "#Fill NaN values in numeric columns (avg_rating_by_driver & avg_rating_of_driver) with the median of those columns\n",
    "users = users.fillna(users.median())"
   ]
  },
  {
   "cell_type": "code",
   "execution_count": 220,
   "metadata": {},
   "outputs": [],
   "source": [
    "#drop remaining NaN values (only left in 'phone' column)\n",
    "users = users.dropna()"
   ]
  },
  {
   "cell_type": "code",
   "execution_count": 221,
   "metadata": {},
   "outputs": [
    {
     "data": {
      "text/plain": [
       "avg_dist                  False\n",
       "avg_rating_by_driver      False\n",
       "avg_rating_of_driver      False\n",
       "avg_surge                 False\n",
       "city                      False\n",
       "last_trip_date            False\n",
       "phone                     False\n",
       "signup_date               False\n",
       "surge_pct                 False\n",
       "trips_in_first_30_days    False\n",
       "ultimate_black_user       False\n",
       "weekday_pct               False\n",
       "dtype: bool"
      ]
     },
     "execution_count": 221,
     "metadata": {},
     "output_type": "execute_result"
    }
   ],
   "source": [
    "users.isnull().any()"
   ]
  },
  {
   "cell_type": "markdown",
   "metadata": {},
   "source": [
    "## Determine retention rate:"
   ]
  },
  {
   "cell_type": "code",
   "execution_count": 222,
   "metadata": {
    "scrolled": true
   },
   "outputs": [
    {
     "name": "stdout",
     "output_type": "stream",
     "text": [
      "2014-01-01 00:00:00\n",
      "2014-01-31 00:00:00\n"
     ]
    }
   ],
   "source": [
    "# show earliest and latest dates users signed up\n",
    "print (users.signup_date.min())\n",
    "print (users.signup_date.max())"
   ]
  },
  {
   "cell_type": "code",
   "execution_count": 223,
   "metadata": {},
   "outputs": [
    {
     "data": {
      "text/plain": [
       "2014    49604\n",
       "Name: signup_date, dtype: int64"
      ]
     },
     "execution_count": 223,
     "metadata": {},
     "output_type": "execute_result"
    }
   ],
   "source": [
    "#double check \"year\" of all signup dates\n",
    "pd.DatetimeIndex(users['signup_date']).year.value_counts()"
   ]
  },
  {
   "cell_type": "code",
   "execution_count": 224,
   "metadata": {},
   "outputs": [
    {
     "data": {
      "text/plain": [
       "1    49604\n",
       "Name: signup_date, dtype: int64"
      ]
     },
     "execution_count": 224,
     "metadata": {},
     "output_type": "execute_result"
    }
   ],
   "source": [
    "#double check \"month\" of all signup dates\n",
    "pd.DatetimeIndex(users['signup_date']).month.value_counts()"
   ]
  },
  {
   "cell_type": "markdown",
   "metadata": {},
   "source": [
    "### All users in this dataset signed up in January 2014"
   ]
  },
  {
   "cell_type": "code",
   "execution_count": 225,
   "metadata": {},
   "outputs": [
    {
     "name": "stdout",
     "output_type": "stream",
     "text": [
      "2014-01-01 00:00:00\n",
      "2014-07-01 00:00:00\n"
     ]
    }
   ],
   "source": [
    "# show earliest and latest dates users last tooka a trip\n",
    "print (users.last_trip_date.min())\n",
    "print (users.last_trip_date.max())"
   ]
  },
  {
   "cell_type": "markdown",
   "metadata": {},
   "source": [
    "### Last-trip-dates range from Jan 1, 2014 to July 1, 2014"
   ]
  },
  {
   "cell_type": "code",
   "execution_count": 226,
   "metadata": {},
   "outputs": [],
   "source": [
    "#create column of \"retained\" users that took rides in June (after May 31)\n",
    "users['retained'] = np.where(users.last_trip_date > '2014-05-31', 1, 0)  "
   ]
  },
  {
   "cell_type": "code",
   "execution_count": 227,
   "metadata": {
    "scrolled": true
   },
   "outputs": [
    {
     "data": {
      "text/plain": [
       "0.37640109668575117"
      ]
     },
     "execution_count": 227,
     "metadata": {},
     "output_type": "execute_result"
    }
   ],
   "source": [
    "#number of retained users divided by total users\n",
    "len(users[users.retained==1])/len(users.retained)"
   ]
  },
  {
   "cell_type": "markdown",
   "metadata": {},
   "source": [
    "## 37.64% of users that signed up in January 2014 were retained (still active in the 6th month)."
   ]
  },
  {
   "cell_type": "code",
   "execution_count": null,
   "metadata": {},
   "outputs": [],
   "source": []
  },
  {
   "cell_type": "code",
   "execution_count": 228,
   "metadata": {},
   "outputs": [],
   "source": [
    "#create new data frame for modeling\n",
    "use_pdct = users"
   ]
  },
  {
   "cell_type": "code",
   "execution_count": 229,
   "metadata": {},
   "outputs": [],
   "source": [
    "#create numeric labels for categorical features\n",
    "from sklearn.preprocessing import LabelEncoder\n",
    "numeric = LabelEncoder()\n",
    "\n",
    "use_pdct['city']=numeric.fit_transform(users['city'].astype('str'))\n",
    "use_pdct['phone']=numeric.fit_transform(users['phone'].astype('str'))\n",
    "use_pdct['ultimate_black_user']= numeric.fit_transform(users['ultimate_black_user'].astype('str'))"
   ]
  },
  {
   "cell_type": "code",
   "execution_count": 230,
   "metadata": {},
   "outputs": [],
   "source": [
    "#dates can now be dropped after identifying retained users\n",
    "use_pdct = use_pdct.drop('last_trip_date', axis=1)\n",
    "use_pdct = use_pdct.drop('signup_date', axis=1)"
   ]
  },
  {
   "cell_type": "code",
   "execution_count": 231,
   "metadata": {},
   "outputs": [
    {
     "data": {
      "text/html": [
       "<div>\n",
       "<style scoped>\n",
       "    .dataframe tbody tr th:only-of-type {\n",
       "        vertical-align: middle;\n",
       "    }\n",
       "\n",
       "    .dataframe tbody tr th {\n",
       "        vertical-align: top;\n",
       "    }\n",
       "\n",
       "    .dataframe thead th {\n",
       "        text-align: right;\n",
       "    }\n",
       "</style>\n",
       "<table border=\"1\" class=\"dataframe\">\n",
       "  <thead>\n",
       "    <tr style=\"text-align: right;\">\n",
       "      <th></th>\n",
       "      <th>avg_dist</th>\n",
       "      <th>avg_rating_by_driver</th>\n",
       "      <th>avg_rating_of_driver</th>\n",
       "      <th>avg_surge</th>\n",
       "      <th>city</th>\n",
       "      <th>phone</th>\n",
       "      <th>surge_pct</th>\n",
       "      <th>trips_in_first_30_days</th>\n",
       "      <th>ultimate_black_user</th>\n",
       "      <th>weekday_pct</th>\n",
       "      <th>retained</th>\n",
       "    </tr>\n",
       "  </thead>\n",
       "  <tbody>\n",
       "    <tr>\n",
       "      <th>0</th>\n",
       "      <td>3.67</td>\n",
       "      <td>5.0</td>\n",
       "      <td>4.7</td>\n",
       "      <td>1.10</td>\n",
       "      <td>1</td>\n",
       "      <td>1</td>\n",
       "      <td>15.4</td>\n",
       "      <td>4</td>\n",
       "      <td>1</td>\n",
       "      <td>46.2</td>\n",
       "      <td>1</td>\n",
       "    </tr>\n",
       "    <tr>\n",
       "      <th>1</th>\n",
       "      <td>8.26</td>\n",
       "      <td>5.0</td>\n",
       "      <td>5.0</td>\n",
       "      <td>1.00</td>\n",
       "      <td>0</td>\n",
       "      <td>0</td>\n",
       "      <td>0.0</td>\n",
       "      <td>0</td>\n",
       "      <td>0</td>\n",
       "      <td>50.0</td>\n",
       "      <td>0</td>\n",
       "    </tr>\n",
       "    <tr>\n",
       "      <th>2</th>\n",
       "      <td>0.77</td>\n",
       "      <td>5.0</td>\n",
       "      <td>4.3</td>\n",
       "      <td>1.00</td>\n",
       "      <td>0</td>\n",
       "      <td>1</td>\n",
       "      <td>0.0</td>\n",
       "      <td>3</td>\n",
       "      <td>0</td>\n",
       "      <td>100.0</td>\n",
       "      <td>0</td>\n",
       "    </tr>\n",
       "    <tr>\n",
       "      <th>3</th>\n",
       "      <td>2.36</td>\n",
       "      <td>4.9</td>\n",
       "      <td>4.6</td>\n",
       "      <td>1.14</td>\n",
       "      <td>1</td>\n",
       "      <td>1</td>\n",
       "      <td>20.0</td>\n",
       "      <td>9</td>\n",
       "      <td>1</td>\n",
       "      <td>80.0</td>\n",
       "      <td>1</td>\n",
       "    </tr>\n",
       "    <tr>\n",
       "      <th>4</th>\n",
       "      <td>3.13</td>\n",
       "      <td>4.9</td>\n",
       "      <td>4.4</td>\n",
       "      <td>1.19</td>\n",
       "      <td>2</td>\n",
       "      <td>0</td>\n",
       "      <td>11.8</td>\n",
       "      <td>14</td>\n",
       "      <td>0</td>\n",
       "      <td>82.4</td>\n",
       "      <td>0</td>\n",
       "    </tr>\n",
       "  </tbody>\n",
       "</table>\n",
       "</div>"
      ],
      "text/plain": [
       "   avg_dist  avg_rating_by_driver  avg_rating_of_driver  avg_surge  city  \\\n",
       "0      3.67                   5.0                   4.7       1.10     1   \n",
       "1      8.26                   5.0                   5.0       1.00     0   \n",
       "2      0.77                   5.0                   4.3       1.00     0   \n",
       "3      2.36                   4.9                   4.6       1.14     1   \n",
       "4      3.13                   4.9                   4.4       1.19     2   \n",
       "\n",
       "   phone  surge_pct  trips_in_first_30_days  ultimate_black_user  weekday_pct  \\\n",
       "0      1       15.4                       4                    1         46.2   \n",
       "1      0        0.0                       0                    0         50.0   \n",
       "2      1        0.0                       3                    0        100.0   \n",
       "3      1       20.0                       9                    1         80.0   \n",
       "4      0       11.8                      14                    0         82.4   \n",
       "\n",
       "   retained  \n",
       "0         1  \n",
       "1         0  \n",
       "2         0  \n",
       "3         1  \n",
       "4         0  "
      ]
     },
     "execution_count": 231,
     "metadata": {},
     "output_type": "execute_result"
    }
   ],
   "source": [
    "use_pdct.head()"
   ]
  },
  {
   "cell_type": "code",
   "execution_count": 232,
   "metadata": {
    "scrolled": false
   },
   "outputs": [
    {
     "data": {
      "text/plain": [
       "NormaltestResult(statistic=array([ 37749.69816618,  42809.31926628,  29141.74291622,  62094.02920255,\n",
       "          568.4647417 ,  96429.10022276,  32110.77449292,  52749.74422225,\n",
       "         1955.12468105,  32018.77637084,   1919.63702374]), pvalue=array([  0.00000000e+000,   0.00000000e+000,   0.00000000e+000,\n",
       "         0.00000000e+000,   3.62618337e-124,   0.00000000e+000,\n",
       "         0.00000000e+000,   0.00000000e+000,   0.00000000e+000,\n",
       "         0.00000000e+000,   0.00000000e+000]))"
      ]
     },
     "execution_count": 232,
     "metadata": {},
     "output_type": "execute_result"
    }
   ],
   "source": [
    "#check normalcy of the variables\n",
    "import scipy\n",
    "scipy.stats.normaltest(use_pdct)"
   ]
  },
  {
   "cell_type": "markdown",
   "metadata": {},
   "source": [
    "The p-values for this test are all 0 (or essentially 0), meaning that none of the variables have normal distributions, so all tests should be non-parametric (so Spearman's R is used to calculate correlation coefficients)"
   ]
  },
  {
   "cell_type": "code",
   "execution_count": 233,
   "metadata": {
    "scrolled": true
   },
   "outputs": [
    {
     "data": {
      "text/plain": [
       "<matplotlib.axes._subplots.AxesSubplot at 0x25ca34b96a0>"
      ]
     },
     "execution_count": 233,
     "metadata": {},
     "output_type": "execute_result"
    },
    {
     "data": {
      "image/png": "[encoded data removed]",
      "text/plain": [
       "<matplotlib.figure.Figure at 0x25ca7e55940>"
      ]
     },
     "metadata": {},
     "output_type": "display_data"
    }
   ],
   "source": [
    "#create 'heatmap' of correlations between the variables\n",
    "import seaborn as sns\n",
    "corrmat= use_pdct.corr(method='spearman')\n",
    "sns.heatmap(corrmat, square=True)"
   ]
  },
  {
   "cell_type": "markdown",
   "metadata": {},
   "source": [
    " The only features that have a strong correlation are \"ave_surge\" and \"surge_pct\" which suggests that these features are colinear and may cause overfitting in a model if both are included. "
   ]
  },
  {
   "cell_type": "code",
   "execution_count": 234,
   "metadata": {
    "scrolled": true
   },
   "outputs": [
    {
     "data": {
      "text/html": [
       "<div>\n",
       "<style scoped>\n",
       "    .dataframe tbody tr th:only-of-type {\n",
       "        vertical-align: middle;\n",
       "    }\n",
       "\n",
       "    .dataframe tbody tr th {\n",
       "        vertical-align: top;\n",
       "    }\n",
       "\n",
       "    .dataframe thead th {\n",
       "        text-align: right;\n",
       "    }\n",
       "</style>\n",
       "<table border=\"1\" class=\"dataframe\">\n",
       "  <thead>\n",
       "    <tr style=\"text-align: right;\">\n",
       "      <th></th>\n",
       "      <th>surge_pct</th>\n",
       "      <th>avg_surge</th>\n",
       "    </tr>\n",
       "    <tr>\n",
       "      <th>retained</th>\n",
       "      <th></th>\n",
       "      <th></th>\n",
       "    </tr>\n",
       "  </thead>\n",
       "  <tbody>\n",
       "    <tr>\n",
       "      <th>0</th>\n",
       "      <td>8.700091</td>\n",
       "      <td>1.075689</td>\n",
       "    </tr>\n",
       "    <tr>\n",
       "      <th>1</th>\n",
       "      <td>9.165615</td>\n",
       "      <td>1.073834</td>\n",
       "    </tr>\n",
       "  </tbody>\n",
       "</table>\n",
       "</div>"
      ],
      "text/plain": [
       "          surge_pct  avg_surge\n",
       "retained                      \n",
       "0          8.700091   1.075689\n",
       "1          9.165615   1.073834"
      ]
     },
     "execution_count": 234,
     "metadata": {},
     "output_type": "execute_result"
    }
   ],
   "source": [
    "#show mean surge_pct and avg_surge for retained users vs un-retained\n",
    "use_pdct.groupby('retained')['surge_pct','avg_surge'].mean()"
   ]
  },
  {
   "cell_type": "markdown",
   "metadata": {},
   "source": [
    " It seems as though there is not much significant difference between \"retained\" and \"not-retained\" users when it comes to both \"surge_pct\" and \"avg_surge\". While both features may be removed for final modeling, for now, for the sake of avoiding colinearity, \"avg_surge\" will be removed since there is a <1% difference between the two groups."
   ]
  },
  {
   "cell_type": "code",
   "execution_count": 235,
   "metadata": {},
   "outputs": [],
   "source": [
    "use_pdct = use_pdct.drop('avg_surge', axis=1)"
   ]
  },
  {
   "cell_type": "code",
   "execution_count": null,
   "metadata": {},
   "outputs": [],
   "source": []
  },
  {
   "cell_type": "markdown",
   "metadata": {},
   "source": [
    "## Model Buildiing"
   ]
  },
  {
   "cell_type": "markdown",
   "metadata": {},
   "source": [
    "Because the target variable is categorical/binary, the best option for modeling will be a classification algorithm. There are many options for supervised classifiers, so to see which models will be most likely to perform well with the data, the various options will be quickly tested."
   ]
  },
  {
   "cell_type": "code",
   "execution_count": 182,
   "metadata": {},
   "outputs": [],
   "source": [
    "from sklearn import model_selection\n",
    "from sklearn.model_selection import GridSearchCV\n",
    "from sklearn.model_selection import KFold\n",
    "import sklearn.metrics\n",
    "from sklearn.model_selection import train_test_split\n",
    "\n",
    "#Supervised Learning Regressor algorithms\n",
    "from sklearn.neural_network import MLPClassifier\n",
    "from sklearn.neighbors import KNeighborsClassifier\n",
    "from sklearn.svm import SVC\n",
    "from sklearn.gaussian_process import GaussianProcessClassifier\n",
    "from sklearn.gaussian_process.kernels import RBF\n",
    "from sklearn.tree import DecisionTreeClassifier\n",
    "from sklearn.ensemble import RandomForestClassifier, AdaBoostClassifier\n",
    "from sklearn.naive_bayes import GaussianNB\n",
    "from sklearn.discriminant_analysis import QuadraticDiscriminantAnalysis\n",
    "from sklearn.linear_model import LogisticRegression\n",
    "from sklearn.discriminant_analysis import LinearDiscriminantAnalysis"
   ]
  },
  {
   "cell_type": "code",
   "execution_count": 103,
   "metadata": {},
   "outputs": [],
   "source": [
    "#create list of possible algorithms\n",
    "models = []\n",
    "models.append(('KNeighbor', KNeighborsClassifier(3)))\n",
    "models.append(('Decision Tree', DecisionTreeClassifier(max_depth=5)))\n",
    "models.append(('RF',RandomForestClassifier(n_jobs = -1, max_depth=5, n_estimators=10, max_features=1)))\n",
    "models.append(('AdaBoost', AdaBoostClassifier()))\n",
    "models.append(('Naive Bayes', GaussianNB()))\n",
    "models.append(('QDA', QuadraticDiscriminantAnalysis()))\n",
    "models.append(('LR', LogisticRegression()))\n",
    "models.append(('LDA', LinearDiscriminantAnalysis()))\n",
    "models.append(('Neural Net', MLPClassifier(alpha=1)))\n",
    "\n",
    "# 'Gaussian Process', 'RBF SVM' and 'Linear SVM' algorithms were found to be way too computationally expensive "
   ]
  },
  {
   "cell_type": "code",
   "execution_count": 240,
   "metadata": {},
   "outputs": [],
   "source": [
    "#create a function to evaluate each model\n",
    "def run_models(x,y):\n",
    "    results = []\n",
    "    names = []\n",
    "\n",
    "    for name, model in models:\n",
    "        kfold = model_selection.KFold(n_splits=10, shuffle = True, random_state=11)\n",
    "        cv_results = model_selection.cross_val_score(model, x, y, cv=kfold, scoring='accuracy')\n",
    "        results.append(cv_results)\n",
    "        names.append(name)\n",
    "        msg = \"%s: %f (%f)\" % (name, cv_results.mean(), cv_results.std())\n",
    "        print(msg)"
   ]
  },
  {
   "cell_type": "code",
   "execution_count": 241,
   "metadata": {},
   "outputs": [],
   "source": [
    "#separating target variable (\"retained\")\n",
    "Y = use_pdct.retained\n",
    "X = use_pdct.drop('retained', axis=1)"
   ]
  },
  {
   "cell_type": "code",
   "execution_count": 242,
   "metadata": {},
   "outputs": [],
   "source": [
    "#break data into training and testing sets\n",
    "xtrain, xtest, ytrain, ytest = train_test_split(X.values, Y.values, test_size = 0.3, random_state = 10)"
   ]
  },
  {
   "cell_type": "code",
   "execution_count": 243,
   "metadata": {
    "scrolled": false
   },
   "outputs": [
    {
     "name": "stdout",
     "output_type": "stream",
     "text": [
      "KNeighbor: 0.731266 (0.006601)\n",
      "Decision Tree: 0.750648 (0.006814)\n",
      "RF: 0.747480 (0.006788)\n",
      "AdaBoost: 0.779823 (0.005452)\n",
      "Naive Bayes: 0.711221 (0.005365)\n",
      "QDA: 0.718392 (0.005737)\n",
      "LR: 0.693652 (0.005170)\n",
      "LDA: 0.693220 (0.006027)\n",
      "Neural Net: 0.741835 (0.008052)\n"
     ]
    }
   ],
   "source": [
    "run_models(xtrain,ytrain)"
   ]
  },
  {
   "cell_type": "code",
   "execution_count": 244,
   "metadata": {
    "scrolled": false
   },
   "outputs": [
    {
     "name": "stdout",
     "output_type": "stream",
     "text": [
      "KNeighbor: 0.719459 (0.013230)\n",
      "Decision Tree: 0.746340 (0.010511)\n",
      "RF: 0.750303 (0.010965)\n",
      "AdaBoost: 0.780205 (0.008861)\n",
      "Naive Bayes: 0.717914 (0.015169)\n",
      "QDA: 0.720669 (0.014226)\n",
      "LR: 0.696748 (0.009933)\n",
      "LDA: 0.694933 (0.010288)\n",
      "Neural Net: 0.734982 (0.020226)\n"
     ]
    }
   ],
   "source": [
    "run_models(xtest,ytest)"
   ]
  },
  {
   "cell_type": "markdown",
   "metadata": {},
   "source": [
    "#### AdaBoost Classifier performs the best with both training and testing data. "
   ]
  },
  {
   "cell_type": "code",
   "execution_count": 245,
   "metadata": {},
   "outputs": [
    {
     "name": "stdout",
     "output_type": "stream",
     "text": [
      "AdaBoostClassifier(algorithm='SAMME.R', base_estimator=None,\n",
      "          learning_rate=1.0, n_estimators=1000, random_state=None)\n",
      "0.784920223489\n"
     ]
    }
   ],
   "source": [
    "param_grid = {'n_estimators': [10, 50,100,500, 1000, 1500]}\n",
    "kfold = model_selection.KFold(n_splits=10, shuffle = True, random_state=11)\n",
    "ada= AdaBoostClassifier()\n",
    "clf = GridSearchCV(ada, param_grid, n_jobs =-1, cv = kfold, scoring='accuracy')\n",
    "clf.fit(xtrain, ytrain)\n",
    "    \n",
    "print (clf.best_estimator_)\n",
    "print (clf.best_score_)"
   ]
  },
  {
   "cell_type": "code",
   "execution_count": 246,
   "metadata": {},
   "outputs": [
    {
     "name": "stdout",
     "output_type": "stream",
     "text": [
      "0.788232244686\n"
     ]
    }
   ],
   "source": [
    "model= AdaBoostClassifier(n_estimators=1000)\n",
    "model.fit(xtrain, ytrain)\n",
    "print (model.score(xtrain, ytrain))"
   ]
  },
  {
   "cell_type": "code",
   "execution_count": 247,
   "metadata": {},
   "outputs": [
    {
     "data": {
      "text/plain": [
       "0.78222013170272808"
      ]
     },
     "execution_count": 247,
     "metadata": {},
     "output_type": "execute_result"
    }
   ],
   "source": [
    "model.score(xtest,ytest)"
   ]
  },
  {
   "cell_type": "markdown",
   "metadata": {},
   "source": [
    "### This Ada Boosting Classifier model has an accuracy score of 78.22% on the testing data"
   ]
  },
  {
   "cell_type": "code",
   "execution_count": 248,
   "metadata": {},
   "outputs": [],
   "source": [
    "imp = model.feature_importances_ "
   ]
  },
  {
   "cell_type": "code",
   "execution_count": 249,
   "metadata": {},
   "outputs": [
    {
     "data": {
      "text/html": [
       "<div>\n",
       "<style scoped>\n",
       "    .dataframe tbody tr th:only-of-type {\n",
       "        vertical-align: middle;\n",
       "    }\n",
       "\n",
       "    .dataframe tbody tr th {\n",
       "        vertical-align: top;\n",
       "    }\n",
       "\n",
       "    .dataframe thead th {\n",
       "        text-align: right;\n",
       "    }\n",
       "</style>\n",
       "<table border=\"1\" class=\"dataframe\">\n",
       "  <thead>\n",
       "    <tr style=\"text-align: right;\">\n",
       "      <th></th>\n",
       "      <th>feature</th>\n",
       "      <th>Importance</th>\n",
       "    </tr>\n",
       "  </thead>\n",
       "  <tbody>\n",
       "    <tr>\n",
       "      <th>0</th>\n",
       "      <td>avg_dist</td>\n",
       "      <td>0.305</td>\n",
       "    </tr>\n",
       "    <tr>\n",
       "      <th>1</th>\n",
       "      <td>avg_rating_by_driver</td>\n",
       "      <td>0.048</td>\n",
       "    </tr>\n",
       "    <tr>\n",
       "      <th>2</th>\n",
       "      <td>avg_rating_of_driver</td>\n",
       "      <td>0.016</td>\n",
       "    </tr>\n",
       "    <tr>\n",
       "      <th>3</th>\n",
       "      <td>city</td>\n",
       "      <td>0.012</td>\n",
       "    </tr>\n",
       "    <tr>\n",
       "      <th>4</th>\n",
       "      <td>phone</td>\n",
       "      <td>0.002</td>\n",
       "    </tr>\n",
       "    <tr>\n",
       "      <th>5</th>\n",
       "      <td>surge_pct</td>\n",
       "      <td>0.179</td>\n",
       "    </tr>\n",
       "    <tr>\n",
       "      <th>6</th>\n",
       "      <td>trips_in_first_30_days</td>\n",
       "      <td>0.079</td>\n",
       "    </tr>\n",
       "    <tr>\n",
       "      <th>7</th>\n",
       "      <td>ultimate_black_user</td>\n",
       "      <td>0.002</td>\n",
       "    </tr>\n",
       "    <tr>\n",
       "      <th>8</th>\n",
       "      <td>weekday_pct</td>\n",
       "      <td>0.357</td>\n",
       "    </tr>\n",
       "  </tbody>\n",
       "</table>\n",
       "</div>"
      ],
      "text/plain": [
       "                  feature  Importance\n",
       "0                avg_dist       0.305\n",
       "1    avg_rating_by_driver       0.048\n",
       "2    avg_rating_of_driver       0.016\n",
       "3                    city       0.012\n",
       "4                   phone       0.002\n",
       "5               surge_pct       0.179\n",
       "6  trips_in_first_30_days       0.079\n",
       "7     ultimate_black_user       0.002\n",
       "8             weekday_pct       0.357"
      ]
     },
     "execution_count": 249,
     "metadata": {},
     "output_type": "execute_result"
    }
   ],
   "source": [
    "feat_import = pd.DataFrame()\n",
    "feat_import['feature'] = X.columns\n",
    "feat_import['Importance'] = imp\n",
    "feat_import"
   ]
  },
  {
   "cell_type": "markdown",
   "metadata": {},
   "source": [
    "The features found to have the highest importance on Retention Rates are \"weekday_pct\" (35.7%) and \"avg_dist\" (30.5%). \"surge_pct\" also had a significant level of influence (17.9%). To understand how exactly these variables affected retention, they will need to be analyzed in more detail, before Ultimate should act on the information. It may be possible to increase long-term ridership by offering incentives to users that are most likely to end usage.\n",
    "\n",
    "Two of the features included (\"phone\" and \"ultimate_black_user\") had <1% important on predicting Retention rates. It may improve the model to drop these two variables. "
   ]
  },
  {
   "cell_type": "markdown",
   "metadata": {},
   "source": [
    "Corrections/Further study:\n",
    "-  Feature Engineering - With categorical variables, it may be better to divide the features into multiple binary features (one for each class/label) in order to better pin point the effect of the feature.\n",
    "-  NaN values in \"phone\"- instead of being dropped, could have been filled with the same ratio of values for iPhone vs Android in existing data. Could have appropriately assigned filled values by building a model that used retention rate to fill \"phone\" values"
   ]
  },
  {
   "cell_type": "code",
   "execution_count": null,
   "metadata": {},
   "outputs": [],
   "source": []
  }
 ],
 "metadata": {
  "kernelspec": {
   "display_name": "Python 3",
   "language": "python",
   "name": "python3"
  },
  "language_info": {
   "codemirror_mode": {
    "name": "ipython",
    "version": 3
   },
   "file_extension": ".py",
   "mimetype": "text/x-python",
   "name": "python",
   "nbconvert_exporter": "python",
   "pygments_lexer": "ipython3",
   "version": "3.6.3"
  }
 },
 "nbformat": 4,
 "nbformat_minor": 2
}
